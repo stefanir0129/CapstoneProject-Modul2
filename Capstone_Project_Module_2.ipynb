{
  "cells": [
    {
      "cell_type": "markdown",
      "metadata": {
        "id": "view-in-github",
        "colab_type": "text"
      },
      "source": [
        "<a href=\"https://colab.research.google.com/github/stefanir0129/CapstoneProject-Modul2/blob/main/Capstone_Project_Module_2.ipynb\" target=\"_parent\"><img src=\"https://colab.research.google.com/assets/colab-badge.svg\" alt=\"Open In Colab\"/></a>"
      ]
    },
    {
      "cell_type": "markdown",
      "metadata": {
        "id": "ANhAFjMrc46Z"
      },
      "source": [
        "# Latar Belakang\n",
        "Sebuah perusahaan yang bergerak di bidang data, ingin merekrut *data scientist*. Perusahaan ini melakukan pelatihan dan melakukan perekrutan ke orang-orang yang berhasil menyelesaikan pelatihan tersebut. Banyak orang mendaftar ke pelatihan tersebut, tapi tidak semua yang ikut pelatihan berniat untuk pindah pekerjaan.   \n"
      ]
    },
    {
      "cell_type": "markdown",
      "metadata": {
        "id": "6mjDpIeUc46e"
      },
      "source": [
        "## Pernyataan Masalah\n",
        "Perusahaan ingin mengetahui **kandidat mana saja yang ingin bekerja di perusahaan mereka setelah training atau sedang mencari pekerjaan baru**. Informasi ini akan membantu perusahaan untuk mengurangi ongkos dan waktu training, meningkatkan kualitas dan membantu dalam mengelompokkan kandidat dalam training.\n",
        "\n",
        "Sebagai seorang *data analyst*, kita akan mencoba menjawab pertanyaan berikut:\n",
        "\n",
        "**Bagaimana karakteristik kandidat yang ingin pindah pekerjaan, terutama dibandingkan peserta yang tidak ingin pindah bekerja?**"
      ]
    },
    {
      "cell_type": "markdown",
      "metadata": {
        "id": "mJbSmV23c46j"
      },
      "source": [
        "# Data\n",
        "Untuk menjawab pertanyaan di atas, kita akan menganalisa data peserta yang sudah dikumpulkan oleh perusahaan. Dataset dapat diakses [di sini](https://www.kaggle.com/datasets/arashnic/hr-analytics-job-change-of-data-scientists?taskId=3015)."
      ]
    },
    {
      "cell_type": "code",
      "execution_count": null,
      "metadata": {
        "id": "QXhgagJ-c46m"
      },
      "outputs": [],
      "source": [
        "import pandas as pd\n",
        "import numpy as np\n",
        "import matplotlib.pyplot as plt\n",
        "import seaborn as sns\n",
        "import plotly.express as px\n",
        "from scipy.stats import normaltest, chi2_contingency, mannwhitneyu, ttest_ind\n",
        "\n",
        "import warnings\n",
        "warnings.filterwarnings(\"ignore\")"
      ]
    },
    {
      "cell_type": "markdown",
      "metadata": {
        "id": "4MXiDf_Sc46n"
      },
      "source": [
        "Dataset ini berisi informasi terkait demografis, edukasi dan pengalaman kerja kandidat yang diisi ketika peserta mendaftar untuk ikut pelatihan. Ada 14 kolom di dalam dataset hr_analytics, yaitu:  \n",
        "\n",
        "* enrollee_id : ID unik untuk tiap kandidat\n",
        "* city: kode untuk kota\n",
        "* city_ development _index : index perkembangan untuk kota (*scaled*)\n",
        "* gender: jenis kelamin dari kandidat\n",
        "* relevent_experience: pengalaman kerja kandidat yang relevan\n",
        "* enrolled_university: tipe kelas di kuliah yang diikuti, jika ada\n",
        "* education_level: pendidikan terakhir kandidat\n",
        "* major_discipline : jurusan pendidikan kandidat\n",
        "* experience: lama pengalaman bekerja kandidat dalam tahun\n",
        "* company_size: jumlah karyawan di perusahaan tempat kandidat sedang bekerja\n",
        "* company_type : tipe perusahaan tempat kandidat sedang bekerja\n",
        "* lastnewjob: berapa tahun sejak kandidat bekerja di perusahaan yang sekarang\n",
        "* training_hours: *training* yang sudah diselesaikan dalam jam\n",
        "* target: 0 – tidak mencari pekerjaan baru, 1 – sedang mencari pekerjaan baru  \n",
        "\n",
        "\n",
        "Berikut 5 baris teratas dan terbawah dari dataset hr_analitycs."
      ]
    },
    {
      "cell_type": "code",
      "execution_count": null,
      "metadata": {
        "id": "6sZFj9dRc46p",
        "outputId": "3d5dc369-cdce-42f6-dc16-0932ce1c52e9"
      },
      "outputs": [
        {
          "data": {
            "text/html": [
              "<div>\n",
              "<style scoped>\n",
              "    .dataframe tbody tr th:only-of-type {\n",
              "        vertical-align: middle;\n",
              "    }\n",
              "\n",
              "    .dataframe tbody tr th {\n",
              "        vertical-align: top;\n",
              "    }\n",
              "\n",
              "    .dataframe thead th {\n",
              "        text-align: right;\n",
              "    }\n",
              "</style>\n",
              "<table border=\"1\" class=\"dataframe\">\n",
              "  <thead>\n",
              "    <tr style=\"text-align: right;\">\n",
              "      <th></th>\n",
              "      <th>enrollee_id</th>\n",
              "      <th>city</th>\n",
              "      <th>city_development_index</th>\n",
              "      <th>gender</th>\n",
              "      <th>relevent_experience</th>\n",
              "      <th>enrolled_university</th>\n",
              "      <th>education_level</th>\n",
              "      <th>major_discipline</th>\n",
              "      <th>experience</th>\n",
              "      <th>company_size</th>\n",
              "      <th>company_type</th>\n",
              "      <th>last_new_job</th>\n",
              "      <th>training_hours</th>\n",
              "      <th>target</th>\n",
              "    </tr>\n",
              "  </thead>\n",
              "  <tbody>\n",
              "    <tr>\n",
              "      <th>0</th>\n",
              "      <td>8949</td>\n",
              "      <td>city_103</td>\n",
              "      <td>0.920</td>\n",
              "      <td>Male</td>\n",
              "      <td>Has relevent experience</td>\n",
              "      <td>no_enrollment</td>\n",
              "      <td>Graduate</td>\n",
              "      <td>STEM</td>\n",
              "      <td>&gt;20</td>\n",
              "      <td>NaN</td>\n",
              "      <td>NaN</td>\n",
              "      <td>1</td>\n",
              "      <td>36</td>\n",
              "      <td>1.0</td>\n",
              "    </tr>\n",
              "    <tr>\n",
              "      <th>1</th>\n",
              "      <td>29725</td>\n",
              "      <td>city_40</td>\n",
              "      <td>0.776</td>\n",
              "      <td>Male</td>\n",
              "      <td>No relevent experience</td>\n",
              "      <td>no_enrollment</td>\n",
              "      <td>Graduate</td>\n",
              "      <td>STEM</td>\n",
              "      <td>15</td>\n",
              "      <td>50-99</td>\n",
              "      <td>Pvt Ltd</td>\n",
              "      <td>&gt;4</td>\n",
              "      <td>47</td>\n",
              "      <td>0.0</td>\n",
              "    </tr>\n",
              "    <tr>\n",
              "      <th>2</th>\n",
              "      <td>11561</td>\n",
              "      <td>city_21</td>\n",
              "      <td>0.624</td>\n",
              "      <td>NaN</td>\n",
              "      <td>No relevent experience</td>\n",
              "      <td>Full time course</td>\n",
              "      <td>Graduate</td>\n",
              "      <td>STEM</td>\n",
              "      <td>5</td>\n",
              "      <td>NaN</td>\n",
              "      <td>NaN</td>\n",
              "      <td>never</td>\n",
              "      <td>83</td>\n",
              "      <td>0.0</td>\n",
              "    </tr>\n",
              "    <tr>\n",
              "      <th>3</th>\n",
              "      <td>33241</td>\n",
              "      <td>city_115</td>\n",
              "      <td>0.789</td>\n",
              "      <td>NaN</td>\n",
              "      <td>No relevent experience</td>\n",
              "      <td>NaN</td>\n",
              "      <td>Graduate</td>\n",
              "      <td>Business Degree</td>\n",
              "      <td>&lt;1</td>\n",
              "      <td>NaN</td>\n",
              "      <td>Pvt Ltd</td>\n",
              "      <td>never</td>\n",
              "      <td>52</td>\n",
              "      <td>1.0</td>\n",
              "    </tr>\n",
              "    <tr>\n",
              "      <th>4</th>\n",
              "      <td>666</td>\n",
              "      <td>city_162</td>\n",
              "      <td>0.767</td>\n",
              "      <td>Male</td>\n",
              "      <td>Has relevent experience</td>\n",
              "      <td>no_enrollment</td>\n",
              "      <td>Masters</td>\n",
              "      <td>STEM</td>\n",
              "      <td>&gt;20</td>\n",
              "      <td>50-99</td>\n",
              "      <td>Funded Startup</td>\n",
              "      <td>4</td>\n",
              "      <td>8</td>\n",
              "      <td>0.0</td>\n",
              "    </tr>\n",
              "  </tbody>\n",
              "</table>\n",
              "</div>"
            ],
            "text/plain": [
              "   enrollee_id      city  city_development_index gender  \\\n",
              "0  8949         city_103  0.920                   Male    \n",
              "1  29725        city_40   0.776                   Male    \n",
              "2  11561        city_21   0.624                   NaN     \n",
              "3  33241        city_115  0.789                   NaN     \n",
              "4  666          city_162  0.767                   Male    \n",
              "\n",
              "       relevent_experience enrolled_university education_level  \\\n",
              "0  Has relevent experience  no_enrollment       Graduate         \n",
              "1  No relevent experience   no_enrollment       Graduate         \n",
              "2  No relevent experience   Full time course    Graduate         \n",
              "3  No relevent experience   NaN                 Graduate         \n",
              "4  Has relevent experience  no_enrollment       Masters          \n",
              "\n",
              "  major_discipline experience company_size    company_type last_new_job  \\\n",
              "0  STEM             >20        NaN          NaN             1             \n",
              "1  STEM             15         50-99        Pvt Ltd         >4            \n",
              "2  STEM             5          NaN          NaN             never         \n",
              "3  Business Degree  <1         NaN          Pvt Ltd         never         \n",
              "4  STEM             >20        50-99        Funded Startup  4             \n",
              "\n",
              "   training_hours  target  \n",
              "0  36              1.0     \n",
              "1  47              0.0     \n",
              "2  83              0.0     \n",
              "3  52              1.0     \n",
              "4  8               0.0     "
            ]
          },
          "metadata": {},
          "output_type": "display_data"
        },
        {
          "data": {
            "text/html": [
              "<div>\n",
              "<style scoped>\n",
              "    .dataframe tbody tr th:only-of-type {\n",
              "        vertical-align: middle;\n",
              "    }\n",
              "\n",
              "    .dataframe tbody tr th {\n",
              "        vertical-align: top;\n",
              "    }\n",
              "\n",
              "    .dataframe thead th {\n",
              "        text-align: right;\n",
              "    }\n",
              "</style>\n",
              "<table border=\"1\" class=\"dataframe\">\n",
              "  <thead>\n",
              "    <tr style=\"text-align: right;\">\n",
              "      <th></th>\n",
              "      <th>enrollee_id</th>\n",
              "      <th>city</th>\n",
              "      <th>city_development_index</th>\n",
              "      <th>gender</th>\n",
              "      <th>relevent_experience</th>\n",
              "      <th>enrolled_university</th>\n",
              "      <th>education_level</th>\n",
              "      <th>major_discipline</th>\n",
              "      <th>experience</th>\n",
              "      <th>company_size</th>\n",
              "      <th>company_type</th>\n",
              "      <th>last_new_job</th>\n",
              "      <th>training_hours</th>\n",
              "      <th>target</th>\n",
              "    </tr>\n",
              "  </thead>\n",
              "  <tbody>\n",
              "    <tr>\n",
              "      <th>19153</th>\n",
              "      <td>7386</td>\n",
              "      <td>city_173</td>\n",
              "      <td>0.878</td>\n",
              "      <td>Male</td>\n",
              "      <td>No relevent experience</td>\n",
              "      <td>no_enrollment</td>\n",
              "      <td>Graduate</td>\n",
              "      <td>Humanities</td>\n",
              "      <td>14</td>\n",
              "      <td>NaN</td>\n",
              "      <td>NaN</td>\n",
              "      <td>1</td>\n",
              "      <td>42</td>\n",
              "      <td>1.0</td>\n",
              "    </tr>\n",
              "    <tr>\n",
              "      <th>19154</th>\n",
              "      <td>31398</td>\n",
              "      <td>city_103</td>\n",
              "      <td>0.920</td>\n",
              "      <td>Male</td>\n",
              "      <td>Has relevent experience</td>\n",
              "      <td>no_enrollment</td>\n",
              "      <td>Graduate</td>\n",
              "      <td>STEM</td>\n",
              "      <td>14</td>\n",
              "      <td>NaN</td>\n",
              "      <td>NaN</td>\n",
              "      <td>4</td>\n",
              "      <td>52</td>\n",
              "      <td>1.0</td>\n",
              "    </tr>\n",
              "    <tr>\n",
              "      <th>19155</th>\n",
              "      <td>24576</td>\n",
              "      <td>city_103</td>\n",
              "      <td>0.920</td>\n",
              "      <td>Male</td>\n",
              "      <td>Has relevent experience</td>\n",
              "      <td>no_enrollment</td>\n",
              "      <td>Graduate</td>\n",
              "      <td>STEM</td>\n",
              "      <td>&gt;20</td>\n",
              "      <td>50-99</td>\n",
              "      <td>Pvt Ltd</td>\n",
              "      <td>4</td>\n",
              "      <td>44</td>\n",
              "      <td>0.0</td>\n",
              "    </tr>\n",
              "    <tr>\n",
              "      <th>19156</th>\n",
              "      <td>5756</td>\n",
              "      <td>city_65</td>\n",
              "      <td>0.802</td>\n",
              "      <td>Male</td>\n",
              "      <td>Has relevent experience</td>\n",
              "      <td>no_enrollment</td>\n",
              "      <td>High School</td>\n",
              "      <td>NaN</td>\n",
              "      <td>&lt;1</td>\n",
              "      <td>500-999</td>\n",
              "      <td>Pvt Ltd</td>\n",
              "      <td>2</td>\n",
              "      <td>97</td>\n",
              "      <td>0.0</td>\n",
              "    </tr>\n",
              "    <tr>\n",
              "      <th>19157</th>\n",
              "      <td>23834</td>\n",
              "      <td>city_67</td>\n",
              "      <td>0.855</td>\n",
              "      <td>NaN</td>\n",
              "      <td>No relevent experience</td>\n",
              "      <td>no_enrollment</td>\n",
              "      <td>Primary School</td>\n",
              "      <td>NaN</td>\n",
              "      <td>2</td>\n",
              "      <td>NaN</td>\n",
              "      <td>NaN</td>\n",
              "      <td>1</td>\n",
              "      <td>127</td>\n",
              "      <td>0.0</td>\n",
              "    </tr>\n",
              "  </tbody>\n",
              "</table>\n",
              "</div>"
            ],
            "text/plain": [
              "       enrollee_id      city  city_development_index gender  \\\n",
              "19153  7386         city_173  0.878                   Male    \n",
              "19154  31398        city_103  0.920                   Male    \n",
              "19155  24576        city_103  0.920                   Male    \n",
              "19156  5756         city_65   0.802                   Male    \n",
              "19157  23834        city_67   0.855                   NaN     \n",
              "\n",
              "           relevent_experience enrolled_university education_level  \\\n",
              "19153  No relevent experience   no_enrollment       Graduate         \n",
              "19154  Has relevent experience  no_enrollment       Graduate         \n",
              "19155  Has relevent experience  no_enrollment       Graduate         \n",
              "19156  Has relevent experience  no_enrollment       High School      \n",
              "19157  No relevent experience   no_enrollment       Primary School   \n",
              "\n",
              "      major_discipline experience company_size company_type last_new_job  \\\n",
              "19153  Humanities       14         NaN          NaN          1             \n",
              "19154  STEM             14         NaN          NaN          4             \n",
              "19155  STEM             >20        50-99        Pvt Ltd      4             \n",
              "19156  NaN              <1         500-999      Pvt Ltd      2             \n",
              "19157  NaN              2          NaN          NaN          1             \n",
              "\n",
              "       training_hours  target  \n",
              "19153  42              1.0     \n",
              "19154  52              1.0     \n",
              "19155  44              0.0     \n",
              "19156  97              0.0     \n",
              "19157  127             0.0     "
            ]
          },
          "metadata": {},
          "output_type": "display_data"
        }
      ],
      "source": [
        "df=pd.read_csv('hr_analytics.csv')\n",
        "display(df.head(),df.tail())"
      ]
    },
    {
      "cell_type": "markdown",
      "metadata": {
        "id": "GWG6KMWLc46r"
      },
      "source": [
        "## Data Understanding and Cleaning\n",
        "Sebelum masuk ke dalam analisis, kita perlu mengenal dataset kita lebih jauh dalam tahapan *data understanding*. Dari proses ini, kita akan tahu anomali-anomali apa saja yang terdapat di dalam dataset kita dan perlu ditangani dalam tahapan *data cleaning*. Setiap penangan anomali yang dilakukan, akan disertai dengan justifikasi langkah yang diambil, baik secara *domain knowledge* maupun secara statistik.\n",
        "\n",
        "Pertama, mari kita lihat informasi umur dari dataset hr_analytics."
      ]
    },
    {
      "cell_type": "code",
      "execution_count": null,
      "metadata": {
        "id": "vP521rYrc46s",
        "outputId": "38e289bc-a95e-4b5a-99f0-7b3069badd17"
      },
      "outputs": [
        {
          "name": "stdout",
          "output_type": "stream",
          "text": [
            "Jumlah baris dan kolom di dataset df adalah (19158, 14)\n",
            "<class 'pandas.core.frame.DataFrame'>\n",
            "RangeIndex: 19158 entries, 0 to 19157\n",
            "Data columns (total 14 columns):\n",
            " #   Column                  Non-Null Count  Dtype  \n",
            "---  ------                  --------------  -----  \n",
            " 0   enrollee_id             19158 non-null  int64  \n",
            " 1   city                    19158 non-null  object \n",
            " 2   city_development_index  19158 non-null  float64\n",
            " 3   gender                  14650 non-null  object \n",
            " 4   relevent_experience     19158 non-null  object \n",
            " 5   enrolled_university     18772 non-null  object \n",
            " 6   education_level         18698 non-null  object \n",
            " 7   major_discipline        16345 non-null  object \n",
            " 8   experience              19093 non-null  object \n",
            " 9   company_size            13220 non-null  object \n",
            " 10  company_type            13018 non-null  object \n",
            " 11  last_new_job            18735 non-null  object \n",
            " 12  training_hours          19158 non-null  int64  \n",
            " 13  target                  19158 non-null  float64\n",
            "dtypes: float64(2), int64(2), object(10)\n",
            "memory usage: 2.0+ MB\n"
          ]
        }
      ],
      "source": [
        "print(f'Jumlah baris dan kolom di dataset df adalah {df.shape}')\n",
        "df.info()"
      ]
    },
    {
      "cell_type": "code",
      "execution_count": null,
      "metadata": {
        "id": "SmOKlfKbc46u",
        "outputId": "0d256cdc-664b-41bf-b60d-d9d65d5757fb"
      },
      "outputs": [
        {
          "data": {
            "text/html": [
              "<div>\n",
              "<style scoped>\n",
              "    .dataframe tbody tr th:only-of-type {\n",
              "        vertical-align: middle;\n",
              "    }\n",
              "\n",
              "    .dataframe tbody tr th {\n",
              "        vertical-align: top;\n",
              "    }\n",
              "\n",
              "    .dataframe thead th {\n",
              "        text-align: right;\n",
              "    }\n",
              "</style>\n",
              "<table border=\"1\" class=\"dataframe\">\n",
              "  <thead>\n",
              "    <tr style=\"text-align: right;\">\n",
              "      <th></th>\n",
              "      <th>enrollee_id</th>\n",
              "      <th>city_development_index</th>\n",
              "      <th>training_hours</th>\n",
              "      <th>target</th>\n",
              "    </tr>\n",
              "  </thead>\n",
              "  <tbody>\n",
              "    <tr>\n",
              "      <th>count</th>\n",
              "      <td>19158.000000</td>\n",
              "      <td>19158.000000</td>\n",
              "      <td>19158.000000</td>\n",
              "      <td>19158.000000</td>\n",
              "    </tr>\n",
              "    <tr>\n",
              "      <th>mean</th>\n",
              "      <td>16875.358179</td>\n",
              "      <td>0.828848</td>\n",
              "      <td>65.366896</td>\n",
              "      <td>0.249348</td>\n",
              "    </tr>\n",
              "    <tr>\n",
              "      <th>std</th>\n",
              "      <td>9616.292592</td>\n",
              "      <td>0.123362</td>\n",
              "      <td>60.058462</td>\n",
              "      <td>0.432647</td>\n",
              "    </tr>\n",
              "    <tr>\n",
              "      <th>min</th>\n",
              "      <td>1.000000</td>\n",
              "      <td>0.448000</td>\n",
              "      <td>1.000000</td>\n",
              "      <td>0.000000</td>\n",
              "    </tr>\n",
              "    <tr>\n",
              "      <th>25%</th>\n",
              "      <td>8554.250000</td>\n",
              "      <td>0.740000</td>\n",
              "      <td>23.000000</td>\n",
              "      <td>0.000000</td>\n",
              "    </tr>\n",
              "    <tr>\n",
              "      <th>50%</th>\n",
              "      <td>16982.500000</td>\n",
              "      <td>0.903000</td>\n",
              "      <td>47.000000</td>\n",
              "      <td>0.000000</td>\n",
              "    </tr>\n",
              "    <tr>\n",
              "      <th>75%</th>\n",
              "      <td>25169.750000</td>\n",
              "      <td>0.920000</td>\n",
              "      <td>88.000000</td>\n",
              "      <td>0.000000</td>\n",
              "    </tr>\n",
              "    <tr>\n",
              "      <th>max</th>\n",
              "      <td>33380.000000</td>\n",
              "      <td>0.949000</td>\n",
              "      <td>336.000000</td>\n",
              "      <td>1.000000</td>\n",
              "    </tr>\n",
              "  </tbody>\n",
              "</table>\n",
              "</div>"
            ],
            "text/plain": [
              "        enrollee_id  city_development_index  training_hours        target\n",
              "count  19158.000000  19158.000000            19158.000000    19158.000000\n",
              "mean   16875.358179  0.828848                65.366896       0.249348    \n",
              "std    9616.292592   0.123362                60.058462       0.432647    \n",
              "min    1.000000      0.448000                1.000000        0.000000    \n",
              "25%    8554.250000   0.740000                23.000000       0.000000    \n",
              "50%    16982.500000  0.903000                47.000000       0.000000    \n",
              "75%    25169.750000  0.920000                88.000000       0.000000    \n",
              "max    33380.000000  0.949000                336.000000      1.000000    "
            ]
          },
          "metadata": {},
          "output_type": "display_data"
        },
        {
          "data": {
            "text/html": [
              "<div>\n",
              "<style scoped>\n",
              "    .dataframe tbody tr th:only-of-type {\n",
              "        vertical-align: middle;\n",
              "    }\n",
              "\n",
              "    .dataframe tbody tr th {\n",
              "        vertical-align: top;\n",
              "    }\n",
              "\n",
              "    .dataframe thead th {\n",
              "        text-align: right;\n",
              "    }\n",
              "</style>\n",
              "<table border=\"1\" class=\"dataframe\">\n",
              "  <thead>\n",
              "    <tr style=\"text-align: right;\">\n",
              "      <th></th>\n",
              "      <th>city</th>\n",
              "      <th>gender</th>\n",
              "      <th>relevent_experience</th>\n",
              "      <th>enrolled_university</th>\n",
              "      <th>education_level</th>\n",
              "      <th>major_discipline</th>\n",
              "      <th>experience</th>\n",
              "      <th>company_size</th>\n",
              "      <th>company_type</th>\n",
              "      <th>last_new_job</th>\n",
              "    </tr>\n",
              "  </thead>\n",
              "  <tbody>\n",
              "    <tr>\n",
              "      <th>count</th>\n",
              "      <td>19158</td>\n",
              "      <td>14650</td>\n",
              "      <td>19158</td>\n",
              "      <td>18772</td>\n",
              "      <td>18698</td>\n",
              "      <td>16345</td>\n",
              "      <td>19093</td>\n",
              "      <td>13220</td>\n",
              "      <td>13018</td>\n",
              "      <td>18735</td>\n",
              "    </tr>\n",
              "    <tr>\n",
              "      <th>unique</th>\n",
              "      <td>123</td>\n",
              "      <td>3</td>\n",
              "      <td>2</td>\n",
              "      <td>3</td>\n",
              "      <td>5</td>\n",
              "      <td>6</td>\n",
              "      <td>22</td>\n",
              "      <td>8</td>\n",
              "      <td>6</td>\n",
              "      <td>6</td>\n",
              "    </tr>\n",
              "    <tr>\n",
              "      <th>top</th>\n",
              "      <td>city_103</td>\n",
              "      <td>Male</td>\n",
              "      <td>Has relevent experience</td>\n",
              "      <td>no_enrollment</td>\n",
              "      <td>Graduate</td>\n",
              "      <td>STEM</td>\n",
              "      <td>&gt;20</td>\n",
              "      <td>50-99</td>\n",
              "      <td>Pvt Ltd</td>\n",
              "      <td>1</td>\n",
              "    </tr>\n",
              "    <tr>\n",
              "      <th>freq</th>\n",
              "      <td>4355</td>\n",
              "      <td>13221</td>\n",
              "      <td>13792</td>\n",
              "      <td>13817</td>\n",
              "      <td>11598</td>\n",
              "      <td>14492</td>\n",
              "      <td>3286</td>\n",
              "      <td>3083</td>\n",
              "      <td>9817</td>\n",
              "      <td>8040</td>\n",
              "    </tr>\n",
              "  </tbody>\n",
              "</table>\n",
              "</div>"
            ],
            "text/plain": [
              "            city gender      relevent_experience enrolled_university  \\\n",
              "count   19158     14650  19158                    18772                \n",
              "unique  123       3      2                        3                    \n",
              "top     city_103  Male   Has relevent experience  no_enrollment        \n",
              "freq    4355      13221  13792                    13817                \n",
              "\n",
              "       education_level major_discipline experience company_size company_type  \\\n",
              "count   18698           16345            19093      13220        13018         \n",
              "unique  5               6                22         8            6             \n",
              "top     Graduate        STEM             >20        50-99        Pvt Ltd       \n",
              "freq    11598           14492            3286       3083         9817          \n",
              "\n",
              "       last_new_job  \n",
              "count   18735        \n",
              "unique  6            \n",
              "top     1            \n",
              "freq    8040         "
            ]
          },
          "metadata": {},
          "output_type": "display_data"
        }
      ],
      "source": [
        "display(df.describe(), df.describe(include='object'))"
      ]
    },
    {
      "cell_type": "code",
      "execution_count": null,
      "metadata": {
        "id": "aN-8ts-oc46w",
        "outputId": "55e70ad9-a522-48ae-dc6f-e2572494d832"
      },
      "outputs": [
        {
          "data": {
            "text/html": [
              "<div>\n",
              "<style scoped>\n",
              "    .dataframe tbody tr th:only-of-type {\n",
              "        vertical-align: middle;\n",
              "    }\n",
              "\n",
              "    .dataframe tbody tr th {\n",
              "        vertical-align: top;\n",
              "    }\n",
              "\n",
              "    .dataframe thead th {\n",
              "        text-align: right;\n",
              "    }\n",
              "</style>\n",
              "<table border=\"1\" class=\"dataframe\">\n",
              "  <thead>\n",
              "    <tr style=\"text-align: right;\">\n",
              "      <th></th>\n",
              "      <th>Column Name</th>\n",
              "      <th>Number of Unique</th>\n",
              "      <th>Unique Sample</th>\n",
              "    </tr>\n",
              "  </thead>\n",
              "  <tbody>\n",
              "    <tr>\n",
              "      <th>0</th>\n",
              "      <td>enrollee_id</td>\n",
              "      <td>19158</td>\n",
              "      <td>[8949, 29725, 11561, 33241, 666, 21651, 28806, 402, 27107, 699, 29452, 23853, 25619, 5826, 8722, 6588, 4167, 5764, 2156, 11399, 31972, 19061, 6491, 7041, 22767, 14505, 17139, 28476, 21538, 10408, 14928, 22293, 4324, 26966, 26494, 4866, 12726, 10164, 8612, 24659, 2547, 13854, 31654, 13643, 5590, 22452, 9006, 25987, 4476, 25103, 5568, 2195, 30533, 28512, 1023, 12253, 25296, 13238, 13478, 18578, 29975, 26516, 24690, 8433, 9572, 5878, 25695, 9645, 12730, 4830, 20970, 17271, 12731, 10908, 29117, 3686, 22683, 22134, 31765, 31449, 5987, 21762, 22070, 25413, 5902, 28403, 30937, 28751, 29290, 32401, 19128, 29036, 16869, 10497, 18099, 12081, 7364, 11184, 7016, 8695, ...]</td>\n",
              "    </tr>\n",
              "    <tr>\n",
              "      <th>1</th>\n",
              "      <td>city</td>\n",
              "      <td>123</td>\n",
              "      <td>[city_103, city_40, city_21, city_115, city_162, city_176, city_160, city_46, city_61, city_114, city_13, city_159, city_102, city_67, city_100, city_16, city_71, city_104, city_64, city_101, city_83, city_105, city_73, city_75, city_41, city_11, city_93, city_90, city_36, city_20, city_57, city_152, city_19, city_65, city_74, city_173, city_136, city_98, city_97, city_50, city_138, city_82, city_157, city_89, city_150, city_70, city_175, city_94, city_28, city_59, city_165, city_145, city_142, city_26, city_12, city_37, city_43, city_116, city_23, city_99, city_149, city_10, city_45, city_80, city_128, city_158, city_123, city_7, city_72, city_106, city_143, city_78, city_109, city_24, city_134, city_48, city_144, city_91, city_146, city_133, city_126, city_118, city_9, city_167, city_27, city_84, city_54, city_39, city_79, city_76, city_77, city_81, city_131, city_44, city_117, city_155, city_33, city_141, city_127, city_62, ...]</td>\n",
              "    </tr>\n",
              "    <tr>\n",
              "      <th>2</th>\n",
              "      <td>city_development_index</td>\n",
              "      <td>93</td>\n",
              "      <td>[0.92, 0.7759999999999999, 0.624, 0.789, 0.767, 0.764, 0.762, 0.913, 0.926, 0.8270000000000001, 0.843, 0.804, 0.855, 0.887, 0.91, 0.884, 0.924, 0.6659999999999999, 0.5579999999999999, 0.923, 0.794, 0.754, 0.939, 0.55, 0.865, 0.698, 0.893, 0.7959999999999999, 0.866, 0.682, 0.802, 0.579, 0.878, 0.897, 0.949, 0.925, 0.8959999999999999, 0.836, 0.693, 0.769, 0.775, 0.903, 0.555, 0.727, 0.64, 0.516, 0.743, 0.899, 0.915, 0.6890000000000001, 0.895, 0.89, 0.847, 0.527, 0.7659999999999999, 0.738, 0.647, 0.795, 0.74, 0.701, 0.493, 0.84, 0.691, 0.735, 0.742, 0.479, 0.722, 0.921, 0.848, 0.856, 0.898, 0.83, 0.73, 0.68, 0.725, 0.556, 0.448, 0.763, 0.745, 0.645, 0.7879999999999999, 0.78, 0.512, 0.7390000000000001, 0.563, 0.518, 0.8240000000000001, 0.487, 0.649, 0.7809999999999999, 0.625, 0.807, 0.664]</td>\n",
              "    </tr>\n",
              "    <tr>\n",
              "      <th>3</th>\n",
              "      <td>gender</td>\n",
              "      <td>3</td>\n",
              "      <td>[Male, nan, Female, Other]</td>\n",
              "    </tr>\n",
              "    <tr>\n",
              "      <th>4</th>\n",
              "      <td>relevent_experience</td>\n",
              "      <td>2</td>\n",
              "      <td>[Has relevent experience, No relevent experience]</td>\n",
              "    </tr>\n",
              "    <tr>\n",
              "      <th>5</th>\n",
              "      <td>enrolled_university</td>\n",
              "      <td>3</td>\n",
              "      <td>[no_enrollment, Full time course, nan, Part time course]</td>\n",
              "    </tr>\n",
              "    <tr>\n",
              "      <th>6</th>\n",
              "      <td>education_level</td>\n",
              "      <td>5</td>\n",
              "      <td>[Graduate, Masters, High School, nan, Phd, Primary School]</td>\n",
              "    </tr>\n",
              "    <tr>\n",
              "      <th>7</th>\n",
              "      <td>major_discipline</td>\n",
              "      <td>6</td>\n",
              "      <td>[STEM, Business Degree, nan, Arts, Humanities, No Major, Other]</td>\n",
              "    </tr>\n",
              "    <tr>\n",
              "      <th>8</th>\n",
              "      <td>experience</td>\n",
              "      <td>22</td>\n",
              "      <td>[&gt;20, 15, 5, &lt;1, 11, 13, 7, 17, 2, 16, 1, 4, 10, 14, 18, 19, 12, 3, 6, 9, 8, 20, nan]</td>\n",
              "    </tr>\n",
              "    <tr>\n",
              "      <th>9</th>\n",
              "      <td>company_size</td>\n",
              "      <td>8</td>\n",
              "      <td>[nan, 50-99, &lt;10, 10000+, 5000-9999, 1000-4999, 10/49, 100-500, 500-999]</td>\n",
              "    </tr>\n",
              "    <tr>\n",
              "      <th>10</th>\n",
              "      <td>company_type</td>\n",
              "      <td>6</td>\n",
              "      <td>[nan, Pvt Ltd, Funded Startup, Early Stage Startup, Other, Public Sector, NGO]</td>\n",
              "    </tr>\n",
              "    <tr>\n",
              "      <th>11</th>\n",
              "      <td>last_new_job</td>\n",
              "      <td>6</td>\n",
              "      <td>[1, &gt;4, never, 4, 3, 2, nan]</td>\n",
              "    </tr>\n",
              "    <tr>\n",
              "      <th>12</th>\n",
              "      <td>training_hours</td>\n",
              "      <td>241</td>\n",
              "      <td>[36, 47, 83, 52, 8, 24, 18, 46, 123, 32, 108, 23, 26, 106, 7, 132, 68, 50, 48, 65, 13, 22, 148, 72, 40, 141, 82, 145, 206, 152, 42, 14, 112, 87, 20, 21, 92, 102, 43, 45, 19, 90, 25, 15, 98, 142, 28, 228, 29, 12, 17, 35, 4, 136, 27, 74, 86, 75, 332, 140, 182, 172, 33, 34, 150, 160, 3, 2, 210, 101, 59, 260, 131, 109, 70, 51, 60, 164, 290, 133, 76, 156, 120, 100, 39, 55, 49, 6, 125, 326, 198, 11, 41, 114, 246, 81, 31, 84, 105, 38, ...]</td>\n",
              "    </tr>\n",
              "    <tr>\n",
              "      <th>13</th>\n",
              "      <td>target</td>\n",
              "      <td>2</td>\n",
              "      <td>[1.0, 0.0]</td>\n",
              "    </tr>\n",
              "  </tbody>\n",
              "</table>\n",
              "</div>"
            ],
            "text/plain": [
              "               Column Name  Number of Unique  \\\n",
              "0   enrollee_id             19158              \n",
              "1   city                    123                \n",
              "2   city_development_index  93                 \n",
              "3   gender                  3                  \n",
              "4   relevent_experience     2                  \n",
              "5   enrolled_university     3                  \n",
              "6   education_level         5                  \n",
              "7   major_discipline        6                  \n",
              "8   experience              22                 \n",
              "9   company_size            8                  \n",
              "10  company_type            6                  \n",
              "11  last_new_job            6                  \n",
              "12  training_hours          241                \n",
              "13  target                  2                  \n",
              "\n",
              "                                                                                                                                                                                                                                                                                                                                                                                                                                                                                                                                                                                                                                                                                                                                                                                                                                                                                                                                                                        Unique Sample  \n",
              "0   [8949, 29725, 11561, 33241, 666, 21651, 28806, 402, 27107, 699, 29452, 23853, 25619, 5826, 8722, 6588, 4167, 5764, 2156, 11399, 31972, 19061, 6491, 7041, 22767, 14505, 17139, 28476, 21538, 10408, 14928, 22293, 4324, 26966, 26494, 4866, 12726, 10164, 8612, 24659, 2547, 13854, 31654, 13643, 5590, 22452, 9006, 25987, 4476, 25103, 5568, 2195, 30533, 28512, 1023, 12253, 25296, 13238, 13478, 18578, 29975, 26516, 24690, 8433, 9572, 5878, 25695, 9645, 12730, 4830, 20970, 17271, 12731, 10908, 29117, 3686, 22683, 22134, 31765, 31449, 5987, 21762, 22070, 25413, 5902, 28403, 30937, 28751, 29290, 32401, 19128, 29036, 16869, 10497, 18099, 12081, 7364, 11184, 7016, 8695, ...]                                                                                                                                                                                                                                                                                      \n",
              "1   [city_103, city_40, city_21, city_115, city_162, city_176, city_160, city_46, city_61, city_114, city_13, city_159, city_102, city_67, city_100, city_16, city_71, city_104, city_64, city_101, city_83, city_105, city_73, city_75, city_41, city_11, city_93, city_90, city_36, city_20, city_57, city_152, city_19, city_65, city_74, city_173, city_136, city_98, city_97, city_50, city_138, city_82, city_157, city_89, city_150, city_70, city_175, city_94, city_28, city_59, city_165, city_145, city_142, city_26, city_12, city_37, city_43, city_116, city_23, city_99, city_149, city_10, city_45, city_80, city_128, city_158, city_123, city_7, city_72, city_106, city_143, city_78, city_109, city_24, city_134, city_48, city_144, city_91, city_146, city_133, city_126, city_118, city_9, city_167, city_27, city_84, city_54, city_39, city_79, city_76, city_77, city_81, city_131, city_44, city_117, city_155, city_33, city_141, city_127, city_62, ...]  \n",
              "2   [0.92, 0.7759999999999999, 0.624, 0.789, 0.767, 0.764, 0.762, 0.913, 0.926, 0.8270000000000001, 0.843, 0.804, 0.855, 0.887, 0.91, 0.884, 0.924, 0.6659999999999999, 0.5579999999999999, 0.923, 0.794, 0.754, 0.939, 0.55, 0.865, 0.698, 0.893, 0.7959999999999999, 0.866, 0.682, 0.802, 0.579, 0.878, 0.897, 0.949, 0.925, 0.8959999999999999, 0.836, 0.693, 0.769, 0.775, 0.903, 0.555, 0.727, 0.64, 0.516, 0.743, 0.899, 0.915, 0.6890000000000001, 0.895, 0.89, 0.847, 0.527, 0.7659999999999999, 0.738, 0.647, 0.795, 0.74, 0.701, 0.493, 0.84, 0.691, 0.735, 0.742, 0.479, 0.722, 0.921, 0.848, 0.856, 0.898, 0.83, 0.73, 0.68, 0.725, 0.556, 0.448, 0.763, 0.745, 0.645, 0.7879999999999999, 0.78, 0.512, 0.7390000000000001, 0.563, 0.518, 0.8240000000000001, 0.487, 0.649, 0.7809999999999999, 0.625, 0.807, 0.664]                                                                                                                                                       \n",
              "3   [Male, nan, Female, Other]                                                                                                                                                                                                                                                                                                                                                                                                                                                                                                                                                                                                                                                                                                                                                                                                                                                                                                                                                         \n",
              "4   [Has relevent experience, No relevent experience]                                                                                                                                                                                                                                                                                                                                                                                                                                                                                                                                                                                                                                                                                                                                                                                                                                                                                                                                  \n",
              "5   [no_enrollment, Full time course, nan, Part time course]                                                                                                                                                                                                                                                                                                                                                                                                                                                                                                                                                                                                                                                                                                                                                                                                                                                                                                                           \n",
              "6   [Graduate, Masters, High School, nan, Phd, Primary School]                                                                                                                                                                                                                                                                                                                                                                                                                                                                                                                                                                                                                                                                                                                                                                                                                                                                                                                         \n",
              "7   [STEM, Business Degree, nan, Arts, Humanities, No Major, Other]                                                                                                                                                                                                                                                                                                                                                                                                                                                                                                                                                                                                                                                                                                                                                                                                                                                                                                                    \n",
              "8   [>20, 15, 5, <1, 11, 13, 7, 17, 2, 16, 1, 4, 10, 14, 18, 19, 12, 3, 6, 9, 8, 20, nan]                                                                                                                                                                                                                                                                                                                                                                                                                                                                                                                                                                                                                                                                                                                                                                                                                                                                                              \n",
              "9   [nan, 50-99, <10, 10000+, 5000-9999, 1000-4999, 10/49, 100-500, 500-999]                                                                                                                                                                                                                                                                                                                                                                                                                                                                                                                                                                                                                                                                                                                                                                                                                                                                                                           \n",
              "10  [nan, Pvt Ltd, Funded Startup, Early Stage Startup, Other, Public Sector, NGO]                                                                                                                                                                                                                                                                                                                                                                                                                                                                                                                                                                                                                                                                                                                                                                                                                                                                                                     \n",
              "11  [1, >4, never, 4, 3, 2, nan]                                                                                                                                                                                                                                                                                                                                                                                                                                                                                                                                                                                                                                                                                                                                                                                                                                                                                                                                                       \n",
              "12  [36, 47, 83, 52, 8, 24, 18, 46, 123, 32, 108, 23, 26, 106, 7, 132, 68, 50, 48, 65, 13, 22, 148, 72, 40, 141, 82, 145, 206, 152, 42, 14, 112, 87, 20, 21, 92, 102, 43, 45, 19, 90, 25, 15, 98, 142, 28, 228, 29, 12, 17, 35, 4, 136, 27, 74, 86, 75, 332, 140, 182, 172, 33, 34, 150, 160, 3, 2, 210, 101, 59, 260, 131, 109, 70, 51, 60, 164, 290, 133, 76, 156, 120, 100, 39, 55, 49, 6, 125, 326, 198, 11, 41, 114, 246, 81, 31, 84, 105, 38, ...]                                                                                                                                                                                                                                                                                                                                                                                                                                                                                                                               \n",
              "13  [1.0, 0.0]                                                                                                                                                                                                                                                                                                                                                                                                                                                                                                                                                                                                                                                                                                                                                                                                                                                                                                                                                                         "
            ]
          },
          "execution_count": 108,
          "metadata": {},
          "output_type": "execute_result"
        }
      ],
      "source": [
        "pd.set_option('display.max_colwidth', -1)\n",
        "# data uni di tiap kolom\n",
        "listItem = []\n",
        "for col in df.columns :\n",
        "    listItem.append( [col, df[col].nunique(), df[col].unique()])\n",
        "\n",
        "tabel1Desc = pd.DataFrame(columns=['Column Name', 'Number of Unique', 'Unique Sample'],\n",
        "                     data=listItem)\n",
        "tabel1Desc"
      ]
    },
    {
      "cell_type": "markdown",
      "metadata": {
        "id": "nX_K53sUc46x"
      },
      "source": [
        "Secara umum, kita bisa melihat bahwa:\n",
        "* dataset hr_analytics memiliki 19 kolom dan 19.158 baris\n",
        "* beberapa kolom, yaitu, `gender`, `enrolled_university`, `education_level`, `major_discipline`, `company_size`, `company_type` dan `last_new_job` memiliki data kosong. Data kosong pada kolom-kolom tersebut diwakili dengan data NaN.\n",
        "* kolom `enrollee_id` berisikan id unik untuk tiap peserta, sehingga tidak relevan dalam analisis dan bisa dihapus saja.\n",
        "* kolom `experience` memiliki data tipe object. Dari penjelasannya, kolom ini seharusnya berisikan data numerik. Mari kita cek lebih detil.\n",
        "* kolom `training_hours` memiliki range data yang cukup besar, dari 1-336. Dengan asumsi training dilakukam full time - 8 jam sehari, maka butuh waktu 42 hari untuk mencapai 336 hari. Angka ini masih cukup masuk akal, sehingga tidak perlu dilakukan apa-aoa terhadap kolom ini.\n",
        "* ada salah ketik di kolom `company_size`. Nilai 10/49 seharusnya 10-49.\n",
        "* beberapa data kategorik ordinal, bisa dibuatkan kolom baru berdasarkan ranking kategorinya untuk memudahkan analisis (opsional)"
      ]
    },
    {
      "cell_type": "markdown",
      "metadata": {
        "id": "JdlaqRbsc46y"
      },
      "source": [
        "### Missing Value"
      ]
    },
    {
      "cell_type": "code",
      "execution_count": null,
      "metadata": {
        "id": "gVBGUPTEc46z",
        "outputId": "b1f46d33-c5fe-43d3-978b-4d777d391f26"
      },
      "outputs": [
        {
          "data": {
            "text/plain": [
              "enrollee_id               0.000000 \n",
              "city                      0.000000 \n",
              "city_development_index    0.000000 \n",
              "gender                    23.530640\n",
              "relevent_experience       0.000000 \n",
              "enrolled_university       2.014824 \n",
              "education_level           2.401086 \n",
              "major_discipline          14.683161\n",
              "experience                0.339284 \n",
              "company_size              30.994885\n",
              "company_type              32.049274\n",
              "last_new_job              2.207955 \n",
              "training_hours            0.000000 \n",
              "target                    0.000000 \n",
              "dtype: float64"
            ]
          },
          "execution_count": 109,
          "metadata": {},
          "output_type": "execute_result"
        }
      ],
      "source": [
        "# persentase missing value di tiap kolom\n",
        "df.isna().sum()/df.shape[0]*100"
      ]
    },
    {
      "cell_type": "code",
      "execution_count": null,
      "metadata": {
        "id": "3wV_h8y8c460",
        "outputId": "3b219b9f-b6b0-46ce-b2e9-e81093da9eaa"
      },
      "outputs": [
        {
          "data": {
            "text/plain": [
              "<matplotlib.axes._subplots.AxesSubplot at 0x1ca4730a130>"
            ]
          },
          "execution_count": 110,
          "metadata": {},
          "output_type": "execute_result"
        },
        {
          "data": {
            "image/png": "[encoded data removed]",
            "text/plain": [
              "<Figure size 720x720 with 2 Axes>"
            ]
          },
          "metadata": {
            "needs_background": "light"
          },
          "output_type": "display_data"
        }
      ],
      "source": [
        "# Sebaran missing value di dalam data\n",
        "plt.figure(figsize=(10,10))\n",
        "sns.heatmap(df[['gender','company_size','company_type','major_discipline','enrolled_university','education_level','experience','last_new_job']].isna())"
      ]
    },
    {
      "cell_type": "markdown",
      "metadata": {
        "id": "kMzpxTMuc461"
      },
      "source": [
        "Secara garis besar:  \n",
        "* *missing value* di kolom `gender`, `experience`, `company_size` dan `company_type` memiliki proporsi yang cukup tinggi (>10%), dengan missing value di kolom `company_type` mencapai 32.05%.\n",
        "* *missing value* di kolom `company_size` dan `company_type` memiliki sebaran yang terlihat berkaitan, jika data di `company_size` kosong, maka kemungkinan besar data di `company_type` juga kosong.  \n",
        "\n",
        "Ada 2 cara untuk menangani *missing value*:\n",
        "* pertama, menghapus baris/kolom yang berisi *missing value*. Cara ini tidak disarankan dalam kasus kita, karena jumlah missing value yang tergolong cukup tinggi (sampai 32%).\n",
        "* kedua, mengisi data yang hilang. Cara ini lebih disarankan. Ada beberapa metode yang bisa digunakan untuk mengisi missing value, cara yang paling baik adalah dengan mengisi data yang hilang dengan nilai sebenarnya, atau sedekat mungkin dengan nilai asli. Dalam kasus ini, kita akan mencoba mengisi *missing value* berdasarkan kolom lain yang secara domain knowledge atau secara statistik berkaitan dengan kolom yang memiliki *missing value*. Jika masih ada kolom yang tidak bisa diisi, barulah kita mengisi dengan angka *mean, median* atau *modus*. Menghapus data akan menjadi opsi terakhir."
      ]
    },
    {
      "cell_type": "markdown",
      "metadata": {
        "id": "6FLyvppyc462"
      },
      "source": [
        "Kita sudah melihat gambaran kasar anomali di dalam data kita, sekarang, mari kita lihat dan tangani tiap-tiap anomali secara lebih jauh.  \n",
        "\n",
        "#### `company_size` dan `company_type`\n",
        "Sebelum memulai, mari kita ubah data '10/49' di kolom `company_size`menjadi '10-49'."
      ]
    },
    {
      "cell_type": "code",
      "execution_count": null,
      "metadata": {
        "id": "Ca2rvYFGc462",
        "outputId": "f8ceda16-b6d9-4925-e215-1cdd8689e089"
      },
      "outputs": [
        {
          "data": {
            "text/plain": [
              "50-99        3083\n",
              "100-500      2571\n",
              "10000+       2019\n",
              "10/49        1471\n",
              "1000-4999    1328\n",
              "<10          1308\n",
              "500-999      877 \n",
              "5000-9999    563 \n",
              "Name: company_size, dtype: int64"
            ]
          },
          "execution_count": 111,
          "metadata": {},
          "output_type": "execute_result"
        }
      ],
      "source": [
        "df['company_size'].value_counts()\n"
      ]
    },
    {
      "cell_type": "code",
      "execution_count": null,
      "metadata": {
        "id": "0Zj8Cq3Kc464"
      },
      "outputs": [],
      "source": [
        "df.loc[df['company_size']=='10/49','company_size']='10-49'"
      ]
    },
    {
      "cell_type": "code",
      "execution_count": null,
      "metadata": {
        "id": "063XSp9Ic464",
        "outputId": "70511316-7b29-4f18-dd6b-e3ab6e1df463"
      },
      "outputs": [
        {
          "data": {
            "text/plain": [
              "50-99        3083\n",
              "100-500      2571\n",
              "10000+       2019\n",
              "10-49        1471\n",
              "1000-4999    1328\n",
              "<10          1308\n",
              "500-999      877 \n",
              "5000-9999    563 \n",
              "Name: company_size, dtype: int64"
            ]
          },
          "execution_count": 113,
          "metadata": {},
          "output_type": "execute_result"
        }
      ],
      "source": [
        "df['company_size'].value_counts()\n",
        "#data 10/49 sudah menjadi 10-49"
      ]
    },
    {
      "cell_type": "markdown",
      "metadata": {
        "id": "4iD_Qv5cc465"
      },
      "source": [
        "Dari analisis di atas, kita sudah tau bahwa *missing value* `company_size` dan `company_type` saling berkaitan. Maka, kita akan memutuskan cara pengisian kedua kolom ini secara bersamaan.  "
      ]
    },
    {
      "cell_type": "code",
      "execution_count": null,
      "metadata": {
        "id": "8XaIFKk0c465",
        "outputId": "91a14a37-8538-4d6b-e77a-e9c6163fedc6"
      },
      "outputs": [
        {
          "data": {
            "text/plain": [
              "company_size    5938\n",
              "company_type    6140\n",
              "dtype: int64"
            ]
          },
          "execution_count": 114,
          "metadata": {},
          "output_type": "execute_result"
        }
      ],
      "source": [
        "# jumlah missing value di kolom 'company_size' dan 'company_type'\n",
        "df[['company_size', 'company_type']].isna().sum()"
      ]
    },
    {
      "cell_type": "markdown",
      "metadata": {
        "id": "uDYzizqsc466"
      },
      "source": [
        "Terdapat 5.938 data kosong di kolom `company_size` dan 6.140 di kolom `company_type`.\n",
        "Pertama, kita akan coba melihat, apakah data-data kosong di kolom `company_size` dan `company_type` berasal dari kandidat yg memang sedang tidak bekerja/masih kuliah?"
      ]
    },
    {
      "cell_type": "code",
      "execution_count": null,
      "metadata": {
        "id": "eA1I_dbXc467",
        "outputId": "77ad4b74-9f9c-4256-d069-f4625f7ff7d7"
      },
      "outputs": [
        {
          "data": {
            "text/plain": [
              "no_enrollment       3556\n",
              "Full time course    1993\n",
              "Part time course    349 \n",
              "Name: enrolled_university, dtype: int64"
            ]
          },
          "metadata": {},
          "output_type": "display_data"
        },
        {
          "data": {
            "text/plain": [
              "no_enrollment       3307\n",
              "Full time course    2079\n",
              "Part time course    315 \n",
              "Name: enrolled_university, dtype: int64"
            ]
          },
          "metadata": {},
          "output_type": "display_data"
        }
      ],
      "source": [
        "# jumlah kandidat dengan data kosong di 'company_size' dan 'company_type' berdasarkan 'enrolled_university'\n",
        "display(df[df['company_type'].isna()]['enrolled_university'].value_counts(),\n",
        "df[df['company_size'].isna()]['enrolled_university'].value_counts())"
      ]
    },
    {
      "cell_type": "markdown",
      "metadata": {
        "id": "cdttVyffc467"
      },
      "source": [
        "Memang ada sebagian kandidat yang sedang berkuliah *full time*. Kita bisa berasumsi bahwa kandidat yang sedang berkuliah *full time*, tentunya sedang tidak bekerja, sehingga wajar mereka tidak mengisi data, yang berkaitan dengan perusahaan. Untuk itu, kita bisa **membuat kategory baru, _not available_, untuk mengisi data kosong di kolom `company_size` dan `company_type` dari kandidat yang sedang kuliah _full time_**\n",
        "\n"
      ]
    },
    {
      "cell_type": "code",
      "execution_count": null,
      "metadata": {
        "id": "9dQskDZ2c468"
      },
      "outputs": [],
      "source": [
        "# mengisi data kosong dengan isi 'Full time course' pada 'enrolled_university' di kolom 'company_size' dan 'company_type'\n",
        "df.loc[(df['company_size'].isna())&(df['company_type'].isna())&(df['enrolled_university']=='Full time course'),['company_size', 'company_type']]='not available'"
      ]
    },
    {
      "cell_type": "code",
      "execution_count": null,
      "metadata": {
        "id": "-73pWjU_c468",
        "outputId": "0c6930cb-f6d3-466f-9b43-bc7e0888e945"
      },
      "outputs": [
        {
          "data": {
            "text/plain": [
              "company_size    4092\n",
              "company_type    4294\n",
              "dtype: int64"
            ]
          },
          "execution_count": 117,
          "metadata": {},
          "output_type": "execute_result"
        }
      ],
      "source": [
        "# jumlah data kosong setelah pengisian\n",
        "df[['company_size', 'company_type']].isna().sum()"
      ]
    },
    {
      "cell_type": "markdown",
      "metadata": {
        "id": "JMchxyD1c469"
      },
      "source": [
        "Sekarang, tersisa 4.092 data kosong di kolom `company_size` dan 4.294 di `company_type`.\n",
        "\n",
        "Untuk, sisa datanya, kita coba pendekatan lain. Mari kita cross tabulasi dari `company size` berdasarkan kolom `city` dan `company type` berdasarkan `company size`."
      ]
    },
    {
      "cell_type": "code",
      "execution_count": null,
      "metadata": {
        "id": "Spichep3c469",
        "outputId": "1c39ec9b-d1a2-4409-c790-a39e9468794b"
      },
      "outputs": [
        {
          "data": {
            "text/html": [
              "<div>\n",
              "<style scoped>\n",
              "    .dataframe tbody tr th:only-of-type {\n",
              "        vertical-align: middle;\n",
              "    }\n",
              "\n",
              "    .dataframe tbody tr th {\n",
              "        vertical-align: top;\n",
              "    }\n",
              "\n",
              "    .dataframe thead th {\n",
              "        text-align: right;\n",
              "    }\n",
              "</style>\n",
              "<table border=\"1\" class=\"dataframe\">\n",
              "  <thead>\n",
              "    <tr style=\"text-align: right;\">\n",
              "      <th>company_type</th>\n",
              "      <th>Early Stage Startup</th>\n",
              "      <th>Funded Startup</th>\n",
              "      <th>NGO</th>\n",
              "      <th>Other</th>\n",
              "      <th>Public Sector</th>\n",
              "      <th>Pvt Ltd</th>\n",
              "      <th>not available</th>\n",
              "    </tr>\n",
              "    <tr>\n",
              "      <th>city</th>\n",
              "      <th></th>\n",
              "      <th></th>\n",
              "      <th></th>\n",
              "      <th></th>\n",
              "      <th></th>\n",
              "      <th></th>\n",
              "      <th></th>\n",
              "    </tr>\n",
              "  </thead>\n",
              "  <tbody>\n",
              "    <tr>\n",
              "      <th>city_1</th>\n",
              "      <td>0.000000</td>\n",
              "      <td>0.047619</td>\n",
              "      <td>0.000000</td>\n",
              "      <td>0.000000</td>\n",
              "      <td>0.095238</td>\n",
              "      <td>0.619048</td>\n",
              "      <td>0.238095</td>\n",
              "    </tr>\n",
              "    <tr>\n",
              "      <th>city_10</th>\n",
              "      <td>0.039474</td>\n",
              "      <td>0.092105</td>\n",
              "      <td>0.039474</td>\n",
              "      <td>0.000000</td>\n",
              "      <td>0.092105</td>\n",
              "      <td>0.671053</td>\n",
              "      <td>0.065789</td>\n",
              "    </tr>\n",
              "    <tr>\n",
              "      <th>city_100</th>\n",
              "      <td>0.010989</td>\n",
              "      <td>0.038462</td>\n",
              "      <td>0.010989</td>\n",
              "      <td>0.005495</td>\n",
              "      <td>0.093407</td>\n",
              "      <td>0.670330</td>\n",
              "      <td>0.170330</td>\n",
              "    </tr>\n",
              "    <tr>\n",
              "      <th>city_101</th>\n",
              "      <td>0.166667</td>\n",
              "      <td>0.000000</td>\n",
              "      <td>0.018519</td>\n",
              "      <td>0.000000</td>\n",
              "      <td>0.018519</td>\n",
              "      <td>0.611111</td>\n",
              "      <td>0.185185</td>\n",
              "    </tr>\n",
              "    <tr>\n",
              "      <th>city_102</th>\n",
              "      <td>0.023148</td>\n",
              "      <td>0.032407</td>\n",
              "      <td>0.018519</td>\n",
              "      <td>0.000000</td>\n",
              "      <td>0.046296</td>\n",
              "      <td>0.777778</td>\n",
              "      <td>0.101852</td>\n",
              "    </tr>\n",
              "    <tr>\n",
              "      <th>...</th>\n",
              "      <td>...</td>\n",
              "      <td>...</td>\n",
              "      <td>...</td>\n",
              "      <td>...</td>\n",
              "      <td>...</td>\n",
              "      <td>...</td>\n",
              "      <td>...</td>\n",
              "    </tr>\n",
              "    <tr>\n",
              "      <th>city_93</th>\n",
              "      <td>0.100000</td>\n",
              "      <td>0.150000</td>\n",
              "      <td>0.000000</td>\n",
              "      <td>0.000000</td>\n",
              "      <td>0.050000</td>\n",
              "      <td>0.600000</td>\n",
              "      <td>0.100000</td>\n",
              "    </tr>\n",
              "    <tr>\n",
              "      <th>city_94</th>\n",
              "      <td>0.181818</td>\n",
              "      <td>0.000000</td>\n",
              "      <td>0.000000</td>\n",
              "      <td>0.000000</td>\n",
              "      <td>0.090909</td>\n",
              "      <td>0.727273</td>\n",
              "      <td>0.000000</td>\n",
              "    </tr>\n",
              "    <tr>\n",
              "      <th>city_97</th>\n",
              "      <td>0.050633</td>\n",
              "      <td>0.012658</td>\n",
              "      <td>0.012658</td>\n",
              "      <td>0.012658</td>\n",
              "      <td>0.063291</td>\n",
              "      <td>0.746835</td>\n",
              "      <td>0.101266</td>\n",
              "    </tr>\n",
              "    <tr>\n",
              "      <th>city_98</th>\n",
              "      <td>0.047619</td>\n",
              "      <td>0.063492</td>\n",
              "      <td>0.000000</td>\n",
              "      <td>0.000000</td>\n",
              "      <td>0.126984</td>\n",
              "      <td>0.714286</td>\n",
              "      <td>0.047619</td>\n",
              "    </tr>\n",
              "    <tr>\n",
              "      <th>city_99</th>\n",
              "      <td>0.026316</td>\n",
              "      <td>0.078947</td>\n",
              "      <td>0.026316</td>\n",
              "      <td>0.013158</td>\n",
              "      <td>0.118421</td>\n",
              "      <td>0.592105</td>\n",
              "      <td>0.144737</td>\n",
              "    </tr>\n",
              "  </tbody>\n",
              "</table>\n",
              "<p>122 rows × 7 columns</p>\n",
              "</div>"
            ],
            "text/plain": [
              "company_type  Early Stage Startup  Funded Startup       NGO     Other  \\\n",
              "city                                                                    \n",
              "city_1        0.000000             0.047619        0.000000  0.000000   \n",
              "city_10       0.039474             0.092105        0.039474  0.000000   \n",
              "city_100      0.010989             0.038462        0.010989  0.005495   \n",
              "city_101      0.166667             0.000000        0.018519  0.000000   \n",
              "city_102      0.023148             0.032407        0.018519  0.000000   \n",
              "...                ...                  ...             ...       ...   \n",
              "city_93       0.100000             0.150000        0.000000  0.000000   \n",
              "city_94       0.181818             0.000000        0.000000  0.000000   \n",
              "city_97       0.050633             0.012658        0.012658  0.012658   \n",
              "city_98       0.047619             0.063492        0.000000  0.000000   \n",
              "city_99       0.026316             0.078947        0.026316  0.013158   \n",
              "\n",
              "company_type  Public Sector   Pvt Ltd  not available  \n",
              "city                                                  \n",
              "city_1        0.095238       0.619048  0.238095       \n",
              "city_10       0.092105       0.671053  0.065789       \n",
              "city_100      0.093407       0.670330  0.170330       \n",
              "city_101      0.018519       0.611111  0.185185       \n",
              "city_102      0.046296       0.777778  0.101852       \n",
              "...                ...            ...       ...       \n",
              "city_93       0.050000       0.600000  0.100000       \n",
              "city_94       0.090909       0.727273  0.000000       \n",
              "city_97       0.063291       0.746835  0.101266       \n",
              "city_98       0.126984       0.714286  0.047619       \n",
              "city_99       0.118421       0.592105  0.144737       \n",
              "\n",
              "[122 rows x 7 columns]"
            ]
          },
          "execution_count": 118,
          "metadata": {},
          "output_type": "execute_result"
        }
      ],
      "source": [
        "# proporsi perusahaan berdasarkan  `company type` dan `city`\n",
        "pd.crosstab(df['city'],df['company_type'],normalize='index')"
      ]
    },
    {
      "cell_type": "code",
      "execution_count": null,
      "metadata": {
        "id": "8vNLV40yc46-",
        "outputId": "2a9f8c88-dbbb-410c-a57a-619b76ac975e"
      },
      "outputs": [
        {
          "data": {
            "text/html": [
              "<div>\n",
              "<style scoped>\n",
              "    .dataframe tbody tr th:only-of-type {\n",
              "        vertical-align: middle;\n",
              "    }\n",
              "\n",
              "    .dataframe tbody tr th {\n",
              "        vertical-align: top;\n",
              "    }\n",
              "\n",
              "    .dataframe thead th {\n",
              "        text-align: right;\n",
              "    }\n",
              "</style>\n",
              "<table border=\"1\" class=\"dataframe\">\n",
              "  <thead>\n",
              "    <tr style=\"text-align: right;\">\n",
              "      <th>company_size</th>\n",
              "      <th>10-49</th>\n",
              "      <th>100-500</th>\n",
              "      <th>1000-4999</th>\n",
              "      <th>10000+</th>\n",
              "      <th>50-99</th>\n",
              "      <th>500-999</th>\n",
              "      <th>5000-9999</th>\n",
              "      <th>&lt;10</th>\n",
              "      <th>not available</th>\n",
              "    </tr>\n",
              "    <tr>\n",
              "      <th>company_type</th>\n",
              "      <th></th>\n",
              "      <th></th>\n",
              "      <th></th>\n",
              "      <th></th>\n",
              "      <th></th>\n",
              "      <th></th>\n",
              "      <th></th>\n",
              "      <th></th>\n",
              "      <th></th>\n",
              "    </tr>\n",
              "  </thead>\n",
              "  <tbody>\n",
              "    <tr>\n",
              "      <th>Early Stage Startup</th>\n",
              "      <td>0.293333</td>\n",
              "      <td>0.045000</td>\n",
              "      <td>0.000000</td>\n",
              "      <td>0.000000</td>\n",
              "      <td>0.181667</td>\n",
              "      <td>0.003333</td>\n",
              "      <td>0.000000</td>\n",
              "      <td>0.476667</td>\n",
              "      <td>0.0</td>\n",
              "    </tr>\n",
              "    <tr>\n",
              "      <th>Funded Startup</th>\n",
              "      <td>0.193970</td>\n",
              "      <td>0.215075</td>\n",
              "      <td>0.000000</td>\n",
              "      <td>0.000000</td>\n",
              "      <td>0.391960</td>\n",
              "      <td>0.054271</td>\n",
              "      <td>0.000000</td>\n",
              "      <td>0.144724</td>\n",
              "      <td>0.0</td>\n",
              "    </tr>\n",
              "    <tr>\n",
              "      <th>NGO</th>\n",
              "      <td>0.064646</td>\n",
              "      <td>0.351515</td>\n",
              "      <td>0.147475</td>\n",
              "      <td>0.074747</td>\n",
              "      <td>0.155556</td>\n",
              "      <td>0.074747</td>\n",
              "      <td>0.058586</td>\n",
              "      <td>0.072727</td>\n",
              "      <td>0.0</td>\n",
              "    </tr>\n",
              "    <tr>\n",
              "      <th>Other</th>\n",
              "      <td>0.106195</td>\n",
              "      <td>0.176991</td>\n",
              "      <td>0.132743</td>\n",
              "      <td>0.141593</td>\n",
              "      <td>0.159292</td>\n",
              "      <td>0.097345</td>\n",
              "      <td>0.061947</td>\n",
              "      <td>0.123894</td>\n",
              "      <td>0.0</td>\n",
              "    </tr>\n",
              "    <tr>\n",
              "      <th>Public Sector</th>\n",
              "      <td>0.052058</td>\n",
              "      <td>0.182809</td>\n",
              "      <td>0.199758</td>\n",
              "      <td>0.181598</td>\n",
              "      <td>0.140436</td>\n",
              "      <td>0.105327</td>\n",
              "      <td>0.095642</td>\n",
              "      <td>0.042373</td>\n",
              "      <td>0.0</td>\n",
              "    </tr>\n",
              "    <tr>\n",
              "      <th>Pvt Ltd</th>\n",
              "      <td>0.096695</td>\n",
              "      <td>0.194772</td>\n",
              "      <td>0.107959</td>\n",
              "      <td>0.184784</td>\n",
              "      <td>0.228562</td>\n",
              "      <td>0.066093</td>\n",
              "      <td>0.043779</td>\n",
              "      <td>0.077356</td>\n",
              "      <td>0.0</td>\n",
              "    </tr>\n",
              "    <tr>\n",
              "      <th>not available</th>\n",
              "      <td>0.000000</td>\n",
              "      <td>0.000000</td>\n",
              "      <td>0.000000</td>\n",
              "      <td>0.000000</td>\n",
              "      <td>0.000000</td>\n",
              "      <td>0.000000</td>\n",
              "      <td>0.000000</td>\n",
              "      <td>0.000000</td>\n",
              "      <td>1.0</td>\n",
              "    </tr>\n",
              "  </tbody>\n",
              "</table>\n",
              "</div>"
            ],
            "text/plain": [
              "company_size            10-49   100-500  1000-4999    10000+     50-99  \\\n",
              "company_type                                                             \n",
              "Early Stage Startup  0.293333  0.045000  0.000000   0.000000  0.181667   \n",
              "Funded Startup       0.193970  0.215075  0.000000   0.000000  0.391960   \n",
              "NGO                  0.064646  0.351515  0.147475   0.074747  0.155556   \n",
              "Other                0.106195  0.176991  0.132743   0.141593  0.159292   \n",
              "Public Sector        0.052058  0.182809  0.199758   0.181598  0.140436   \n",
              "Pvt Ltd              0.096695  0.194772  0.107959   0.184784  0.228562   \n",
              "not available        0.000000  0.000000  0.000000   0.000000  0.000000   \n",
              "\n",
              "company_size          500-999  5000-9999       <10  not available  \n",
              "company_type                                                       \n",
              "Early Stage Startup  0.003333  0.000000   0.476667  0.0            \n",
              "Funded Startup       0.054271  0.000000   0.144724  0.0            \n",
              "NGO                  0.074747  0.058586   0.072727  0.0            \n",
              "Other                0.097345  0.061947   0.123894  0.0            \n",
              "Public Sector        0.105327  0.095642   0.042373  0.0            \n",
              "Pvt Ltd              0.066093  0.043779   0.077356  0.0            \n",
              "not available        0.000000  0.000000   0.000000  1.0            "
            ]
          },
          "execution_count": 119,
          "metadata": {},
          "output_type": "execute_result"
        }
      ],
      "source": [
        "# proporsi perusahaan berdasarkan  `company type` dan `company size``\n",
        "pd.crosstab(df['company_type'],df['company_size'],normalize='index')"
      ]
    },
    {
      "cell_type": "code",
      "execution_count": null,
      "metadata": {
        "id": "5gWTrxFcc46-",
        "outputId": "bc850995-469a-4bce-e94b-dedfc7f8a681"
      },
      "outputs": [
        {
          "data": {
            "text/plain": [
              "company_type\n",
              "Early Stage Startup    <10          \n",
              "Funded Startup         50-99        \n",
              "NGO                    100-500      \n",
              "Other                  100-500      \n",
              "Public Sector          1000-4999    \n",
              "Pvt Ltd                50-99        \n",
              "not available          not available\n",
              "Name: top, dtype: object"
            ]
          },
          "execution_count": 120,
          "metadata": {},
          "output_type": "execute_result"
        }
      ],
      "source": [
        "# modus company_size berdasarkan company_type\n",
        "df.groupby(['company_type']).describe(include='object')['company_size']['top']"
      ]
    },
    {
      "cell_type": "markdown",
      "metadata": {
        "id": "neX3naRkc46-"
      },
      "source": [
        "Dari hasil cross tabulasi di atas, dan berdasarkan *domain knowledge*, kita akan mencoba mengisi sisa data kosong di kedua kolom dengan pendekatan berikut:\n",
        "* **mengisi `company size` berdasarkan kolom `city`**. Secara logika, kota-kota dengan populasi besar akan cenderung memiliki perusahaan dengan jumlah karyawan yang banyak juga. Kita tidak bisa membuktikan asumsi ini dengan data, karena tidak ada datanya, namun, dari hasil **cross** tabulasi di atas, bisa dilihat bahwa proporsi `company size` cukup acak berdasarkan kotanya.\n",
        "\n",
        "* setelah kolom `company size` terisi, kita akan **mengisi `company type` berdasarkan `company size`**. Dari hasil **cross** tabulasi, bisa dilihat bahwa tiap-tiap tipe perusahaan memiliki kecenderungan jumlah karyawan yang bervariasi, contoh, perusahaan startup cenderung memiliki jumlah karyawan di bawah 100, sementara perusahaan *public sector* cenderung memiliki karyawan berjumlah > 1000.  \n",
        "\n",
        "Pengisian data dengan pendekatan ini diharapkan tidak mengganggu distribusi data yang ada."
      ]
    },
    {
      "cell_type": "code",
      "execution_count": null,
      "metadata": {
        "id": "_eJhpmq3c46_",
        "outputId": "ece85176-e4d7-401b-c7b7-b02dcc498027"
      },
      "outputs": [
        {
          "data": {
            "text/plain": [
              "50-99            0.204633\n",
              "100-500          0.170649\n",
              "10000+           0.134010\n",
              "not available    0.122528\n",
              "10-49            0.097637\n",
              "1000-4999        0.088145\n",
              "<10              0.086818\n",
              "500-999          0.058211\n",
              "5000-9999        0.037369\n",
              "Name: company_size, dtype: float64"
            ]
          },
          "metadata": {},
          "output_type": "display_data"
        },
        {
          "data": {
            "text/plain": [
              "Pvt Ltd                0.660455\n",
              "not available          0.124193\n",
              "Funded Startup         0.067344\n",
              "Public Sector          0.064249\n",
              "Early Stage Startup    0.040568\n",
              "NGO                    0.035051\n",
              "Other                  0.008140\n",
              "Name: company_type, dtype: float64"
            ]
          },
          "metadata": {},
          "output_type": "display_data"
        }
      ],
      "source": [
        "# proporsi kategori2 di kolom `company type` dan `company size`\n",
        "display(df['company_size'].value_counts()/df['company_size'].dropna().shape[0],\n",
        "df['company_type'].value_counts()/df['company_type'].dropna().shape[0])"
      ]
    },
    {
      "cell_type": "code",
      "execution_count": null,
      "metadata": {
        "id": "eU8rYauwc47A"
      },
      "outputs": [],
      "source": [
        "# index data kosong di kolom company_size\n",
        "index_nan=df.loc[df['company_size'].isna()].index"
      ]
    },
    {
      "cell_type": "code",
      "execution_count": null,
      "metadata": {
        "id": "Kf9n-G-Ec47C"
      },
      "outputs": [],
      "source": [
        "# mengisi data kosong di kolom company_size dengan modus berdasarkan city\n",
        "df['company_size']=df.groupby('city')['company_size'].apply(lambda x: x.fillna(x.describe(include='object')['top']))\n"
      ]
    },
    {
      "cell_type": "code",
      "execution_count": null,
      "metadata": {
        "id": "poIjQd0-c47E",
        "outputId": "ab70a443-5587-4b4a-809a-2bd3966d636c"
      },
      "outputs": [
        {
          "data": {
            "text/plain": [
              "50-99            2285\n",
              "10000+           1047\n",
              "not available    351 \n",
              "100-500          312 \n",
              "10-49            67  \n",
              "<10              13  \n",
              "1000-4999        12  \n",
              "Name: company_size, dtype: int64"
            ]
          },
          "execution_count": 124,
          "metadata": {},
          "output_type": "execute_result"
        }
      ],
      "source": [
        "# pengecekkan sebaran data yang mengisi data kosong di kolom company_size\n",
        "df.loc[index_nan]['company_size'].value_counts()"
      ]
    },
    {
      "cell_type": "code",
      "execution_count": null,
      "metadata": {
        "id": "9Q0a8ninc47E"
      },
      "outputs": [],
      "source": [
        "# index data kosong di kolom company_type\n",
        "index_nan=df.loc[df['company_type'].isna()].index"
      ]
    },
    {
      "cell_type": "code",
      "execution_count": null,
      "metadata": {
        "id": "0OrpHgNSc47F"
      },
      "outputs": [],
      "source": [
        "# mengisi data kosong di kolom company_type dengan modus berdasarkan company_size\n",
        "df['company_type']=df.groupby('company_size')['company_type'].apply(lambda x: x.fillna(x.describe(include='object')['top']))"
      ]
    },
    {
      "cell_type": "code",
      "execution_count": null,
      "metadata": {
        "id": "s6mE8IDrc47F",
        "outputId": "468525e9-3613-425f-9d35-cda962b605d6"
      },
      "outputs": [
        {
          "data": {
            "text/plain": [
              "Pvt Ltd          3982\n",
              "not available    308 \n",
              "Name: company_type, dtype: int64"
            ]
          },
          "execution_count": 127,
          "metadata": {},
          "output_type": "execute_result"
        }
      ],
      "source": [
        "# pengecekkan sebaran data yang mengisi data kosong di kolom company_type\n",
        "df.loc[index_nan]['company_type'].value_counts()"
      ]
    },
    {
      "cell_type": "code",
      "execution_count": null,
      "metadata": {
        "id": "_bfY82c7c47G",
        "outputId": "9e23a990-f616-477a-97e4-848e25c09e99"
      },
      "outputs": [
        {
          "data": {
            "text/plain": [
              "50-99            0.280196\n",
              "10000+           0.160038\n",
              "100-500          0.150485\n",
              "not available    0.114678\n",
              "10-49            0.080280\n",
              "1000-4999        0.069945\n",
              "<10              0.068953\n",
              "500-999          0.045777\n",
              "5000-9999        0.029387\n",
              "Name: company_size, dtype: float64"
            ]
          },
          "metadata": {},
          "output_type": "display_data"
        },
        {
          "data": {
            "text/plain": [
              "Pvt Ltd                0.720221\n",
              "not available          0.112433\n",
              "Funded Startup         0.052250\n",
              "Public Sector          0.049849\n",
              "Early Stage Startup    0.031475\n",
              "NGO                    0.027195\n",
              "Other                  0.006316\n",
              "Name: company_type, dtype: float64"
            ]
          },
          "metadata": {},
          "output_type": "display_data"
        }
      ],
      "source": [
        "# proporsi data di kolom company_size dan company_type setelah pengisian data kosong\n",
        "display(df['company_size'].value_counts()/df.shape[0], df['company_type'].value_counts()/df.shape[0])\n",
        "# dapat dilihat ada perubahan proporsi, tapi masih bisa diterima"
      ]
    },
    {
      "cell_type": "code",
      "execution_count": null,
      "metadata": {
        "id": "FqPJGgGtc47H",
        "outputId": "118c123b-4dc4-4257-98a7-bfb4b80064c5"
      },
      "outputs": [
        {
          "data": {
            "text/plain": [
              "company_size    5\n",
              "company_type    5\n",
              "dtype: int64"
            ]
          },
          "execution_count": 129,
          "metadata": {},
          "output_type": "execute_result"
        }
      ],
      "source": [
        "#pengecekkan ulang data kosong\n",
        "df[['company_size', 'company_type']].isna().sum()"
      ]
    },
    {
      "cell_type": "markdown",
      "metadata": {
        "id": "HEY3jeaqc47H"
      },
      "source": [
        "Bisa dilihat, ternyata masih ada 5 data kosong setelah pengisian. Mari kita cek."
      ]
    },
    {
      "cell_type": "code",
      "execution_count": null,
      "metadata": {
        "id": "jJhq1odIc47I",
        "outputId": "03fd850a-9b36-4a07-89ff-46d9174d1bfe"
      },
      "outputs": [
        {
          "data": {
            "text/html": [
              "<div>\n",
              "<style scoped>\n",
              "    .dataframe tbody tr th:only-of-type {\n",
              "        vertical-align: middle;\n",
              "    }\n",
              "\n",
              "    .dataframe tbody tr th {\n",
              "        vertical-align: top;\n",
              "    }\n",
              "\n",
              "    .dataframe thead th {\n",
              "        text-align: right;\n",
              "    }\n",
              "</style>\n",
              "<table border=\"1\" class=\"dataframe\">\n",
              "  <thead>\n",
              "    <tr style=\"text-align: right;\">\n",
              "      <th></th>\n",
              "      <th>enrollee_id</th>\n",
              "      <th>city</th>\n",
              "      <th>city_development_index</th>\n",
              "      <th>gender</th>\n",
              "      <th>relevent_experience</th>\n",
              "      <th>enrolled_university</th>\n",
              "      <th>education_level</th>\n",
              "      <th>major_discipline</th>\n",
              "      <th>experience</th>\n",
              "      <th>company_size</th>\n",
              "      <th>company_type</th>\n",
              "      <th>last_new_job</th>\n",
              "      <th>training_hours</th>\n",
              "      <th>target</th>\n",
              "    </tr>\n",
              "  </thead>\n",
              "  <tbody>\n",
              "    <tr>\n",
              "      <th>3035</th>\n",
              "      <td>5373</td>\n",
              "      <td>city_140</td>\n",
              "      <td>0.856</td>\n",
              "      <td>Male</td>\n",
              "      <td>No relevent experience</td>\n",
              "      <td>no_enrollment</td>\n",
              "      <td>High School</td>\n",
              "      <td>NaN</td>\n",
              "      <td>1</td>\n",
              "      <td>NaN</td>\n",
              "      <td>NaN</td>\n",
              "      <td>never</td>\n",
              "      <td>26</td>\n",
              "      <td>0.0</td>\n",
              "    </tr>\n",
              "    <tr>\n",
              "      <th>13204</th>\n",
              "      <td>22169</td>\n",
              "      <td>city_31</td>\n",
              "      <td>0.807</td>\n",
              "      <td>NaN</td>\n",
              "      <td>Has relevent experience</td>\n",
              "      <td>no_enrollment</td>\n",
              "      <td>Graduate</td>\n",
              "      <td>STEM</td>\n",
              "      <td>&gt;20</td>\n",
              "      <td>NaN</td>\n",
              "      <td>NaN</td>\n",
              "      <td>4</td>\n",
              "      <td>37</td>\n",
              "      <td>0.0</td>\n",
              "    </tr>\n",
              "    <tr>\n",
              "      <th>15909</th>\n",
              "      <td>20619</td>\n",
              "      <td>city_31</td>\n",
              "      <td>0.807</td>\n",
              "      <td>Female</td>\n",
              "      <td>No relevent experience</td>\n",
              "      <td>no_enrollment</td>\n",
              "      <td>Masters</td>\n",
              "      <td>STEM</td>\n",
              "      <td>5</td>\n",
              "      <td>NaN</td>\n",
              "      <td>NaN</td>\n",
              "      <td>1</td>\n",
              "      <td>94</td>\n",
              "      <td>0.0</td>\n",
              "    </tr>\n",
              "    <tr>\n",
              "      <th>16725</th>\n",
              "      <td>14899</td>\n",
              "      <td>city_31</td>\n",
              "      <td>0.807</td>\n",
              "      <td>Male</td>\n",
              "      <td>No relevent experience</td>\n",
              "      <td>no_enrollment</td>\n",
              "      <td>Masters</td>\n",
              "      <td>STEM</td>\n",
              "      <td>10</td>\n",
              "      <td>NaN</td>\n",
              "      <td>NaN</td>\n",
              "      <td>1</td>\n",
              "      <td>30</td>\n",
              "      <td>1.0</td>\n",
              "    </tr>\n",
              "    <tr>\n",
              "      <th>17358</th>\n",
              "      <td>5924</td>\n",
              "      <td>city_31</td>\n",
              "      <td>0.807</td>\n",
              "      <td>Male</td>\n",
              "      <td>Has relevent experience</td>\n",
              "      <td>no_enrollment</td>\n",
              "      <td>Graduate</td>\n",
              "      <td>STEM</td>\n",
              "      <td>&gt;20</td>\n",
              "      <td>NaN</td>\n",
              "      <td>NaN</td>\n",
              "      <td>1</td>\n",
              "      <td>37</td>\n",
              "      <td>0.0</td>\n",
              "    </tr>\n",
              "  </tbody>\n",
              "</table>\n",
              "</div>"
            ],
            "text/plain": [
              "       enrollee_id      city  city_development_index  gender  \\\n",
              "3035   5373         city_140  0.856                   Male     \n",
              "13204  22169        city_31   0.807                   NaN      \n",
              "15909  20619        city_31   0.807                   Female   \n",
              "16725  14899        city_31   0.807                   Male     \n",
              "17358  5924         city_31   0.807                   Male     \n",
              "\n",
              "           relevent_experience enrolled_university education_level  \\\n",
              "3035   No relevent experience   no_enrollment       High School      \n",
              "13204  Has relevent experience  no_enrollment       Graduate         \n",
              "15909  No relevent experience   no_enrollment       Masters          \n",
              "16725  No relevent experience   no_enrollment       Masters          \n",
              "17358  Has relevent experience  no_enrollment       Graduate         \n",
              "\n",
              "      major_discipline experience company_size company_type last_new_job  \\\n",
              "3035   NaN              1          NaN          NaN          never         \n",
              "13204  STEM             >20        NaN          NaN          4             \n",
              "15909  STEM             5          NaN          NaN          1             \n",
              "16725  STEM             10         NaN          NaN          1             \n",
              "17358  STEM             >20        NaN          NaN          1             \n",
              "\n",
              "       training_hours  target  \n",
              "3035   26              0.0     \n",
              "13204  37              0.0     \n",
              "15909  94              0.0     \n",
              "16725  30              1.0     \n",
              "17358  37              0.0     "
            ]
          },
          "execution_count": 130,
          "metadata": {},
          "output_type": "execute_result"
        }
      ],
      "source": [
        "df[df['company_size'].isna()]"
      ]
    },
    {
      "cell_type": "code",
      "execution_count": null,
      "metadata": {
        "id": "MPHMw5gnc47I",
        "outputId": "801587a7-a16b-4403-8726-d1b7fe4a7855"
      },
      "outputs": [
        {
          "data": {
            "text/html": [
              "<div>\n",
              "<style scoped>\n",
              "    .dataframe tbody tr th:only-of-type {\n",
              "        vertical-align: middle;\n",
              "    }\n",
              "\n",
              "    .dataframe tbody tr th {\n",
              "        vertical-align: top;\n",
              "    }\n",
              "\n",
              "    .dataframe thead th {\n",
              "        text-align: right;\n",
              "    }\n",
              "</style>\n",
              "<table border=\"1\" class=\"dataframe\">\n",
              "  <thead>\n",
              "    <tr style=\"text-align: right;\">\n",
              "      <th></th>\n",
              "      <th>enrollee_id</th>\n",
              "      <th>city</th>\n",
              "      <th>city_development_index</th>\n",
              "      <th>gender</th>\n",
              "      <th>relevent_experience</th>\n",
              "      <th>enrolled_university</th>\n",
              "      <th>education_level</th>\n",
              "      <th>major_discipline</th>\n",
              "      <th>experience</th>\n",
              "      <th>company_size</th>\n",
              "      <th>company_type</th>\n",
              "      <th>last_new_job</th>\n",
              "      <th>training_hours</th>\n",
              "      <th>target</th>\n",
              "    </tr>\n",
              "  </thead>\n",
              "  <tbody>\n",
              "    <tr>\n",
              "      <th>13204</th>\n",
              "      <td>22169</td>\n",
              "      <td>city_31</td>\n",
              "      <td>0.807</td>\n",
              "      <td>NaN</td>\n",
              "      <td>Has relevent experience</td>\n",
              "      <td>no_enrollment</td>\n",
              "      <td>Graduate</td>\n",
              "      <td>STEM</td>\n",
              "      <td>&gt;20</td>\n",
              "      <td>NaN</td>\n",
              "      <td>NaN</td>\n",
              "      <td>4</td>\n",
              "      <td>37</td>\n",
              "      <td>0.0</td>\n",
              "    </tr>\n",
              "    <tr>\n",
              "      <th>15909</th>\n",
              "      <td>20619</td>\n",
              "      <td>city_31</td>\n",
              "      <td>0.807</td>\n",
              "      <td>Female</td>\n",
              "      <td>No relevent experience</td>\n",
              "      <td>no_enrollment</td>\n",
              "      <td>Masters</td>\n",
              "      <td>STEM</td>\n",
              "      <td>5</td>\n",
              "      <td>NaN</td>\n",
              "      <td>NaN</td>\n",
              "      <td>1</td>\n",
              "      <td>94</td>\n",
              "      <td>0.0</td>\n",
              "    </tr>\n",
              "    <tr>\n",
              "      <th>16725</th>\n",
              "      <td>14899</td>\n",
              "      <td>city_31</td>\n",
              "      <td>0.807</td>\n",
              "      <td>Male</td>\n",
              "      <td>No relevent experience</td>\n",
              "      <td>no_enrollment</td>\n",
              "      <td>Masters</td>\n",
              "      <td>STEM</td>\n",
              "      <td>10</td>\n",
              "      <td>NaN</td>\n",
              "      <td>NaN</td>\n",
              "      <td>1</td>\n",
              "      <td>30</td>\n",
              "      <td>1.0</td>\n",
              "    </tr>\n",
              "    <tr>\n",
              "      <th>17358</th>\n",
              "      <td>5924</td>\n",
              "      <td>city_31</td>\n",
              "      <td>0.807</td>\n",
              "      <td>Male</td>\n",
              "      <td>Has relevent experience</td>\n",
              "      <td>no_enrollment</td>\n",
              "      <td>Graduate</td>\n",
              "      <td>STEM</td>\n",
              "      <td>&gt;20</td>\n",
              "      <td>NaN</td>\n",
              "      <td>NaN</td>\n",
              "      <td>1</td>\n",
              "      <td>37</td>\n",
              "      <td>0.0</td>\n",
              "    </tr>\n",
              "  </tbody>\n",
              "</table>\n",
              "</div>"
            ],
            "text/plain": [
              "       enrollee_id     city  city_development_index  gender  \\\n",
              "13204  22169        city_31  0.807                   NaN      \n",
              "15909  20619        city_31  0.807                   Female   \n",
              "16725  14899        city_31  0.807                   Male     \n",
              "17358  5924         city_31  0.807                   Male     \n",
              "\n",
              "           relevent_experience enrolled_university education_level  \\\n",
              "13204  Has relevent experience  no_enrollment       Graduate         \n",
              "15909  No relevent experience   no_enrollment       Masters          \n",
              "16725  No relevent experience   no_enrollment       Masters          \n",
              "17358  Has relevent experience  no_enrollment       Graduate         \n",
              "\n",
              "      major_discipline experience company_size company_type last_new_job  \\\n",
              "13204  STEM             >20        NaN          NaN          4             \n",
              "15909  STEM             5          NaN          NaN          1             \n",
              "16725  STEM             10         NaN          NaN          1             \n",
              "17358  STEM             >20        NaN          NaN          1             \n",
              "\n",
              "       training_hours  target  \n",
              "13204  37              0.0     \n",
              "15909  94              0.0     \n",
              "16725  30              1.0     \n",
              "17358  37              0.0     "
            ]
          },
          "execution_count": 131,
          "metadata": {},
          "output_type": "execute_result"
        }
      ],
      "source": [
        "df[df['city']=='city_31']"
      ]
    },
    {
      "cell_type": "markdown",
      "metadata": {
        "id": "gl62hFf7c47J"
      },
      "source": [
        "Kelima data yang masih kosong berasal dari 2 kota dengan semua baris di kolom `company_size` dan `company_type` tidak terisi. Karena hanya ada 5 data, dan memang tidak bisa kita isi, mari kita hapus kelima data ini."
      ]
    },
    {
      "cell_type": "code",
      "execution_count": null,
      "metadata": {
        "id": "e_Yf5_-Rc47J"
      },
      "outputs": [],
      "source": [
        "#drop 5 baris yang masin kosong di kolom company_size dan company_type\n",
        "df.dropna(subset=['company_size', 'company_type'],inplace=True)"
      ]
    },
    {
      "cell_type": "code",
      "execution_count": null,
      "metadata": {
        "id": "lJRqY-ZGc47J",
        "outputId": "87aa5dc3-7466-4697-f318-a288f6f35280"
      },
      "outputs": [
        {
          "data": {
            "text/plain": [
              "company_size    0\n",
              "company_type    0\n",
              "dtype: int64"
            ]
          },
          "execution_count": 133,
          "metadata": {},
          "output_type": "execute_result"
        }
      ],
      "source": [
        "# cek baris kosong, semua baris yang ada sudah terisi\n",
        "df[['company_size', 'company_type']].isna().sum()"
      ]
    },
    {
      "cell_type": "markdown",
      "metadata": {
        "id": "Y8f32Ai7c47J"
      },
      "source": [
        "Sekarang, data kosong sudah tidak ada, kita bisa membuat kolom baru berdasarkan `company_size`yang berisikan ranking dari kategorinya, untuk mempermudah analisis. Tapi, langkah tersebut tidak akan dimasukkan dalam contoh ini."
      ]
    },
    {
      "cell_type": "code",
      "execution_count": null,
      "metadata": {
        "id": "h-J-U16bc47K"
      },
      "outputs": [],
      "source": []
    },
    {
      "cell_type": "markdown",
      "metadata": {
        "id": "PYnnVoKYc47K"
      },
      "source": [
        "#### major_discipline & education_level\n",
        "Selanjutnya, mari kita cek kolom `major_discipline` dan `education_level`. Kedua kolom ini tentunya saling berhubungan, dengan kolom `major_discipline` memiliki *missing value* sebanyak 14.68% (2813) dan `education_level` 2.4% (460).\n",
        "\n"
      ]
    },
    {
      "cell_type": "code",
      "execution_count": null,
      "metadata": {
        "id": "QUIz_J-Ic47K",
        "outputId": "cf1fb858-14ab-4f27-88bb-49e5a3b958e9"
      },
      "outputs": [
        {
          "data": {
            "text/plain": [
              "major_discipline    2812\n",
              "education_level     460 \n",
              "dtype: int64"
            ]
          },
          "execution_count": 134,
          "metadata": {},
          "output_type": "execute_result"
        }
      ],
      "source": [
        "df[['major_discipline','education_level']].isna().sum()"
      ]
    },
    {
      "cell_type": "markdown",
      "metadata": {
        "id": "H5DW4aBOc47L"
      },
      "source": [
        "Pertama, mari kita cek, apa `education_level` dari data dengan kolom `major_discipline` yang kosong."
      ]
    },
    {
      "cell_type": "code",
      "execution_count": null,
      "metadata": {
        "id": "j7wYFi8Oc47M",
        "outputId": "05b0d15a-a9cd-4c0a-a43b-024d5443459e"
      },
      "outputs": [
        {
          "data": {
            "text/plain": [
              "High School       2016\n",
              "Primary School    308 \n",
              "Graduate          22  \n",
              "Masters           6   \n",
              "Name: education_level, dtype: int64"
            ]
          },
          "execution_count": 135,
          "metadata": {},
          "output_type": "execute_result"
        }
      ],
      "source": [
        "df[df['major_discipline'].isna()]['education_level'].value_counts()"
      ]
    },
    {
      "cell_type": "markdown",
      "metadata": {
        "id": "s4qVU8DCc47N"
      },
      "source": [
        "Bisa dilihat bahwa mayoritas data yang kosong di kolom `major_discipline` memiliki data `education_level` 'High School' dan 'Primary School', yang memang tidak memiliki jurusan. Kita bisa mengisi data kosong di kolom `major_discipline` yang berisi 'High School' dan 'Primary School' di kolom `education_level` dengan nilai 'not available'."
      ]
    },
    {
      "cell_type": "code",
      "execution_count": null,
      "metadata": {
        "id": "VPE1D-30c47N"
      },
      "outputs": [],
      "source": [
        "# mengisi data kosong di kolom `major_discipline` yang berisi 'High School' dan 'Primary School' di kolom `education_level` dengan 'not available'\n",
        "df.loc[(df['major_discipline'].isna())&(df['education_level'].isin(['High School','Primary School'])),'major_discipline']='not available'"
      ]
    },
    {
      "cell_type": "code",
      "execution_count": null,
      "metadata": {
        "id": "DbXzQey_c47N",
        "outputId": "883d0c30-b1cf-407d-be88-68e9f089cee0"
      },
      "outputs": [
        {
          "data": {
            "text/plain": [
              "488"
            ]
          },
          "execution_count": 137,
          "metadata": {},
          "output_type": "execute_result"
        }
      ],
      "source": [
        "#cek sisa data kosong\n",
        "df['major_discipline'].isna().sum()"
      ]
    },
    {
      "cell_type": "code",
      "execution_count": null,
      "metadata": {
        "id": "GHun5oC2c47O",
        "outputId": "b4f25264-413e-496f-c69b-00e481eefef6"
      },
      "outputs": [
        {
          "data": {
            "text/plain": [
              "(28, 14)"
            ]
          },
          "execution_count": 138,
          "metadata": {},
          "output_type": "execute_result"
        }
      ],
      "source": [
        "#cek jumlah data kosong di 'major_discipline' yang tidak kosong di 'education_level'\n",
        "df[(df['major_discipline'].isna())& ~(df['education_level'].isna())].shape"
      ]
    },
    {
      "cell_type": "markdown",
      "metadata": {
        "id": "0QhcLUJac47O"
      },
      "source": [
        "Setelah pengisian di atas, masih ada 488 data kosong yang tersisa di kolom `major_discipline`, kebanyakkan dari data tersebut (460) juga memiliki data kosong di kolom `education_level`. Kita bisa hapus data-data ini, karena belum ada cara yang sesuai untuk mengisi `education_level` dan tidak seharusnya kolom ini dibiarkan kosong atau 'not available'. Sisa 28 data, juga bisa kita hapus."
      ]
    },
    {
      "cell_type": "code",
      "execution_count": null,
      "metadata": {
        "id": "HIGSXTync47P"
      },
      "outputs": [],
      "source": [
        "# data kosong di kolom `education_level`\n",
        "df.dropna(subset=['major_discipline','education_level'],inplace=True)"
      ]
    },
    {
      "cell_type": "code",
      "execution_count": null,
      "metadata": {
        "id": "DISxe1LPc47Q",
        "outputId": "a1618398-ad09-481c-98f6-be5126f05d02"
      },
      "outputs": [
        {
          "data": {
            "text/plain": [
              "major_discipline    0\n",
              "education_level     0\n",
              "dtype: int64"
            ]
          },
          "execution_count": 140,
          "metadata": {},
          "output_type": "execute_result"
        }
      ],
      "source": [
        "#pengecekan sisa data kosong pada kolom 'major_discipline'dan'education_level'\n",
        "df[['major_discipline','education_level']].isna().sum()\n",
        "# sudah tidak ada data kosong"
      ]
    },
    {
      "cell_type": "markdown",
      "metadata": {
        "id": "vWqxbn-Lc47S"
      },
      "source": [
        "#### Gender\n",
        "Kolom gender juga memiliki cukup banyak data kosong (23%). Cukup sulit untuk menentukan gender berdasarkan fitur lain, karena itu, di kasus ini, kita akan mengisi data kosong di kolom gender dengan kelas Other, yang memang sudah termasuk sebagai kategori di kolom ini.   \n",
        "\n",
        "Perlu dicatat bahwa kita perlu berhati-hati dalam melakukan analisis dengan fitur seperti gender, agar kebijakan yang nantinya dihasilkan tidak menjadi bias dan nantinya menyebabkan diskriminasi."
      ]
    },
    {
      "cell_type": "code",
      "execution_count": null,
      "metadata": {
        "id": "u2EP5r5ec47S",
        "outputId": "9323dbc6-8660-4933-939a-3bf331e89e0d"
      },
      "outputs": [
        {
          "data": {
            "text/plain": [
              "Male      12965\n",
              "Female    1229 \n",
              "Other     182  \n",
              "Name: gender, dtype: int64"
            ]
          },
          "execution_count": 141,
          "metadata": {},
          "output_type": "execute_result"
        }
      ],
      "source": [
        "df['gender'].value_counts()"
      ]
    },
    {
      "cell_type": "code",
      "execution_count": null,
      "metadata": {
        "id": "JBHCcfd4c47T"
      },
      "outputs": [],
      "source": [
        "#mengisi data kosong pada kolom gender dengan kategori Other\n",
        "df['gender']=df['gender'].fillna('Other')"
      ]
    },
    {
      "cell_type": "code",
      "execution_count": null,
      "metadata": {
        "id": "-yz9umLec47T",
        "outputId": "4b6e4ac4-b03b-41a4-ab47-95d0aa5a53be"
      },
      "outputs": [
        {
          "data": {
            "text/plain": [
              "Male      12965\n",
              "Other     4471 \n",
              "Female    1229 \n",
              "Name: gender, dtype: int64"
            ]
          },
          "execution_count": 143,
          "metadata": {},
          "output_type": "execute_result"
        }
      ],
      "source": [
        "df['gender'].value_counts()"
      ]
    },
    {
      "cell_type": "code",
      "execution_count": null,
      "metadata": {
        "id": "wdY5TPjpc47U",
        "outputId": "de84d04e-c607-4a7b-acb0-42fbc215c808"
      },
      "outputs": [
        {
          "data": {
            "text/plain": [
              "enrollee_id               0  \n",
              "city                      0  \n",
              "city_development_index    0  \n",
              "gender                    0  \n",
              "relevent_experience       0  \n",
              "enrolled_university       285\n",
              "education_level           0  \n",
              "major_discipline          0  \n",
              "experience                53 \n",
              "company_size              0  \n",
              "company_type              0  \n",
              "last_new_job              381\n",
              "training_hours            0  \n",
              "target                    0  \n",
              "dtype: int64"
            ]
          },
          "execution_count": 144,
          "metadata": {},
          "output_type": "execute_result"
        }
      ],
      "source": [
        "# sudah tidak ada data kosong pada kolom gender\n",
        "df.isna().sum()"
      ]
    },
    {
      "cell_type": "markdown",
      "metadata": {
        "id": "WgP2K0iNc47V"
      },
      "source": [
        "#### enrolled_university\n",
        "Selanjutnya kita akan mencoba menangani data kosong pada kolom `enrolled_university`. Kolom ini berisi keterangan tipe kelas yang sedang diikuti oleh kandidat, apakah paruh waktu, penuh waktu, atau sedang tidak berkuliah. Kolom ini memiliki 285 data kosong, sekitar 56 di antaranya berasak dari data yang `education_level`nya adalah 'High School\" dan 'Primary School', yang memang bukan merupakan universitas, dan bisa kita isi datanya dengan kategori 'no_enrollment'."
      ]
    },
    {
      "cell_type": "code",
      "execution_count": null,
      "metadata": {
        "id": "k1H6TAUgc47W",
        "outputId": "3f58297a-a4b5-414d-8c54-0c32f279f225"
      },
      "outputs": [
        {
          "data": {
            "text/plain": [
              "Graduate          170\n",
              "Masters           53 \n",
              "High School       47 \n",
              "Primary School    9  \n",
              "Phd               6  \n",
              "Name: education_level, dtype: int64"
            ]
          },
          "execution_count": 145,
          "metadata": {},
          "output_type": "execute_result"
        }
      ],
      "source": [
        "# education_level dari data dengan enrolled_university kosong\n",
        "df[df['enrolled_university'].isna()]['education_level'].value_counts()"
      ]
    },
    {
      "cell_type": "code",
      "execution_count": null,
      "metadata": {
        "id": "YGtyVkI7c47W"
      },
      "outputs": [],
      "source": [
        "# mengisi data kosong pada enrolled_university yang pada kolom education_level nya berisi 'High School'atau 'Primary School'\n",
        "df.loc[(df['education_level'].isin(['High School','Primary School'])) & (df['enrolled_university'].isna()),'enrolled_university']='no_enrollment'"
      ]
    },
    {
      "cell_type": "code",
      "execution_count": null,
      "metadata": {
        "id": "Hx0F9bhpc47X",
        "outputId": "b10b07b7-528d-4138-e8b0-eb6b39f3395d"
      },
      "outputs": [
        {
          "data": {
            "text/plain": [
              "Graduate    170\n",
              "Masters     53 \n",
              "Phd         6  \n",
              "Name: education_level, dtype: int64"
            ]
          },
          "execution_count": 147,
          "metadata": {},
          "output_type": "execute_result"
        }
      ],
      "source": [
        "# data kosong pada enrolled_university dengan education_level 'High School'atau 'Primary School' sudah tidak ada\n",
        "df[df['enrolled_university'].isna()]['education_level'].value_counts()"
      ]
    },
    {
      "cell_type": "code",
      "execution_count": null,
      "metadata": {
        "id": "4u1yOaWZc47X",
        "outputId": "9909a3d1-fcde-4b53-b1f4-2a8b2201d46e"
      },
      "outputs": [
        {
          "data": {
            "text/plain": [
              "1.2268952585052237"
            ]
          },
          "execution_count": 148,
          "metadata": {},
          "output_type": "execute_result"
        }
      ],
      "source": [
        "\n",
        "df['enrolled_university'].isna().sum()/df.shape[0]*100"
      ]
    },
    {
      "cell_type": "markdown",
      "metadata": {
        "id": "gjWttys1c47Y"
      },
      "source": [
        "Setelah kita mengisi missing value yang bisa diisi, masih ada 229 data yang kosong. Jumlah ini cukup kecil dibanding total data, hanya 1,2%, sehingga bisa kita hapus saja."
      ]
    },
    {
      "cell_type": "code",
      "execution_count": null,
      "metadata": {
        "id": "yLKmwtpuc47Z"
      },
      "outputs": [],
      "source": [
        "#menghapus data kosong pada kolom 'enrolled_university'\n",
        "df.dropna(subset= ['enrolled_university'],inplace=True)"
      ]
    },
    {
      "cell_type": "code",
      "execution_count": null,
      "metadata": {
        "id": "cH1EgYmoc47Z",
        "outputId": "46cb3c53-1004-4e61-cd22-6057d14b8de2"
      },
      "outputs": [
        {
          "data": {
            "text/plain": [
              "enrollee_id               0  \n",
              "city                      0  \n",
              "city_development_index    0  \n",
              "gender                    0  \n",
              "relevent_experience       0  \n",
              "enrolled_university       0  \n",
              "education_level           0  \n",
              "major_discipline          0  \n",
              "experience                51 \n",
              "company_size              0  \n",
              "company_type              0  \n",
              "last_new_job              368\n",
              "training_hours            0  \n",
              "target                    0  \n",
              "dtype: int64"
            ]
          },
          "execution_count": 150,
          "metadata": {},
          "output_type": "execute_result"
        }
      ],
      "source": [
        "# sudah tidak ada data kosong pada kolom enrolled_university\n",
        "df.isna().sum()"
      ]
    },
    {
      "cell_type": "markdown",
      "metadata": {
        "id": "iy-7QdHUc47a"
      },
      "source": [
        "#### `last_new_job` dan `experience`\n",
        "\n",
        "Sekarang, hanya ada 2 kolom yang masih memiliki data kosong, yaitu `last_new_job` dan `experience`. Selain perlu menangani data kosong, kita juga perlu mengecek apakah kita bisa dan perlu mengganti data tipe pada kolom `experience` dari string menjadi numerical."
      ]
    },
    {
      "cell_type": "code",
      "execution_count": null,
      "metadata": {
        "id": "niKPAObPc47a",
        "outputId": "3c71ae14-8533-4cfc-9d1b-cdb379a12a8f"
      },
      "outputs": [
        {
          "data": {
            "text/plain": [
              ">20    3204\n",
              "5      1368\n",
              "4      1345\n",
              "3      1281\n",
              "6      1162\n",
              "2      1038\n",
              "7      998 \n",
              "9      954 \n",
              "10     951 \n",
              "8      781 \n",
              "15     669 \n",
              "11     655 \n",
              "14     573 \n",
              "1      508 \n",
              "16     494 \n",
              "12     481 \n",
              "<1     481 \n",
              "13     391 \n",
              "17     334 \n",
              "19     299 \n",
              "18     275 \n",
              "20     143 \n",
              "Name: experience, dtype: int64"
            ]
          },
          "execution_count": 151,
          "metadata": {},
          "output_type": "execute_result"
        }
      ],
      "source": [
        "# sebaran data pada kolom experience\n",
        "df['experience'].value_counts()"
      ]
    },
    {
      "cell_type": "markdown",
      "metadata": {
        "id": "WTb6FTPac47a"
      },
      "source": [
        "Kolom `experience` sebenarnya memiliki data berupa angka, kecuali 1 kategori, '>20', yang mengelompokkan kandidat dengan pengalaman di atas 20 tahun. Apabila kita ingin mengubah data tipe kolom ini menjadi numerik, kita perlu mengubah isi dari kategori ini menjadi angka, langkah ini bisa menyebabkan bias, terutama karena kategori '>20' memiliki cukup banyak data. Jadi kita tidak perlu mengubah data tipe pada kolom ini."
      ]
    },
    {
      "cell_type": "code",
      "execution_count": null,
      "metadata": {
        "id": "ofLwcGfMc47b",
        "outputId": "7422321c-0149-4891-b208-53b227e8f7d3"
      },
      "outputs": [
        {
          "data": {
            "text/plain": [
              "last_new_job    1.996095\n",
              "experience      0.276633\n",
              "dtype: float64"
            ]
          },
          "execution_count": 152,
          "metadata": {},
          "output_type": "execute_result"
        }
      ],
      "source": [
        "#proporsi data kosong pada kolom 'last_new_job'dan 'experience'\n",
        "df[['last_new_job','experience']].isna().sum()/df.shape[0]*100"
      ]
    },
    {
      "cell_type": "markdown",
      "metadata": {
        "id": "DG6Bkhpmc47b"
      },
      "source": [
        "Untuk penanganan data kosong di kedua kolom ini, karena proporsinya tidak banyak dan memang tidak ada cara yang dirasa sesuai untuk mengisi data kosongnya, maka kita bisa dihapus saja."
      ]
    },
    {
      "cell_type": "code",
      "execution_count": null,
      "metadata": {
        "id": "zBToPZqqc47c"
      },
      "outputs": [],
      "source": [
        "# menghapus data kosong\n",
        "df.dropna(subset=['last_new_job','experience'],inplace=True)"
      ]
    },
    {
      "cell_type": "code",
      "execution_count": null,
      "metadata": {
        "id": "ixQSb9BYc47c",
        "outputId": "0f54c47a-8894-4631-cc19-153b450f2a31"
      },
      "outputs": [
        {
          "data": {
            "text/plain": [
              "enrollee_id               0\n",
              "city                      0\n",
              "city_development_index    0\n",
              "gender                    0\n",
              "relevent_experience       0\n",
              "enrolled_university       0\n",
              "education_level           0\n",
              "major_discipline          0\n",
              "experience                0\n",
              "company_size              0\n",
              "company_type              0\n",
              "last_new_job              0\n",
              "training_hours            0\n",
              "target                    0\n",
              "dtype: int64"
            ]
          },
          "execution_count": 154,
          "metadata": {},
          "output_type": "execute_result"
        }
      ],
      "source": [
        "df.isna().sum()"
      ]
    },
    {
      "cell_type": "markdown",
      "metadata": {
        "id": "4bXnmma6c47d"
      },
      "source": [
        "#### enrollee_id  dan training_hours\n",
        "kolom `enrollee_id` berisikan id unik untuk tiap peserta, sehingga tidak relevan dalam analisis dan bisa dihapus saja.\n",
        "\n",
        "kolom `training_hours` juga dihapus, karena tujuan dari analisis ini adalah untuk membantu perusahaan untuk mengurangi ongkos dan waktu training, meningkatkan kualitas dan membantu dalam mengelompokkan kandidat dalam training, sehingga membandingkan lama waktu training antara kandidat yang berminat dan tidak berminat pindah kerja menjadi tidak relevan"
      ]
    },
    {
      "cell_type": "code",
      "execution_count": null,
      "metadata": {
        "id": "Pt0x3tMoc47d"
      },
      "outputs": [],
      "source": [
        "df.drop(columns=['enrollee_id','training_hours'],inplace=True)"
      ]
    },
    {
      "cell_type": "markdown",
      "metadata": {
        "id": "sjx3_fBDc47e"
      },
      "source": [
        "## Data yang sudah bersih\n",
        "Kita sudah selesai membersihkan data kita, sekarang, mari kita lihat sekilas informasi dari data yang sudah kita bersihkan"
      ]
    },
    {
      "cell_type": "code",
      "execution_count": null,
      "metadata": {
        "id": "r19CX77wc47e",
        "outputId": "ce9dd1ce-ebec-4fe1-a6de-41c1960d4298"
      },
      "outputs": [
        {
          "name": "stdout",
          "output_type": "stream",
          "text": [
            "(18037, 12)\n"
          ]
        },
        {
          "data": {
            "text/html": [
              "<div>\n",
              "<style scoped>\n",
              "    .dataframe tbody tr th:only-of-type {\n",
              "        vertical-align: middle;\n",
              "    }\n",
              "\n",
              "    .dataframe tbody tr th {\n",
              "        vertical-align: top;\n",
              "    }\n",
              "\n",
              "    .dataframe thead th {\n",
              "        text-align: right;\n",
              "    }\n",
              "</style>\n",
              "<table border=\"1\" class=\"dataframe\">\n",
              "  <thead>\n",
              "    <tr style=\"text-align: right;\">\n",
              "      <th></th>\n",
              "      <th>dataFeatures</th>\n",
              "      <th>dataType</th>\n",
              "      <th>null</th>\n",
              "      <th>unique</th>\n",
              "      <th>uniqueSample</th>\n",
              "    </tr>\n",
              "  </thead>\n",
              "  <tbody>\n",
              "    <tr>\n",
              "      <th>0</th>\n",
              "      <td>city</td>\n",
              "      <td>object</td>\n",
              "      <td>0</td>\n",
              "      <td>121</td>\n",
              "      <td>[city_64, city_48]</td>\n",
              "    </tr>\n",
              "    <tr>\n",
              "      <th>1</th>\n",
              "      <td>city_development_index</td>\n",
              "      <td>float64</td>\n",
              "      <td>0</td>\n",
              "      <td>92</td>\n",
              "      <td>[0.789, 0.89]</td>\n",
              "    </tr>\n",
              "    <tr>\n",
              "      <th>2</th>\n",
              "      <td>gender</td>\n",
              "      <td>object</td>\n",
              "      <td>0</td>\n",
              "      <td>3</td>\n",
              "      <td>[Other, Female]</td>\n",
              "    </tr>\n",
              "    <tr>\n",
              "      <th>3</th>\n",
              "      <td>relevent_experience</td>\n",
              "      <td>object</td>\n",
              "      <td>0</td>\n",
              "      <td>2</td>\n",
              "      <td>[No relevent experience, Has relevent experience]</td>\n",
              "    </tr>\n",
              "    <tr>\n",
              "      <th>4</th>\n",
              "      <td>enrolled_university</td>\n",
              "      <td>object</td>\n",
              "      <td>0</td>\n",
              "      <td>3</td>\n",
              "      <td>[no_enrollment, Part time course]</td>\n",
              "    </tr>\n",
              "    <tr>\n",
              "      <th>5</th>\n",
              "      <td>education_level</td>\n",
              "      <td>object</td>\n",
              "      <td>0</td>\n",
              "      <td>5</td>\n",
              "      <td>[High School, Primary School]</td>\n",
              "    </tr>\n",
              "    <tr>\n",
              "      <th>6</th>\n",
              "      <td>major_discipline</td>\n",
              "      <td>object</td>\n",
              "      <td>0</td>\n",
              "      <td>7</td>\n",
              "      <td>[not available, Arts]</td>\n",
              "    </tr>\n",
              "    <tr>\n",
              "      <th>7</th>\n",
              "      <td>experience</td>\n",
              "      <td>object</td>\n",
              "      <td>0</td>\n",
              "      <td>22</td>\n",
              "      <td>[5, &lt;1]</td>\n",
              "    </tr>\n",
              "    <tr>\n",
              "      <th>8</th>\n",
              "      <td>company_size</td>\n",
              "      <td>object</td>\n",
              "      <td>0</td>\n",
              "      <td>9</td>\n",
              "      <td>[&lt;10, 100-500]</td>\n",
              "    </tr>\n",
              "    <tr>\n",
              "      <th>9</th>\n",
              "      <td>company_type</td>\n",
              "      <td>object</td>\n",
              "      <td>0</td>\n",
              "      <td>7</td>\n",
              "      <td>[Early Stage Startup, not available]</td>\n",
              "    </tr>\n",
              "    <tr>\n",
              "      <th>10</th>\n",
              "      <td>last_new_job</td>\n",
              "      <td>object</td>\n",
              "      <td>0</td>\n",
              "      <td>6</td>\n",
              "      <td>[3, &gt;4]</td>\n",
              "    </tr>\n",
              "    <tr>\n",
              "      <th>11</th>\n",
              "      <td>target</td>\n",
              "      <td>float64</td>\n",
              "      <td>0</td>\n",
              "      <td>2</td>\n",
              "      <td>[0.0, 1.0]</td>\n",
              "    </tr>\n",
              "  </tbody>\n",
              "</table>\n",
              "</div>"
            ],
            "text/plain": [
              "              dataFeatures dataType  null  unique  \\\n",
              "0   city                    object   0     121      \n",
              "1   city_development_index  float64  0     92       \n",
              "2   gender                  object   0     3        \n",
              "3   relevent_experience     object   0     2        \n",
              "4   enrolled_university     object   0     3        \n",
              "5   education_level         object   0     5        \n",
              "6   major_discipline        object   0     7        \n",
              "7   experience              object   0     22       \n",
              "8   company_size            object   0     9        \n",
              "9   company_type            object   0     7        \n",
              "10  last_new_job            object   0     6        \n",
              "11  target                  float64  0     2        \n",
              "\n",
              "                                         uniqueSample  \n",
              "0   [city_64, city_48]                                 \n",
              "1   [0.789, 0.89]                                      \n",
              "2   [Other, Female]                                    \n",
              "3   [No relevent experience, Has relevent experience]  \n",
              "4   [no_enrollment, Part time course]                  \n",
              "5   [High School, Primary School]                      \n",
              "6   [not available, Arts]                              \n",
              "7   [5, <1]                                            \n",
              "8   [<10, 100-500]                                     \n",
              "9   [Early Stage Startup, not available]               \n",
              "10  [3, >4]                                            \n",
              "11  [0.0, 1.0]                                         "
            ]
          },
          "execution_count": 156,
          "metadata": {},
          "output_type": "execute_result"
        }
      ],
      "source": [
        "listItem = []\n",
        "for col in df.columns :\n",
        "    listItem.append([col, df[col].dtype, df[col].isna().sum(),\n",
        "                    df[col].nunique(), list(df[col].drop_duplicates().sample(2).values)]);\n",
        "\n",
        "dfDesc = pd.DataFrame(columns=['dataFeatures', 'dataType', 'null', 'unique', 'uniqueSample'],\n",
        "                     data=listItem)\n",
        "print(df.shape)\n",
        "dfDesc"
      ]
    },
    {
      "cell_type": "markdown",
      "metadata": {
        "id": "UJXawpfVc47e"
      },
      "source": [
        "Sebelum dibersihkan, kita memiliki 19,158 baris data, sekarang kita memiliki 18,037 baris. Sekitar 1000 baris data yang kosong dihapus, dan sisa data kosong diisi dengan data yang dirasa relevan."
      ]
    },
    {
      "cell_type": "markdown",
      "metadata": {
        "id": "ev4DD2xEc47f"
      },
      "source": [
        "# Data Analysis\n",
        "Kita sudah melakukan tahap _data cleaning_. Sekarang, kita bisa mulai melakukan analisis untuk mencari tahu **bagaimana karakteristik kandidat yang ingin pindah pekerjaan**.  \n",
        "\n",
        "Analisis akan dilakukan dengan membandingkan data kandidat yang berminat untuk pindah kerja (target=1) dan tidak berminat untuk pindah kerja (target=0) berdasarkan fitur yang tersedia. karena dari 19,158 data yang kita miliki, hanya 4421 data berasal dari kandidat yang berminat untuk pindah kerja, kita perlu berhati-hati dalam membandingkan data kandidat berdasarkan target, pembandingan lebih baik dilakukan berdasarkan ratio, terutama pada data bertipe kategorikal."
      ]
    },
    {
      "cell_type": "code",
      "execution_count": null,
      "metadata": {
        "id": "1jB7UNwoc47f",
        "outputId": "5ee16440-9fb1-4564-8ad1-19bb5882d9eb"
      },
      "outputs": [
        {
          "data": {
            "text/plain": [
              "0.0    13616\n",
              "1.0    4421 \n",
              "Name: target, dtype: int64"
            ]
          },
          "execution_count": 178,
          "metadata": {},
          "output_type": "execute_result"
        }
      ],
      "source": [
        "df['target'].value_counts()"
      ]
    },
    {
      "cell_type": "markdown",
      "metadata": {
        "id": "4N7THq-tc47g"
      },
      "source": [
        "## Berdasarkan asal kota kandidat: `city` dan `city_development_index`  \n",
        "\n",
        "Pertama, mari kita lihat bagaimana pengaruh asal kota kandidat terhadap keinginan kandidat untuk pindah kerja. Kita akan menganalisis kolom  `city` dan `city_development_index` untuk menjawab beberapa pertanyaan.\n",
        "\n",
        "* Kota mana yang memiliki paling banyak kandidat?\n",
        "* Kota mana yang memiliki paling banyak kandidat **yang berminat untuk pindah kerja**?\n",
        "* Apakah ada perbedaan city_development_index dari kota asal kandidat yang berminat pindah kerja dan tidak?"
      ]
    },
    {
      "cell_type": "code",
      "execution_count": null,
      "metadata": {
        "id": "aIK2AgCac47h",
        "outputId": "904ca46a-62ef-4e8e-c185-ae1f747cd783"
      },
      "outputs": [
        {
          "data": {
            "text/html": [
              "<div>\n",
              "<style scoped>\n",
              "    .dataframe tbody tr th:only-of-type {\n",
              "        vertical-align: middle;\n",
              "    }\n",
              "\n",
              "    .dataframe tbody tr th {\n",
              "        vertical-align: top;\n",
              "    }\n",
              "\n",
              "    .dataframe thead th {\n",
              "        text-align: right;\n",
              "    }\n",
              "</style>\n",
              "<table border=\"1\" class=\"dataframe\">\n",
              "  <thead>\n",
              "    <tr style=\"text-align: right;\">\n",
              "      <th>target</th>\n",
              "      <th>0.0</th>\n",
              "      <th>1.0</th>\n",
              "      <th>Total</th>\n",
              "    </tr>\n",
              "    <tr>\n",
              "      <th>city</th>\n",
              "      <th></th>\n",
              "      <th></th>\n",
              "      <th></th>\n",
              "    </tr>\n",
              "  </thead>\n",
              "  <tbody>\n",
              "    <tr>\n",
              "      <th>city_103</th>\n",
              "      <td>3293</td>\n",
              "      <td>900</td>\n",
              "      <td>4193</td>\n",
              "    </tr>\n",
              "    <tr>\n",
              "      <th>city_21</th>\n",
              "      <td>1001</td>\n",
              "      <td>1452</td>\n",
              "      <td>2453</td>\n",
              "    </tr>\n",
              "    <tr>\n",
              "      <th>city_16</th>\n",
              "      <td>1306</td>\n",
              "      <td>167</td>\n",
              "      <td>1473</td>\n",
              "    </tr>\n",
              "    <tr>\n",
              "      <th>city_114</th>\n",
              "      <td>1139</td>\n",
              "      <td>126</td>\n",
              "      <td>1265</td>\n",
              "    </tr>\n",
              "    <tr>\n",
              "      <th>city_160</th>\n",
              "      <td>623</td>\n",
              "      <td>194</td>\n",
              "      <td>817</td>\n",
              "    </tr>\n",
              "    <tr>\n",
              "      <th>city_136</th>\n",
              "      <td>487</td>\n",
              "      <td>53</td>\n",
              "      <td>540</td>\n",
              "    </tr>\n",
              "    <tr>\n",
              "      <th>city_67</th>\n",
              "      <td>363</td>\n",
              "      <td>53</td>\n",
              "      <td>416</td>\n",
              "    </tr>\n",
              "    <tr>\n",
              "      <th>city_75</th>\n",
              "      <td>264</td>\n",
              "      <td>30</td>\n",
              "      <td>294</td>\n",
              "    </tr>\n",
              "    <tr>\n",
              "      <th>city_102</th>\n",
              "      <td>237</td>\n",
              "      <td>50</td>\n",
              "      <td>287</td>\n",
              "    </tr>\n",
              "    <tr>\n",
              "      <th>city_104</th>\n",
              "      <td>261</td>\n",
              "      <td>25</td>\n",
              "      <td>286</td>\n",
              "    </tr>\n",
              "  </tbody>\n",
              "</table>\n",
              "</div>"
            ],
            "text/plain": [
              "target     0.0   1.0  Total\n",
              "city                       \n",
              "city_103  3293  900   4193 \n",
              "city_21   1001  1452  2453 \n",
              "city_16   1306  167   1473 \n",
              "city_114  1139  126   1265 \n",
              "city_160  623   194   817  \n",
              "city_136  487   53    540  \n",
              "city_67   363   53    416  \n",
              "city_75   264   30    294  \n",
              "city_102  237   50    287  \n",
              "city_104  261   25    286  "
            ]
          },
          "execution_count": 157,
          "metadata": {},
          "output_type": "execute_result"
        }
      ],
      "source": [
        "# 10 kota dengan jumlah kandidat paling banyak, dibagi berdasarkan target\n",
        "df_ct=pd.crosstab(df['city'],df['target'])\n",
        "df_ct['Total']=df_ct.sum(axis=1)\n",
        "df_ct.sort_values('Total',ascending=False).head(10)"
      ]
    },
    {
      "cell_type": "code",
      "execution_count": null,
      "metadata": {
        "id": "fI9_-latc47h",
        "outputId": "7354932b-0629-4f90-b952-8bbe008523cd"
      },
      "outputs": [
        {
          "data": {
            "text/html": [
              "<div>\n",
              "<style scoped>\n",
              "    .dataframe tbody tr th:only-of-type {\n",
              "        vertical-align: middle;\n",
              "    }\n",
              "\n",
              "    .dataframe tbody tr th {\n",
              "        vertical-align: top;\n",
              "    }\n",
              "\n",
              "    .dataframe thead th {\n",
              "        text-align: right;\n",
              "    }\n",
              "</style>\n",
              "<table border=\"1\" class=\"dataframe\">\n",
              "  <thead>\n",
              "    <tr style=\"text-align: right;\">\n",
              "      <th>target</th>\n",
              "      <th>0.0</th>\n",
              "      <th>1.0</th>\n",
              "      <th>Total</th>\n",
              "    </tr>\n",
              "    <tr>\n",
              "      <th>city</th>\n",
              "      <th></th>\n",
              "      <th></th>\n",
              "      <th></th>\n",
              "    </tr>\n",
              "  </thead>\n",
              "  <tbody>\n",
              "    <tr>\n",
              "      <th>city_21</th>\n",
              "      <td>1001</td>\n",
              "      <td>1452</td>\n",
              "      <td>2453</td>\n",
              "    </tr>\n",
              "    <tr>\n",
              "      <th>city_103</th>\n",
              "      <td>3293</td>\n",
              "      <td>900</td>\n",
              "      <td>4193</td>\n",
              "    </tr>\n",
              "    <tr>\n",
              "      <th>city_160</th>\n",
              "      <td>623</td>\n",
              "      <td>194</td>\n",
              "      <td>817</td>\n",
              "    </tr>\n",
              "    <tr>\n",
              "      <th>city_16</th>\n",
              "      <td>1306</td>\n",
              "      <td>167</td>\n",
              "      <td>1473</td>\n",
              "    </tr>\n",
              "    <tr>\n",
              "      <th>city_11</th>\n",
              "      <td>95</td>\n",
              "      <td>136</td>\n",
              "      <td>231</td>\n",
              "    </tr>\n",
              "    <tr>\n",
              "      <th>city_114</th>\n",
              "      <td>1139</td>\n",
              "      <td>126</td>\n",
              "      <td>1265</td>\n",
              "    </tr>\n",
              "    <tr>\n",
              "      <th>city_73</th>\n",
              "      <td>199</td>\n",
              "      <td>73</td>\n",
              "      <td>272</td>\n",
              "    </tr>\n",
              "    <tr>\n",
              "      <th>city_100</th>\n",
              "      <td>198</td>\n",
              "      <td>60</td>\n",
              "      <td>258</td>\n",
              "    </tr>\n",
              "    <tr>\n",
              "      <th>city_67</th>\n",
              "      <td>363</td>\n",
              "      <td>53</td>\n",
              "      <td>416</td>\n",
              "    </tr>\n",
              "    <tr>\n",
              "      <th>city_136</th>\n",
              "      <td>487</td>\n",
              "      <td>53</td>\n",
              "      <td>540</td>\n",
              "    </tr>\n",
              "  </tbody>\n",
              "</table>\n",
              "</div>"
            ],
            "text/plain": [
              "target     0.0   1.0  Total\n",
              "city                       \n",
              "city_21   1001  1452  2453 \n",
              "city_103  3293  900   4193 \n",
              "city_160  623   194   817  \n",
              "city_16   1306  167   1473 \n",
              "city_11   95    136   231  \n",
              "city_114  1139  126   1265 \n",
              "city_73   199   73    272  \n",
              "city_100  198   60    258  \n",
              "city_67   363   53    416  \n",
              "city_136  487   53    540  "
            ]
          },
          "execution_count": 158,
          "metadata": {},
          "output_type": "execute_result"
        }
      ],
      "source": [
        "# 10 kota dengan jumlah kandidat berminat (target=1) paling banyak\n",
        "df_ct.sort_values(1,ascending=False).head(10)"
      ]
    },
    {
      "cell_type": "code",
      "execution_count": null,
      "metadata": {
        "id": "2CfxdxF6c47j",
        "outputId": "cc727cc0-f8ac-4c80-ffb3-82249df94640"
      },
      "outputs": [
        {
          "data": {
            "image/png": "[encoded data removed]",
            "text/plain": [
              "<Figure size 576x360 with 1 Axes>"
            ]
          },
          "metadata": {
            "needs_background": "light"
          },
          "output_type": "display_data"
        }
      ],
      "source": [
        "df_ct.sort_values(1,ascending=False).head(10).drop(columns='Total').plot(kind='bar',figsize=(8,5),\n",
        "title='10 Kota dengan Jumlah Kandidat Berminat Paling Tinggi')\n",
        "plt.show()"
      ]
    },
    {
      "cell_type": "markdown",
      "metadata": {
        "id": "onF_qmZ7c47k"
      },
      "source": [
        "Dari hasil cross tabulasi dan grafik di atas, kita bisa melihat 10 kota dengan jumlah kandidat terbanyak, dan 10 kota dengan jumlah kandidat yang tertarik terbanyak. city_103 memiliki jumlah calon kandidat terbanyak, tapi secara jumlah kandidat yang tertarik pindah, city_21-lah yang paling tinggi. Perlu dicatat juga bahwa city_21 juga memiliki jumlah kandidat terbanyak kedua secara keseluruhan.  \n",
        "\n",
        "Sekarang, mari kita lihat kolom berikutnya, `city_development_index`."
      ]
    },
    {
      "cell_type": "code",
      "execution_count": null,
      "metadata": {
        "id": "iMxe0D5Bc47l",
        "outputId": "b891ff32-ee5c-4d0f-c644-afd4044c6eed"
      },
      "outputs": [
        {
          "data": {
            "image/png": "[encoded data removed]",
            "text/plain": [
              "<Figure size 864x432 with 1 Axes>"
            ]
          },
          "metadata": {
            "needs_background": "light"
          },
          "output_type": "display_data"
        }
      ],
      "source": [
        "plt.figure(figsize=(12,6))\n",
        "sns.distplot(df[df['target']==0]['city_development_index'],label=0)\n",
        "sns.distplot(df[df['target']==1]['city_development_index'],label=1)\n",
        "plt.title('Distribusi city_development_index Berdasarkan target')\n",
        "plt.legend()\n",
        "plt.show()"
      ]
    },
    {
      "cell_type": "markdown",
      "metadata": {
        "id": "YOmshTt5c47l"
      },
      "source": [
        "Dari grafik di atas, kita bisa melihat adanya kecenderungan kandidat yang tertarik untuk pindah kerja berasal dari kota dengan development index lebih rendah. dari [wikipedia](https://en.wikipedia.org/wiki/City_development_index), kita bisa tahu bahwa city development index (CDI) diukur dendasarkan 5 hal: *infrastructure, waste, health, education and city product*. Kota dengan CDI yang lebih tinggi bisa dibilang lebih berkembang.\n",
        "\n",
        "jadi, sangat wajar apabila kandidat yang berasal dari kota dengan CDI lebih rendah lebih ingin pindah. Sekarang, mari kita lihat, apakah perbedaan CDI antara kedua kelompok kandidat signifikan atau tidak."
      ]
    },
    {
      "cell_type": "code",
      "execution_count": null,
      "metadata": {
        "id": "Gx1aJzPoc47m",
        "outputId": "2be7d733-0c8d-4cd0-856a-f43972d0f75c"
      },
      "outputs": [
        {
          "name": "stdout",
          "output_type": "stream",
          "text": [
            "tidak normal\n"
          ]
        }
      ],
      "source": [
        "# cek distribusi kolom city_development_index\n",
        "from scipy.stats import normaltest\n",
        "stats, pval=normaltest(df['city_development_index'])\n",
        "if pval<=0.05:\n",
        "    print('tidak normal') #Ha\n",
        "else:\n",
        "    print('distribusi normal') #Ho"
      ]
    },
    {
      "cell_type": "code",
      "execution_count": null,
      "metadata": {
        "id": "aStlb_nrc47m",
        "outputId": "8ed4a6e0-bdf9-4aef-cf17-17f03fc24933"
      },
      "outputs": [
        {
          "name": "stdout",
          "output_type": "stream",
          "text": [
            "Tolak Ho\n"
          ]
        }
      ],
      "source": [
        "# uji statistik, apakah ada perbedaan city_development_index antara kandidat yang berminat pindah kerja dan tidak\n",
        "# karena distribusi data tidak normal, gunakan mann whitney\n",
        "from scipy.stats import mannwhitneyu\n",
        "stats,pval=mannwhitneyu(*[df[df['target']==i]['city_development_index'] for i in df['target'].unique()], alternative='less')\n",
        "if pval <= 0.05:\n",
        "    print('Tolak Ho')\n",
        "else:\n",
        "    print('Gagal menolak Ho')"
      ]
    },
    {
      "cell_type": "markdown",
      "metadata": {
        "id": "zVPFKtXXc47n"
      },
      "source": [
        "Ternyata, memang ada perbedaan CDI yang signifikan antara kondidat yang ingin pindah kerja dan tidak, dengan kandidat yang ingin pindah kerja berasal dari kota dengan CDI yang lebih rendah.\n",
        "\n",
        "Untuk lebih jelas, kita bisa melihat grafik di bawah. Kandidat yang ingin pindah kerja berasal dari kota dengan median CDI 0.75, sedangkan kandidat yang tidak ingin pindah kerja berasal dari kota dengan CDI 0.9\n",
        "\n",
        "Tapi, jika kita telaah lebih lanjut, kita akan mendapati bahwa city_103 memiliki kontribusi cukup besar dalam penentuan median target kelas 0, sedangkan city_21 berkontribusi pada median kelas 1. Hal ini bisa terjadi karena,\n",
        "1. memang kedua kota ini memiliki jumlah penduduk yang cukup padat dibanding kota-kota lain, sehingga mendominasi sebagai kota asal kandidat, atau\n",
        "1. perusahaan lebih aktif melakukan perekrutan hanya di kedua kota ini saja.\n",
        "\n",
        "Apabila opsi 2 yang terjadi, maka akan lebih baik apabila ke depannya perekrutan kandidat dilakukan secara lebih merata, sehingga kita bisa yakin bahwa hasil analisis kita terhindar dari bias."
      ]
    },
    {
      "cell_type": "code",
      "execution_count": null,
      "metadata": {
        "id": "Cf1Ce6ILc47n",
        "outputId": "8fb4e62c-63ca-4bec-8fb2-51d88333b289"
      },
      "outputs": [
        {
          "data": {
            "image/png": "[encoded data removed]",
            "text/plain": [
              "<Figure size 432x288 with 1 Axes>"
            ]
          },
          "metadata": {
            "needs_background": "light"
          },
          "output_type": "display_data"
        }
      ],
      "source": [
        "sns.boxplot(y='city_development_index', x='target', data=df)\n",
        "plt.title('Boxplot city_development_index berdasarkan target')\n",
        "plt.show()"
      ]
    },
    {
      "cell_type": "code",
      "execution_count": null,
      "metadata": {
        "id": "LfYqpNsvc47p",
        "outputId": "9e1e6d07-5a3e-4592-e856-43a6c7153ecc"
      },
      "outputs": [
        {
          "data": {
            "text/html": [
              "<div>\n",
              "<style scoped>\n",
              "    .dataframe tbody tr th:only-of-type {\n",
              "        vertical-align: middle;\n",
              "    }\n",
              "\n",
              "    .dataframe tbody tr th {\n",
              "        vertical-align: top;\n",
              "    }\n",
              "\n",
              "    .dataframe thead th {\n",
              "        text-align: right;\n",
              "    }\n",
              "</style>\n",
              "<table border=\"1\" class=\"dataframe\">\n",
              "  <thead>\n",
              "    <tr style=\"text-align: right;\">\n",
              "      <th></th>\n",
              "      <th>city</th>\n",
              "      <th>city_development_index</th>\n",
              "    </tr>\n",
              "  </thead>\n",
              "  <tbody>\n",
              "    <tr>\n",
              "      <th>0</th>\n",
              "      <td>city_103</td>\n",
              "      <td>0.920</td>\n",
              "    </tr>\n",
              "    <tr>\n",
              "      <th>2</th>\n",
              "      <td>city_21</td>\n",
              "      <td>0.624</td>\n",
              "    </tr>\n",
              "    <tr>\n",
              "      <th>8</th>\n",
              "      <td>city_103</td>\n",
              "      <td>0.920</td>\n",
              "    </tr>\n",
              "    <tr>\n",
              "      <th>9</th>\n",
              "      <td>city_103</td>\n",
              "      <td>0.920</td>\n",
              "    </tr>\n",
              "    <tr>\n",
              "      <th>10</th>\n",
              "      <td>city_21</td>\n",
              "      <td>0.624</td>\n",
              "    </tr>\n",
              "  </tbody>\n",
              "</table>\n",
              "</div>"
            ],
            "text/plain": [
              "        city  city_development_index\n",
              "0   city_103  0.920                 \n",
              "2   city_21   0.624                 \n",
              "8   city_103  0.920                 \n",
              "9   city_103  0.920                 \n",
              "10  city_21   0.624                 "
            ]
          },
          "execution_count": 164,
          "metadata": {},
          "output_type": "execute_result"
        }
      ],
      "source": [
        "df[df['city'].isin(['city_21','city_103'])][['city','city_development_index']].head()"
      ]
    },
    {
      "cell_type": "markdown",
      "metadata": {
        "id": "PGYShaJLc47r"
      },
      "source": [
        "## Berdasarkan Edukasi:\n",
        "\n",
        "Berikutnya, mari kita lihat fitur-fitur yang berkaitan dengan edukasi. Fitur yang terkait adalah `enrolled_university`, `education_level` dan `major_discipline`.  \n",
        "\n",
        "Kita bisa menjawab pertanyaan-pertanyaan berikut dalam analisis kali ini:  \n",
        "* Kandidat mana yang paling berminat untuk pindah kerja, kandidat yang sedang kuliah penuh waktu, paruh waktu, atau yang sedang tidak berkuliah?\n",
        "* Kandidat dengan jenjang pendidikan mana yang paling berminat untuk pindah kerja?\n",
        "* Dari jurusan mana kandidat paling banyak berasal? Apakah secara proporsi jurusan tersebut juga memiliki kandidat yang beminat pindah paling tinggi?"
      ]
    },
    {
      "cell_type": "code",
      "execution_count": null,
      "metadata": {
        "id": "cG0IlUjXc47t",
        "outputId": "21d1ef5d-9599-43f8-e768-8b5538a3e1de"
      },
      "outputs": [
        {
          "data": {
            "image/png": "[encoded data removed]",
            "text/plain": [
              "<Figure size 720x288 with 1 Axes>"
            ]
          },
          "metadata": {
            "needs_background": "light"
          },
          "output_type": "display_data"
        },
        {
          "data": {
            "image/png": "[encoded data removed]",
            "text/plain": [
              "<Figure size 720x288 with 1 Axes>"
            ]
          },
          "metadata": {
            "needs_background": "light"
          },
          "output_type": "display_data"
        },
        {
          "data": {
            "image/png": "[encoded data removed]",
            "text/plain": [
              "<Figure size 720x288 with 1 Axes>"
            ]
          },
          "metadata": {
            "needs_background": "light"
          },
          "output_type": "display_data"
        }
      ],
      "source": [
        "for i in ['enrolled_university', 'education_level',\t'major_discipline']:\n",
        "    ct=pd.crosstab(df[i],df['target'],normalize='index')\n",
        "    ct['total']=ct.sum(axis=1)\n",
        "    plt.figure(figsize=(10,4))\n",
        "    plt.bar(np.arange(df[i].nunique()),ct['total'])\n",
        "    plt.bar(np.arange(df[i].nunique()),ct[1])\n",
        "    plt.xlabel('target')\n",
        "    plt.ylabel(f'Proportion {i}')\n",
        "    plt.legend([0,1])\n",
        "    plt.xticks(np.arange(len(ct.index.tolist())),ct.index.tolist())\n",
        "    plt.title(i)\n",
        "    plt.show()"
      ]
    },
    {
      "cell_type": "code",
      "execution_count": null,
      "metadata": {
        "id": "07PV-0vtc47u",
        "outputId": "0861d83b-2ffd-45b2-b324-69431f4b72e7"
      },
      "outputs": [
        {
          "data": {
            "application/vnd.plotly.v1+json": {
              "config": {
                "plotlyServerURL": "https://plot.ly"
              },
              "data": [
                {
                  "branchvalues": "total",
                  "customdata": [
                    [
                      0
                    ],
                    [
                      0
                    ],
                    [
                      0
                    ],
                    [
                      1
                    ],
                    [
                      1
                    ],
                    [
                      1
                    ],
                    [
                      0.37856328392246297
                    ],
                    [
                      0.24477351916376305
                    ],
                    [
                      0.21014871833196322
                    ]
                  ],
                  "domain": {
                    "x": [
                      0,
                      1
                    ],
                    "y": [
                      0,
                      1
                    ]
                  },
                  "hovertemplate": "labels=%{label}<br>count=%{value}<br>parent=%{parent}<br>id=%{id}<br>target=%{color}<extra></extra>",
                  "ids": [
                    "Full time course/0.0",
                    "Part time course/0.0",
                    "no_enrollment/0.0",
                    "Full time course/1.0",
                    "Part time course/1.0",
                    "no_enrollment/1.0",
                    "Full time course",
                    "Part time course",
                    "no_enrollment"
                  ],
                  "labels": [
                    "0.0",
                    "0.0",
                    "0.0",
                    "1.0",
                    "1.0",
                    "1.0",
                    "Full time course",
                    "Part time course",
                    "no_enrollment"
                  ],
                  "marker": {
                    "coloraxis": "coloraxis",
                    "colors": [
                      0,
                      0,
                      0,
                      1,
                      1,
                      1,
                      0.37856328392246297,
                      0.24477351916376305,
                      0.21014871833196322
                    ]
                  },
                  "name": "",
                  "parents": [
                    "Full time course",
                    "Part time course",
                    "no_enrollment",
                    "Full time course",
                    "Part time course",
                    "no_enrollment",
                    "",
                    "",
                    ""
                  ],
                  "type": "sunburst",
                  "values": [
                    2180,
                    867,
                    10569,
                    1328,
                    281,
                    2812,
                    3508,
                    1148,
                    13381
                  ]
                }
              ],
              "layout": {
                "coloraxis": {
                  "colorbar": {
                    "title": {
                      "text": "target"
                    }
                  },
                  "colorscale": [
                    [
                      0,
                      "#0d0887"
                    ],
                    [
                      0.1111111111111111,
                      "#46039f"
                    ],
                    [
                      0.2222222222222222,
                      "#7201a8"
                    ],
                    [
                      0.3333333333333333,
                      "#9c179e"
                    ],
                    [
                      0.4444444444444444,
                      "#bd3786"
                    ],
                    [
                      0.5555555555555556,
                      "#d8576b"
                    ],
                    [
                      0.6666666666666666,
                      "#ed7953"
                    ],
                    [
                      0.7777777777777778,
                      "#fb9f3a"
                    ],
                    [
                      0.8888888888888888,
                      "#fdca26"
                    ],
                    [
                      1,
                      "#f0f921"
                    ]
                  ]
                },
                "legend": {
                  "tracegroupgap": 0
                },
                "margin": {
                  "t": 60
                },
                "template": {
                  "data": {
                    "bar": [
                      {
                        "error_x": {
                          "color": "#2a3f5f"
                        },
                        "error_y": {
                          "color": "#2a3f5f"
                        },
                        "marker": {
                          "line": {
                            "color": "#E5ECF6",
                            "width": 0.5
                          }
                        },
                        "type": "bar"
                      }
                    ],
                    "barpolar": [
                      {
                        "marker": {
                          "line": {
                            "color": "#E5ECF6",
                            "width": 0.5
                          }
                        },
                        "type": "barpolar"
                      }
                    ],
                    "carpet": [
                      {
                        "aaxis": {
                          "endlinecolor": "#2a3f5f",
                          "gridcolor": "white",
                          "linecolor": "white",
                          "minorgridcolor": "white",
                          "startlinecolor": "#2a3f5f"
                        },
                        "baxis": {
                          "endlinecolor": "#2a3f5f",
                          "gridcolor": "white",
                          "linecolor": "white",
                          "minorgridcolor": "white",
                          "startlinecolor": "#2a3f5f"
                        },
                        "type": "carpet"
                      }
                    ],
                    "choropleth": [
                      {
                        "colorbar": {
                          "outlinewidth": 0,
                          "ticks": ""
                        },
                        "type": "choropleth"
                      }
                    ],
                    "contour": [
                      {
                        "colorbar": {
                          "outlinewidth": 0,
                          "ticks": ""
                        },
                        "colorscale": [
                          [
                            0,
                            "#0d0887"
                          ],
                          [
                            0.1111111111111111,
                            "#46039f"
                          ],
                          [
                            0.2222222222222222,
                            "#7201a8"
                          ],
                          [
                            0.3333333333333333,
                            "#9c179e"
                          ],
                          [
                            0.4444444444444444,
                            "#bd3786"
                          ],
                          [
                            0.5555555555555556,
                            "#d8576b"
                          ],
                          [
                            0.6666666666666666,
                            "#ed7953"
                          ],
                          [
                            0.7777777777777778,
                            "#fb9f3a"
                          ],
                          [
                            0.8888888888888888,
                            "#fdca26"
                          ],
                          [
                            1,
                            "#f0f921"
                          ]
                        ],
                        "type": "contour"
                      }
                    ],
                    "contourcarpet": [
                      {
                        "colorbar": {
                          "outlinewidth": 0,
                          "ticks": ""
                        },
                        "type": "contourcarpet"
                      }
                    ],
                    "heatmap": [
                      {
                        "colorbar": {
                          "outlinewidth": 0,
                          "ticks": ""
                        },
                        "colorscale": [
                          [
                            0,
                            "#0d0887"
                          ],
                          [
                            0.1111111111111111,
                            "#46039f"
                          ],
                          [
                            0.2222222222222222,
                            "#7201a8"
                          ],
                          [
                            0.3333333333333333,
                            "#9c179e"
                          ],
                          [
                            0.4444444444444444,
                            "#bd3786"
                          ],
                          [
                            0.5555555555555556,
                            "#d8576b"
                          ],
                          [
                            0.6666666666666666,
                            "#ed7953"
                          ],
                          [
                            0.7777777777777778,
                            "#fb9f3a"
                          ],
                          [
                            0.8888888888888888,
                            "#fdca26"
                          ],
                          [
                            1,
                            "#f0f921"
                          ]
                        ],
                        "type": "heatmap"
                      }
                    ],
                    "heatmapgl": [
                      {
                        "colorbar": {
                          "outlinewidth": 0,
                          "ticks": ""
                        },
                        "colorscale": [
                          [
                            0,
                            "#0d0887"
                          ],
                          [
                            0.1111111111111111,
                            "#46039f"
                          ],
                          [
                            0.2222222222222222,
                            "#7201a8"
                          ],
                          [
                            0.3333333333333333,
                            "#9c179e"
                          ],
                          [
                            0.4444444444444444,
                            "#bd3786"
                          ],
                          [
                            0.5555555555555556,
                            "#d8576b"
                          ],
                          [
                            0.6666666666666666,
                            "#ed7953"
                          ],
                          [
                            0.7777777777777778,
                            "#fb9f3a"
                          ],
                          [
                            0.8888888888888888,
                            "#fdca26"
                          ],
                          [
                            1,
                            "#f0f921"
                          ]
                        ],
                        "type": "heatmapgl"
                      }
                    ],
                    "histogram": [
                      {
                        "marker": {
                          "colorbar": {
                            "outlinewidth": 0,
                            "ticks": ""
                          }
                        },
                        "type": "histogram"
                      }
                    ],
                    "histogram2d": [
                      {
                        "colorbar": {
                          "outlinewidth": 0,
                          "ticks": ""
                        },
                        "colorscale": [
                          [
                            0,
                            "#0d0887"
                          ],
                          [
                            0.1111111111111111,
                            "#46039f"
                          ],
                          [
                            0.2222222222222222,
                            "#7201a8"
                          ],
                          [
                            0.3333333333333333,
                            "#9c179e"
                          ],
                          [
                            0.4444444444444444,
                            "#bd3786"
                          ],
                          [
                            0.5555555555555556,
                            "#d8576b"
                          ],
                          [
                            0.6666666666666666,
                            "#ed7953"
                          ],
                          [
                            0.7777777777777778,
                            "#fb9f3a"
                          ],
                          [
                            0.8888888888888888,
                            "#fdca26"
                          ],
                          [
                            1,
                            "#f0f921"
                          ]
                        ],
                        "type": "histogram2d"
                      }
                    ],
                    "histogram2dcontour": [
                      {
                        "colorbar": {
                          "outlinewidth": 0,
                          "ticks": ""
                        },
                        "colorscale": [
                          [
                            0,
                            "#0d0887"
                          ],
                          [
                            0.1111111111111111,
                            "#46039f"
                          ],
                          [
                            0.2222222222222222,
                            "#7201a8"
                          ],
                          [
                            0.3333333333333333,
                            "#9c179e"
                          ],
                          [
                            0.4444444444444444,
                            "#bd3786"
                          ],
                          [
                            0.5555555555555556,
                            "#d8576b"
                          ],
                          [
                            0.6666666666666666,
                            "#ed7953"
                          ],
                          [
                            0.7777777777777778,
                            "#fb9f3a"
                          ],
                          [
                            0.8888888888888888,
                            "#fdca26"
                          ],
                          [
                            1,
                            "#f0f921"
                          ]
                        ],
                        "type": "histogram2dcontour"
                      }
                    ],
                    "mesh3d": [
                      {
                        "colorbar": {
                          "outlinewidth": 0,
                          "ticks": ""
                        },
                        "type": "mesh3d"
                      }
                    ],
                    "parcoords": [
                      {
                        "line": {
                          "colorbar": {
                            "outlinewidth": 0,
                            "ticks": ""
                          }
                        },
                        "type": "parcoords"
                      }
                    ],
                    "pie": [
                      {
                        "automargin": true,
                        "type": "pie"
                      }
                    ],
                    "scatter": [
                      {
                        "marker": {
                          "colorbar": {
                            "outlinewidth": 0,
                            "ticks": ""
                          }
                        },
                        "type": "scatter"
                      }
                    ],
                    "scatter3d": [
                      {
                        "line": {
                          "colorbar": {
                            "outlinewidth": 0,
                            "ticks": ""
                          }
                        },
                        "marker": {
                          "colorbar": {
                            "outlinewidth": 0,
                            "ticks": ""
                          }
                        },
                        "type": "scatter3d"
                      }
                    ],
                    "scattercarpet": [
                      {
                        "marker": {
                          "colorbar": {
                            "outlinewidth": 0,
                            "ticks": ""
                          }
                        },
                        "type": "scattercarpet"
                      }
                    ],
                    "scattergeo": [
                      {
                        "marker": {
                          "colorbar": {
                            "outlinewidth": 0,
                            "ticks": ""
                          }
                        },
                        "type": "scattergeo"
                      }
                    ],
                    "scattergl": [
                      {
                        "marker": {
                          "colorbar": {
                            "outlinewidth": 0,
                            "ticks": ""
                          }
                        },
                        "type": "scattergl"
                      }
                    ],
                    "scattermapbox": [
                      {
                        "marker": {
                          "colorbar": {
                            "outlinewidth": 0,
                            "ticks": ""
                          }
                        },
                        "type": "scattermapbox"
                      }
                    ],
                    "scatterpolar": [
                      {
                        "marker": {
                          "colorbar": {
                            "outlinewidth": 0,
                            "ticks": ""
                          }
                        },
                        "type": "scatterpolar"
                      }
                    ],
                    "scatterpolargl": [
                      {
                        "marker": {
                          "colorbar": {
                            "outlinewidth": 0,
                            "ticks": ""
                          }
                        },
                        "type": "scatterpolargl"
                      }
                    ],
                    "scatterternary": [
                      {
                        "marker": {
                          "colorbar": {
                            "outlinewidth": 0,
                            "ticks": ""
                          }
                        },
                        "type": "scatterternary"
                      }
                    ],
                    "surface": [
                      {
                        "colorbar": {
                          "outlinewidth": 0,
                          "ticks": ""
                        },
                        "colorscale": [
                          [
                            0,
                            "#0d0887"
                          ],
                          [
                            0.1111111111111111,
                            "#46039f"
                          ],
                          [
                            0.2222222222222222,
                            "#7201a8"
                          ],
                          [
                            0.3333333333333333,
                            "#9c179e"
                          ],
                          [
                            0.4444444444444444,
                            "#bd3786"
                          ],
                          [
                            0.5555555555555556,
                            "#d8576b"
                          ],
                          [
                            0.6666666666666666,
                            "#ed7953"
                          ],
                          [
                            0.7777777777777778,
                            "#fb9f3a"
                          ],
                          [
                            0.8888888888888888,
                            "#fdca26"
                          ],
                          [
                            1,
                            "#f0f921"
                          ]
                        ],
                        "type": "surface"
                      }
                    ],
                    "table": [
                      {
                        "cells": {
                          "fill": {
                            "color": "#EBF0F8"
                          },
                          "line": {
                            "color": "white"
                          }
                        },
                        "header": {
                          "fill": {
                            "color": "#C8D4E3"
                          },
                          "line": {
                            "color": "white"
                          }
                        },
                        "type": "table"
                      }
                    ]
                  },
                  "layout": {
                    "annotationdefaults": {
                      "arrowcolor": "#2a3f5f",
                      "arrowhead": 0,
                      "arrowwidth": 1
                    },
                    "autotypenumbers": "strict",
                    "coloraxis": {
                      "colorbar": {
                        "outlinewidth": 0,
                        "ticks": ""
                      }
                    },
                    "colorscale": {
                      "diverging": [
                        [
                          0,
                          "#8e0152"
                        ],
                        [
                          0.1,
                          "#c51b7d"
                        ],
                        [
                          0.2,
                          "#de77ae"
                        ],
                        [
                          0.3,
                          "#f1b6da"
                        ],
                        [
                          0.4,
                          "#fde0ef"
                        ],
                        [
                          0.5,
                          "#f7f7f7"
                        ],
                        [
                          0.6,
                          "#e6f5d0"
                        ],
                        [
                          0.7,
                          "#b8e186"
                        ],
                        [
                          0.8,
                          "#7fbc41"
                        ],
                        [
                          0.9,
                          "#4d9221"
                        ],
                        [
                          1,
                          "#276419"
                        ]
                      ],
                      "sequential": [
                        [
                          0,
                          "#0d0887"
                        ],
                        [
                          0.1111111111111111,
                          "#46039f"
                        ],
                        [
                          0.2222222222222222,
                          "#7201a8"
                        ],
                        [
                          0.3333333333333333,
                          "#9c179e"
                        ],
                        [
                          0.4444444444444444,
                          "#bd3786"
                        ],
                        [
                          0.5555555555555556,
                          "#d8576b"
                        ],
                        [
                          0.6666666666666666,
                          "#ed7953"
                        ],
                        [
                          0.7777777777777778,
                          "#fb9f3a"
                        ],
                        [
                          0.8888888888888888,
                          "#fdca26"
                        ],
                        [
                          1,
                          "#f0f921"
                        ]
                      ],
                      "sequentialminus": [
                        [
                          0,
                          "#0d0887"
                        ],
                        [
                          0.1111111111111111,
                          "#46039f"
                        ],
                        [
                          0.2222222222222222,
                          "#7201a8"
                        ],
                        [
                          0.3333333333333333,
                          "#9c179e"
                        ],
                        [
                          0.4444444444444444,
                          "#bd3786"
                        ],
                        [
                          0.5555555555555556,
                          "#d8576b"
                        ],
                        [
                          0.6666666666666666,
                          "#ed7953"
                        ],
                        [
                          0.7777777777777778,
                          "#fb9f3a"
                        ],
                        [
                          0.8888888888888888,
                          "#fdca26"
                        ],
                        [
                          1,
                          "#f0f921"
                        ]
                      ]
                    },
                    "colorway": [
                      "#636efa",
                      "#EF553B",
                      "#00cc96",
                      "#ab63fa",
                      "#FFA15A",
                      "#19d3f3",
                      "#FF6692",
                      "#B6E880",
                      "#FF97FF",
                      "#FECB52"
                    ],
                    "font": {
                      "color": "#2a3f5f"
                    },
                    "geo": {
                      "bgcolor": "white",
                      "lakecolor": "white",
                      "landcolor": "#E5ECF6",
                      "showlakes": true,
                      "showland": true,
                      "subunitcolor": "white"
                    },
                    "hoverlabel": {
                      "align": "left"
                    },
                    "hovermode": "closest",
                    "mapbox": {
                      "style": "light"
                    },
                    "paper_bgcolor": "white",
                    "plot_bgcolor": "#E5ECF6",
                    "polar": {
                      "angularaxis": {
                        "gridcolor": "white",
                        "linecolor": "white",
                        "ticks": ""
                      },
                      "bgcolor": "#E5ECF6",
                      "radialaxis": {
                        "gridcolor": "white",
                        "linecolor": "white",
                        "ticks": ""
                      }
                    },
                    "scene": {
                      "xaxis": {
                        "backgroundcolor": "#E5ECF6",
                        "gridcolor": "white",
                        "gridwidth": 2,
                        "linecolor": "white",
                        "showbackground": true,
                        "ticks": "",
                        "zerolinecolor": "white"
                      },
                      "yaxis": {
                        "backgroundcolor": "#E5ECF6",
                        "gridcolor": "white",
                        "gridwidth": 2,
                        "linecolor": "white",
                        "showbackground": true,
                        "ticks": "",
                        "zerolinecolor": "white"
                      },
                      "zaxis": {
                        "backgroundcolor": "#E5ECF6",
                        "gridcolor": "white",
                        "gridwidth": 2,
                        "linecolor": "white",
                        "showbackground": true,
                        "ticks": "",
                        "zerolinecolor": "white"
                      }
                    },
                    "shapedefaults": {
                      "line": {
                        "color": "#2a3f5f"
                      }
                    },
                    "ternary": {
                      "aaxis": {
                        "gridcolor": "white",
                        "linecolor": "white",
                        "ticks": ""
                      },
                      "baxis": {
                        "gridcolor": "white",
                        "linecolor": "white",
                        "ticks": ""
                      },
                      "bgcolor": "#E5ECF6",
                      "caxis": {
                        "gridcolor": "white",
                        "linecolor": "white",
                        "ticks": ""
                      }
                    },
                    "title": {
                      "x": 0.05
                    },
                    "xaxis": {
                      "automargin": true,
                      "gridcolor": "white",
                      "linecolor": "white",
                      "ticks": "",
                      "title": {
                        "standoff": 15
                      },
                      "zerolinecolor": "white",
                      "zerolinewidth": 2
                    },
                    "yaxis": {
                      "automargin": true,
                      "gridcolor": "white",
                      "linecolor": "white",
                      "ticks": "",
                      "title": {
                        "standoff": 15
                      },
                      "zerolinecolor": "white",
                      "zerolinewidth": 2
                    }
                  }
                }
              }
            }
          },
          "metadata": {},
          "output_type": "display_data"
        },
        {
          "data": {
            "application/vnd.plotly.v1+json": {
              "config": {
                "plotlyServerURL": "https://plot.ly"
              },
              "data": [
                {
                  "branchvalues": "total",
                  "customdata": [
                    [
                      0
                    ],
                    [
                      0
                    ],
                    [
                      0
                    ],
                    [
                      0
                    ],
                    [
                      0
                    ],
                    [
                      1
                    ],
                    [
                      1
                    ],
                    [
                      1
                    ],
                    [
                      1
                    ],
                    [
                      1
                    ],
                    [
                      0.2746485179546879
                    ],
                    [
                      0.19487179487179487
                    ],
                    [
                      0.20866887730933206
                    ],
                    [
                      0.13784461152882205
                    ],
                    [
                      0.12709030100334448
                    ]
                  ],
                  "domain": {
                    "x": [
                      0,
                      1
                    ],
                    "y": [
                      0,
                      1
                    ]
                  },
                  "hovertemplate": "labels=%{label}<br>count=%{value}<br>parent=%{parent}<br>id=%{id}<br>target=%{color}<extra></extra>",
                  "ids": [
                    "Graduate/0.0",
                    "High School/0.0",
                    "Masters/0.0",
                    "Phd/0.0",
                    "Primary School/0.0",
                    "Graduate/1.0",
                    "High School/1.0",
                    "Masters/1.0",
                    "Phd/1.0",
                    "Primary School/1.0",
                    "Graduate",
                    "High School",
                    "Masters",
                    "Phd",
                    "Primary School"
                  ],
                  "labels": [
                    "0.0",
                    "0.0",
                    "0.0",
                    "0.0",
                    "0.0",
                    "1.0",
                    "1.0",
                    "1.0",
                    "1.0",
                    "1.0",
                    "Graduate",
                    "High School",
                    "Masters",
                    "Phd",
                    "Primary School"
                  ],
                  "marker": {
                    "coloraxis": "coloraxis",
                    "colors": [
                      0,
                      0,
                      0,
                      0,
                      0,
                      1,
                      1,
                      1,
                      1,
                      1,
                      0.2746485179546879,
                      0.19487179487179487,
                      0.20866887730933206,
                      0.13784461152882205,
                      0.12709030100334448
                    ]
                  },
                  "name": "",
                  "parents": [
                    "Graduate",
                    "High School",
                    "Masters",
                    "Phd",
                    "Primary School",
                    "Graduate",
                    "High School",
                    "Masters",
                    "Phd",
                    "Primary School",
                    "",
                    "",
                    "",
                    "",
                    ""
                  ],
                  "type": "sunburst",
                  "values": [
                    8100,
                    1570,
                    3341,
                    344,
                    261,
                    3067,
                    380,
                    881,
                    55,
                    38,
                    11167,
                    1950,
                    4222,
                    399,
                    299
                  ]
                }
              ],
              "layout": {
                "coloraxis": {
                  "colorbar": {
                    "title": {
                      "text": "target"
                    }
                  },
                  "colorscale": [
                    [
                      0,
                      "#0d0887"
                    ],
                    [
                      0.1111111111111111,
                      "#46039f"
                    ],
                    [
                      0.2222222222222222,
                      "#7201a8"
                    ],
                    [
                      0.3333333333333333,
                      "#9c179e"
                    ],
                    [
                      0.4444444444444444,
                      "#bd3786"
                    ],
                    [
                      0.5555555555555556,
                      "#d8576b"
                    ],
                    [
                      0.6666666666666666,
                      "#ed7953"
                    ],
                    [
                      0.7777777777777778,
                      "#fb9f3a"
                    ],
                    [
                      0.8888888888888888,
                      "#fdca26"
                    ],
                    [
                      1,
                      "#f0f921"
                    ]
                  ]
                },
                "legend": {
                  "tracegroupgap": 0
                },
                "margin": {
                  "t": 60
                },
                "template": {
                  "data": {
                    "bar": [
                      {
                        "error_x": {
                          "color": "#2a3f5f"
                        },
                        "error_y": {
                          "color": "#2a3f5f"
                        },
                        "marker": {
                          "line": {
                            "color": "#E5ECF6",
                            "width": 0.5
                          }
                        },
                        "type": "bar"
                      }
                    ],
                    "barpolar": [
                      {
                        "marker": {
                          "line": {
                            "color": "#E5ECF6",
                            "width": 0.5
                          }
                        },
                        "type": "barpolar"
                      }
                    ],
                    "carpet": [
                      {
                        "aaxis": {
                          "endlinecolor": "#2a3f5f",
                          "gridcolor": "white",
                          "linecolor": "white",
                          "minorgridcolor": "white",
                          "startlinecolor": "#2a3f5f"
                        },
                        "baxis": {
                          "endlinecolor": "#2a3f5f",
                          "gridcolor": "white",
                          "linecolor": "white",
                          "minorgridcolor": "white",
                          "startlinecolor": "#2a3f5f"
                        },
                        "type": "carpet"
                      }
                    ],
                    "choropleth": [
                      {
                        "colorbar": {
                          "outlinewidth": 0,
                          "ticks": ""
                        },
                        "type": "choropleth"
                      }
                    ],
                    "contour": [
                      {
                        "colorbar": {
                          "outlinewidth": 0,
                          "ticks": ""
                        },
                        "colorscale": [
                          [
                            0,
                            "#0d0887"
                          ],
                          [
                            0.1111111111111111,
                            "#46039f"
                          ],
                          [
                            0.2222222222222222,
                            "#7201a8"
                          ],
                          [
                            0.3333333333333333,
                            "#9c179e"
                          ],
                          [
                            0.4444444444444444,
                            "#bd3786"
                          ],
                          [
                            0.5555555555555556,
                            "#d8576b"
                          ],
                          [
                            0.6666666666666666,
                            "#ed7953"
                          ],
                          [
                            0.7777777777777778,
                            "#fb9f3a"
                          ],
                          [
                            0.8888888888888888,
                            "#fdca26"
                          ],
                          [
                            1,
                            "#f0f921"
                          ]
                        ],
                        "type": "contour"
                      }
                    ],
                    "contourcarpet": [
                      {
                        "colorbar": {
                          "outlinewidth": 0,
                          "ticks": ""
                        },
                        "type": "contourcarpet"
                      }
                    ],
                    "heatmap": [
                      {
                        "colorbar": {
                          "outlinewidth": 0,
                          "ticks": ""
                        },
                        "colorscale": [
                          [
                            0,
                            "#0d0887"
                          ],
                          [
                            0.1111111111111111,
                            "#46039f"
                          ],
                          [
                            0.2222222222222222,
                            "#7201a8"
                          ],
                          [
                            0.3333333333333333,
                            "#9c179e"
                          ],
                          [
                            0.4444444444444444,
                            "#bd3786"
                          ],
                          [
                            0.5555555555555556,
                            "#d8576b"
                          ],
                          [
                            0.6666666666666666,
                            "#ed7953"
                          ],
                          [
                            0.7777777777777778,
                            "#fb9f3a"
                          ],
                          [
                            0.8888888888888888,
                            "#fdca26"
                          ],
                          [
                            1,
                            "#f0f921"
                          ]
                        ],
                        "type": "heatmap"
                      }
                    ],
                    "heatmapgl": [
                      {
                        "colorbar": {
                          "outlinewidth": 0,
                          "ticks": ""
                        },
                        "colorscale": [
                          [
                            0,
                            "#0d0887"
                          ],
                          [
                            0.1111111111111111,
                            "#46039f"
                          ],
                          [
                            0.2222222222222222,
                            "#7201a8"
                          ],
                          [
                            0.3333333333333333,
                            "#9c179e"
                          ],
                          [
                            0.4444444444444444,
                            "#bd3786"
                          ],
                          [
                            0.5555555555555556,
                            "#d8576b"
                          ],
                          [
                            0.6666666666666666,
                            "#ed7953"
                          ],
                          [
                            0.7777777777777778,
                            "#fb9f3a"
                          ],
                          [
                            0.8888888888888888,
                            "#fdca26"
                          ],
                          [
                            1,
                            "#f0f921"
                          ]
                        ],
                        "type": "heatmapgl"
                      }
                    ],
                    "histogram": [
                      {
                        "marker": {
                          "colorbar": {
                            "outlinewidth": 0,
                            "ticks": ""
                          }
                        },
                        "type": "histogram"
                      }
                    ],
                    "histogram2d": [
                      {
                        "colorbar": {
                          "outlinewidth": 0,
                          "ticks": ""
                        },
                        "colorscale": [
                          [
                            0,
                            "#0d0887"
                          ],
                          [
                            0.1111111111111111,
                            "#46039f"
                          ],
                          [
                            0.2222222222222222,
                            "#7201a8"
                          ],
                          [
                            0.3333333333333333,
                            "#9c179e"
                          ],
                          [
                            0.4444444444444444,
                            "#bd3786"
                          ],
                          [
                            0.5555555555555556,
                            "#d8576b"
                          ],
                          [
                            0.6666666666666666,
                            "#ed7953"
                          ],
                          [
                            0.7777777777777778,
                            "#fb9f3a"
                          ],
                          [
                            0.8888888888888888,
                            "#fdca26"
                          ],
                          [
                            1,
                            "#f0f921"
                          ]
                        ],
                        "type": "histogram2d"
                      }
                    ],
                    "histogram2dcontour": [
                      {
                        "colorbar": {
                          "outlinewidth": 0,
                          "ticks": ""
                        },
                        "colorscale": [
                          [
                            0,
                            "#0d0887"
                          ],
                          [
                            0.1111111111111111,
                            "#46039f"
                          ],
                          [
                            0.2222222222222222,
                            "#7201a8"
                          ],
                          [
                            0.3333333333333333,
                            "#9c179e"
                          ],
                          [
                            0.4444444444444444,
                            "#bd3786"
                          ],
                          [
                            0.5555555555555556,
                            "#d8576b"
                          ],
                          [
                            0.6666666666666666,
                            "#ed7953"
                          ],
                          [
                            0.7777777777777778,
                            "#fb9f3a"
                          ],
                          [
                            0.8888888888888888,
                            "#fdca26"
                          ],
                          [
                            1,
                            "#f0f921"
                          ]
                        ],
                        "type": "histogram2dcontour"
                      }
                    ],
                    "mesh3d": [
                      {
                        "colorbar": {
                          "outlinewidth": 0,
                          "ticks": ""
                        },
                        "type": "mesh3d"
                      }
                    ],
                    "parcoords": [
                      {
                        "line": {
                          "colorbar": {
                            "outlinewidth": 0,
                            "ticks": ""
                          }
                        },
                        "type": "parcoords"
                      }
                    ],
                    "pie": [
                      {
                        "automargin": true,
                        "type": "pie"
                      }
                    ],
                    "scatter": [
                      {
                        "marker": {
                          "colorbar": {
                            "outlinewidth": 0,
                            "ticks": ""
                          }
                        },
                        "type": "scatter"
                      }
                    ],
                    "scatter3d": [
                      {
                        "line": {
                          "colorbar": {
                            "outlinewidth": 0,
                            "ticks": ""
                          }
                        },
                        "marker": {
                          "colorbar": {
                            "outlinewidth": 0,
                            "ticks": ""
                          }
                        },
                        "type": "scatter3d"
                      }
                    ],
                    "scattercarpet": [
                      {
                        "marker": {
                          "colorbar": {
                            "outlinewidth": 0,
                            "ticks": ""
                          }
                        },
                        "type": "scattercarpet"
                      }
                    ],
                    "scattergeo": [
                      {
                        "marker": {
                          "colorbar": {
                            "outlinewidth": 0,
                            "ticks": ""
                          }
                        },
                        "type": "scattergeo"
                      }
                    ],
                    "scattergl": [
                      {
                        "marker": {
                          "colorbar": {
                            "outlinewidth": 0,
                            "ticks": ""
                          }
                        },
                        "type": "scattergl"
                      }
                    ],
                    "scattermapbox": [
                      {
                        "marker": {
                          "colorbar": {
                            "outlinewidth": 0,
                            "ticks": ""
                          }
                        },
                        "type": "scattermapbox"
                      }
                    ],
                    "scatterpolar": [
                      {
                        "marker": {
                          "colorbar": {
                            "outlinewidth": 0,
                            "ticks": ""
                          }
                        },
                        "type": "scatterpolar"
                      }
                    ],
                    "scatterpolargl": [
                      {
                        "marker": {
                          "colorbar": {
                            "outlinewidth": 0,
                            "ticks": ""
                          }
                        },
                        "type": "scatterpolargl"
                      }
                    ],
                    "scatterternary": [
                      {
                        "marker": {
                          "colorbar": {
                            "outlinewidth": 0,
                            "ticks": ""
                          }
                        },
                        "type": "scatterternary"
                      }
                    ],
                    "surface": [
                      {
                        "colorbar": {
                          "outlinewidth": 0,
                          "ticks": ""
                        },
                        "colorscale": [
                          [
                            0,
                            "#0d0887"
                          ],
                          [
                            0.1111111111111111,
                            "#46039f"
                          ],
                          [
                            0.2222222222222222,
                            "#7201a8"
                          ],
                          [
                            0.3333333333333333,
                            "#9c179e"
                          ],
                          [
                            0.4444444444444444,
                            "#bd3786"
                          ],
                          [
                            0.5555555555555556,
                            "#d8576b"
                          ],
                          [
                            0.6666666666666666,
                            "#ed7953"
                          ],
                          [
                            0.7777777777777778,
                            "#fb9f3a"
                          ],
                          [
                            0.8888888888888888,
                            "#fdca26"
                          ],
                          [
                            1,
                            "#f0f921"
                          ]
                        ],
                        "type": "surface"
                      }
                    ],
                    "table": [
                      {
                        "cells": {
                          "fill": {
                            "color": "#EBF0F8"
                          },
                          "line": {
                            "color": "white"
                          }
                        },
                        "header": {
                          "fill": {
                            "color": "#C8D4E3"
                          },
                          "line": {
                            "color": "white"
                          }
                        },
                        "type": "table"
                      }
                    ]
                  },
                  "layout": {
                    "annotationdefaults": {
                      "arrowcolor": "#2a3f5f",
                      "arrowhead": 0,
                      "arrowwidth": 1
                    },
                    "autotypenumbers": "strict",
                    "coloraxis": {
                      "colorbar": {
                        "outlinewidth": 0,
                        "ticks": ""
                      }
                    },
                    "colorscale": {
                      "diverging": [
                        [
                          0,
                          "#8e0152"
                        ],
                        [
                          0.1,
                          "#c51b7d"
                        ],
                        [
                          0.2,
                          "#de77ae"
                        ],
                        [
                          0.3,
                          "#f1b6da"
                        ],
                        [
                          0.4,
                          "#fde0ef"
                        ],
                        [
                          0.5,
                          "#f7f7f7"
                        ],
                        [
                          0.6,
                          "#e6f5d0"
                        ],
                        [
                          0.7,
                          "#b8e186"
                        ],
                        [
                          0.8,
                          "#7fbc41"
                        ],
                        [
                          0.9,
                          "#4d9221"
                        ],
                        [
                          1,
                          "#276419"
                        ]
                      ],
                      "sequential": [
                        [
                          0,
                          "#0d0887"
                        ],
                        [
                          0.1111111111111111,
                          "#46039f"
                        ],
                        [
                          0.2222222222222222,
                          "#7201a8"
                        ],
                        [
                          0.3333333333333333,
                          "#9c179e"
                        ],
                        [
                          0.4444444444444444,
                          "#bd3786"
                        ],
                        [
                          0.5555555555555556,
                          "#d8576b"
                        ],
                        [
                          0.6666666666666666,
                          "#ed7953"
                        ],
                        [
                          0.7777777777777778,
                          "#fb9f3a"
                        ],
                        [
                          0.8888888888888888,
                          "#fdca26"
                        ],
                        [
                          1,
                          "#f0f921"
                        ]
                      ],
                      "sequentialminus": [
                        [
                          0,
                          "#0d0887"
                        ],
                        [
                          0.1111111111111111,
                          "#46039f"
                        ],
                        [
                          0.2222222222222222,
                          "#7201a8"
                        ],
                        [
                          0.3333333333333333,
                          "#9c179e"
                        ],
                        [
                          0.4444444444444444,
                          "#bd3786"
                        ],
                        [
                          0.5555555555555556,
                          "#d8576b"
                        ],
                        [
                          0.6666666666666666,
                          "#ed7953"
                        ],
                        [
                          0.7777777777777778,
                          "#fb9f3a"
                        ],
                        [
                          0.8888888888888888,
                          "#fdca26"
                        ],
                        [
                          1,
                          "#f0f921"
                        ]
                      ]
                    },
                    "colorway": [
                      "#636efa",
                      "#EF553B",
                      "#00cc96",
                      "#ab63fa",
                      "#FFA15A",
                      "#19d3f3",
                      "#FF6692",
                      "#B6E880",
                      "#FF97FF",
                      "#FECB52"
                    ],
                    "font": {
                      "color": "#2a3f5f"
                    },
                    "geo": {
                      "bgcolor": "white",
                      "lakecolor": "white",
                      "landcolor": "#E5ECF6",
                      "showlakes": true,
                      "showland": true,
                      "subunitcolor": "white"
                    },
                    "hoverlabel": {
                      "align": "left"
                    },
                    "hovermode": "closest",
                    "mapbox": {
                      "style": "light"
                    },
                    "paper_bgcolor": "white",
                    "plot_bgcolor": "#E5ECF6",
                    "polar": {
                      "angularaxis": {
                        "gridcolor": "white",
                        "linecolor": "white",
                        "ticks": ""
                      },
                      "bgcolor": "#E5ECF6",
                      "radialaxis": {
                        "gridcolor": "white",
                        "linecolor": "white",
                        "ticks": ""
                      }
                    },
                    "scene": {
                      "xaxis": {
                        "backgroundcolor": "#E5ECF6",
                        "gridcolor": "white",
                        "gridwidth": 2,
                        "linecolor": "white",
                        "showbackground": true,
                        "ticks": "",
                        "zerolinecolor": "white"
                      },
                      "yaxis": {
                        "backgroundcolor": "#E5ECF6",
                        "gridcolor": "white",
                        "gridwidth": 2,
                        "linecolor": "white",
                        "showbackground": true,
                        "ticks": "",
                        "zerolinecolor": "white"
                      },
                      "zaxis": {
                        "backgroundcolor": "#E5ECF6",
                        "gridcolor": "white",
                        "gridwidth": 2,
                        "linecolor": "white",
                        "showbackground": true,
                        "ticks": "",
                        "zerolinecolor": "white"
                      }
                    },
                    "shapedefaults": {
                      "line": {
                        "color": "#2a3f5f"
                      }
                    },
                    "ternary": {
                      "aaxis": {
                        "gridcolor": "white",
                        "linecolor": "white",
                        "ticks": ""
                      },
                      "baxis": {
                        "gridcolor": "white",
                        "linecolor": "white",
                        "ticks": ""
                      },
                      "bgcolor": "#E5ECF6",
                      "caxis": {
                        "gridcolor": "white",
                        "linecolor": "white",
                        "ticks": ""
                      }
                    },
                    "title": {
                      "x": 0.05
                    },
                    "xaxis": {
                      "automargin": true,
                      "gridcolor": "white",
                      "linecolor": "white",
                      "ticks": "",
                      "title": {
                        "standoff": 15
                      },
                      "zerolinecolor": "white",
                      "zerolinewidth": 2
                    },
                    "yaxis": {
                      "automargin": true,
                      "gridcolor": "white",
                      "linecolor": "white",
                      "ticks": "",
                      "title": {
                        "standoff": 15
                      },
                      "zerolinecolor": "white",
                      "zerolinewidth": 2
                    }
                  }
                }
              }
            }
          },
          "metadata": {},
          "output_type": "display_data"
        },
        {
          "data": {
            "application/vnd.plotly.v1+json": {
              "config": {
                "plotlyServerURL": "https://plot.ly"
              },
              "data": [
                {
                  "branchvalues": "total",
                  "customdata": [
                    [
                      0
                    ],
                    [
                      0
                    ],
                    [
                      0
                    ],
                    [
                      0
                    ],
                    [
                      0
                    ],
                    [
                      0
                    ],
                    [
                      0
                    ],
                    [
                      1
                    ],
                    [
                      1
                    ],
                    [
                      1
                    ],
                    [
                      1
                    ],
                    [
                      1
                    ],
                    [
                      1
                    ],
                    [
                      1
                    ],
                    [
                      0.20967741935483872
                    ],
                    [
                      0.2608695652173913
                    ],
                    [
                      0.20520673813169985
                    ],
                    [
                      0.24528301886792453
                    ],
                    [
                      0.25274725274725274
                    ],
                    [
                      0.2565587247122739
                    ],
                    [
                      0.1858603823921743
                    ]
                  ],
                  "domain": {
                    "x": [
                      0,
                      1
                    ],
                    "y": [
                      0,
                      1
                    ]
                  },
                  "hovertemplate": "labels=%{label}<br>count=%{value}<br>parent=%{parent}<br>id=%{id}<br>target=%{color}<extra></extra>",
                  "ids": [
                    "Arts/0.0",
                    "Business Degree/0.0",
                    "Humanities/0.0",
                    "No Major/0.0",
                    "Other/0.0",
                    "STEM/0.0",
                    "not available/0.0",
                    "Arts/1.0",
                    "Business Degree/1.0",
                    "Humanities/1.0",
                    "No Major/1.0",
                    "Other/1.0",
                    "STEM/1.0",
                    "not available/1.0",
                    "Arts",
                    "Business Degree",
                    "Humanities",
                    "No Major",
                    "Other",
                    "STEM",
                    "not available"
                  ],
                  "labels": [
                    "0.0",
                    "0.0",
                    "0.0",
                    "0.0",
                    "0.0",
                    "0.0",
                    "0.0",
                    "1.0",
                    "1.0",
                    "1.0",
                    "1.0",
                    "1.0",
                    "1.0",
                    "1.0",
                    "Arts",
                    "Business Degree",
                    "Humanities",
                    "No Major",
                    "Other",
                    "STEM",
                    "not available"
                  ],
                  "marker": {
                    "coloraxis": "coloraxis",
                    "colors": [
                      0,
                      0,
                      0,
                      0,
                      0,
                      0,
                      0,
                      1,
                      1,
                      1,
                      1,
                      1,
                      1,
                      1,
                      0.20967741935483872,
                      0.2608695652173913,
                      0.20520673813169985,
                      0.24528301886792453,
                      0.25274725274725274,
                      0.2565587247122739,
                      0.1858603823921743
                    ]
                  },
                  "name": "",
                  "parents": [
                    "Arts",
                    "Business Degree",
                    "Humanities",
                    "No Major",
                    "Other",
                    "STEM",
                    "not available",
                    "Arts",
                    "Business Degree",
                    "Humanities",
                    "No Major",
                    "Other",
                    "STEM",
                    "not available",
                    "",
                    "",
                    "",
                    "",
                    "",
                    "",
                    ""
                  ],
                  "type": "sunburst",
                  "values": [
                    196,
                    238,
                    519,
                    160,
                    272,
                    10400,
                    1831,
                    52,
                    84,
                    134,
                    52,
                    92,
                    3589,
                    418,
                    248,
                    322,
                    653,
                    212,
                    364,
                    13989,
                    2249
                  ]
                }
              ],
              "layout": {
                "coloraxis": {
                  "colorbar": {
                    "title": {
                      "text": "target"
                    }
                  },
                  "colorscale": [
                    [
                      0,
                      "#0d0887"
                    ],
                    [
                      0.1111111111111111,
                      "#46039f"
                    ],
                    [
                      0.2222222222222222,
                      "#7201a8"
                    ],
                    [
                      0.3333333333333333,
                      "#9c179e"
                    ],
                    [
                      0.4444444444444444,
                      "#bd3786"
                    ],
                    [
                      0.5555555555555556,
                      "#d8576b"
                    ],
                    [
                      0.6666666666666666,
                      "#ed7953"
                    ],
                    [
                      0.7777777777777778,
                      "#fb9f3a"
                    ],
                    [
                      0.8888888888888888,
                      "#fdca26"
                    ],
                    [
                      1,
                      "#f0f921"
                    ]
                  ]
                },
                "legend": {
                  "tracegroupgap": 0
                },
                "margin": {
                  "t": 60
                },
                "template": {
                  "data": {
                    "bar": [
                      {
                        "error_x": {
                          "color": "#2a3f5f"
                        },
                        "error_y": {
                          "color": "#2a3f5f"
                        },
                        "marker": {
                          "line": {
                            "color": "#E5ECF6",
                            "width": 0.5
                          }
                        },
                        "type": "bar"
                      }
                    ],
                    "barpolar": [
                      {
                        "marker": {
                          "line": {
                            "color": "#E5ECF6",
                            "width": 0.5
                          }
                        },
                        "type": "barpolar"
                      }
                    ],
                    "carpet": [
                      {
                        "aaxis": {
                          "endlinecolor": "#2a3f5f",
                          "gridcolor": "white",
                          "linecolor": "white",
                          "minorgridcolor": "white",
                          "startlinecolor": "#2a3f5f"
                        },
                        "baxis": {
                          "endlinecolor": "#2a3f5f",
                          "gridcolor": "white",
                          "linecolor": "white",
                          "minorgridcolor": "white",
                          "startlinecolor": "#2a3f5f"
                        },
                        "type": "carpet"
                      }
                    ],
                    "choropleth": [
                      {
                        "colorbar": {
                          "outlinewidth": 0,
                          "ticks": ""
                        },
                        "type": "choropleth"
                      }
                    ],
                    "contour": [
                      {
                        "colorbar": {
                          "outlinewidth": 0,
                          "ticks": ""
                        },
                        "colorscale": [
                          [
                            0,
                            "#0d0887"
                          ],
                          [
                            0.1111111111111111,
                            "#46039f"
                          ],
                          [
                            0.2222222222222222,
                            "#7201a8"
                          ],
                          [
                            0.3333333333333333,
                            "#9c179e"
                          ],
                          [
                            0.4444444444444444,
                            "#bd3786"
                          ],
                          [
                            0.5555555555555556,
                            "#d8576b"
                          ],
                          [
                            0.6666666666666666,
                            "#ed7953"
                          ],
                          [
                            0.7777777777777778,
                            "#fb9f3a"
                          ],
                          [
                            0.8888888888888888,
                            "#fdca26"
                          ],
                          [
                            1,
                            "#f0f921"
                          ]
                        ],
                        "type": "contour"
                      }
                    ],
                    "contourcarpet": [
                      {
                        "colorbar": {
                          "outlinewidth": 0,
                          "ticks": ""
                        },
                        "type": "contourcarpet"
                      }
                    ],
                    "heatmap": [
                      {
                        "colorbar": {
                          "outlinewidth": 0,
                          "ticks": ""
                        },
                        "colorscale": [
                          [
                            0,
                            "#0d0887"
                          ],
                          [
                            0.1111111111111111,
                            "#46039f"
                          ],
                          [
                            0.2222222222222222,
                            "#7201a8"
                          ],
                          [
                            0.3333333333333333,
                            "#9c179e"
                          ],
                          [
                            0.4444444444444444,
                            "#bd3786"
                          ],
                          [
                            0.5555555555555556,
                            "#d8576b"
                          ],
                          [
                            0.6666666666666666,
                            "#ed7953"
                          ],
                          [
                            0.7777777777777778,
                            "#fb9f3a"
                          ],
                          [
                            0.8888888888888888,
                            "#fdca26"
                          ],
                          [
                            1,
                            "#f0f921"
                          ]
                        ],
                        "type": "heatmap"
                      }
                    ],
                    "heatmapgl": [
                      {
                        "colorbar": {
                          "outlinewidth": 0,
                          "ticks": ""
                        },
                        "colorscale": [
                          [
                            0,
                            "#0d0887"
                          ],
                          [
                            0.1111111111111111,
                            "#46039f"
                          ],
                          [
                            0.2222222222222222,
                            "#7201a8"
                          ],
                          [
                            0.3333333333333333,
                            "#9c179e"
                          ],
                          [
                            0.4444444444444444,
                            "#bd3786"
                          ],
                          [
                            0.5555555555555556,
                            "#d8576b"
                          ],
                          [
                            0.6666666666666666,
                            "#ed7953"
                          ],
                          [
                            0.7777777777777778,
                            "#fb9f3a"
                          ],
                          [
                            0.8888888888888888,
                            "#fdca26"
                          ],
                          [
                            1,
                            "#f0f921"
                          ]
                        ],
                        "type": "heatmapgl"
                      }
                    ],
                    "histogram": [
                      {
                        "marker": {
                          "colorbar": {
                            "outlinewidth": 0,
                            "ticks": ""
                          }
                        },
                        "type": "histogram"
                      }
                    ],
                    "histogram2d": [
                      {
                        "colorbar": {
                          "outlinewidth": 0,
                          "ticks": ""
                        },
                        "colorscale": [
                          [
                            0,
                            "#0d0887"
                          ],
                          [
                            0.1111111111111111,
                            "#46039f"
                          ],
                          [
                            0.2222222222222222,
                            "#7201a8"
                          ],
                          [
                            0.3333333333333333,
                            "#9c179e"
                          ],
                          [
                            0.4444444444444444,
                            "#bd3786"
                          ],
                          [
                            0.5555555555555556,
                            "#d8576b"
                          ],
                          [
                            0.6666666666666666,
                            "#ed7953"
                          ],
                          [
                            0.7777777777777778,
                            "#fb9f3a"
                          ],
                          [
                            0.8888888888888888,
                            "#fdca26"
                          ],
                          [
                            1,
                            "#f0f921"
                          ]
                        ],
                        "type": "histogram2d"
                      }
                    ],
                    "histogram2dcontour": [
                      {
                        "colorbar": {
                          "outlinewidth": 0,
                          "ticks": ""
                        },
                        "colorscale": [
                          [
                            0,
                            "#0d0887"
                          ],
                          [
                            0.1111111111111111,
                            "#46039f"
                          ],
                          [
                            0.2222222222222222,
                            "#7201a8"
                          ],
                          [
                            0.3333333333333333,
                            "#9c179e"
                          ],
                          [
                            0.4444444444444444,
                            "#bd3786"
                          ],
                          [
                            0.5555555555555556,
                            "#d8576b"
                          ],
                          [
                            0.6666666666666666,
                            "#ed7953"
                          ],
                          [
                            0.7777777777777778,
                            "#fb9f3a"
                          ],
                          [
                            0.8888888888888888,
                            "#fdca26"
                          ],
                          [
                            1,
                            "#f0f921"
                          ]
                        ],
                        "type": "histogram2dcontour"
                      }
                    ],
                    "mesh3d": [
                      {
                        "colorbar": {
                          "outlinewidth": 0,
                          "ticks": ""
                        },
                        "type": "mesh3d"
                      }
                    ],
                    "parcoords": [
                      {
                        "line": {
                          "colorbar": {
                            "outlinewidth": 0,
                            "ticks": ""
                          }
                        },
                        "type": "parcoords"
                      }
                    ],
                    "pie": [
                      {
                        "automargin": true,
                        "type": "pie"
                      }
                    ],
                    "scatter": [
                      {
                        "marker": {
                          "colorbar": {
                            "outlinewidth": 0,
                            "ticks": ""
                          }
                        },
                        "type": "scatter"
                      }
                    ],
                    "scatter3d": [
                      {
                        "line": {
                          "colorbar": {
                            "outlinewidth": 0,
                            "ticks": ""
                          }
                        },
                        "marker": {
                          "colorbar": {
                            "outlinewidth": 0,
                            "ticks": ""
                          }
                        },
                        "type": "scatter3d"
                      }
                    ],
                    "scattercarpet": [
                      {
                        "marker": {
                          "colorbar": {
                            "outlinewidth": 0,
                            "ticks": ""
                          }
                        },
                        "type": "scattercarpet"
                      }
                    ],
                    "scattergeo": [
                      {
                        "marker": {
                          "colorbar": {
                            "outlinewidth": 0,
                            "ticks": ""
                          }
                        },
                        "type": "scattergeo"
                      }
                    ],
                    "scattergl": [
                      {
                        "marker": {
                          "colorbar": {
                            "outlinewidth": 0,
                            "ticks": ""
                          }
                        },
                        "type": "scattergl"
                      }
                    ],
                    "scattermapbox": [
                      {
                        "marker": {
                          "colorbar": {
                            "outlinewidth": 0,
                            "ticks": ""
                          }
                        },
                        "type": "scattermapbox"
                      }
                    ],
                    "scatterpolar": [
                      {
                        "marker": {
                          "colorbar": {
                            "outlinewidth": 0,
                            "ticks": ""
                          }
                        },
                        "type": "scatterpolar"
                      }
                    ],
                    "scatterpolargl": [
                      {
                        "marker": {
                          "colorbar": {
                            "outlinewidth": 0,
                            "ticks": ""
                          }
                        },
                        "type": "scatterpolargl"
                      }
                    ],
                    "scatterternary": [
                      {
                        "marker": {
                          "colorbar": {
                            "outlinewidth": 0,
                            "ticks": ""
                          }
                        },
                        "type": "scatterternary"
                      }
                    ],
                    "surface": [
                      {
                        "colorbar": {
                          "outlinewidth": 0,
                          "ticks": ""
                        },
                        "colorscale": [
                          [
                            0,
                            "#0d0887"
                          ],
                          [
                            0.1111111111111111,
                            "#46039f"
                          ],
                          [
                            0.2222222222222222,
                            "#7201a8"
                          ],
                          [
                            0.3333333333333333,
                            "#9c179e"
                          ],
                          [
                            0.4444444444444444,
                            "#bd3786"
                          ],
                          [
                            0.5555555555555556,
                            "#d8576b"
                          ],
                          [
                            0.6666666666666666,
                            "#ed7953"
                          ],
                          [
                            0.7777777777777778,
                            "#fb9f3a"
                          ],
                          [
                            0.8888888888888888,
                            "#fdca26"
                          ],
                          [
                            1,
                            "#f0f921"
                          ]
                        ],
                        "type": "surface"
                      }
                    ],
                    "table": [
                      {
                        "cells": {
                          "fill": {
                            "color": "#EBF0F8"
                          },
                          "line": {
                            "color": "white"
                          }
                        },
                        "header": {
                          "fill": {
                            "color": "#C8D4E3"
                          },
                          "line": {
                            "color": "white"
                          }
                        },
                        "type": "table"
                      }
                    ]
                  },
                  "layout": {
                    "annotationdefaults": {
                      "arrowcolor": "#2a3f5f",
                      "arrowhead": 0,
                      "arrowwidth": 1
                    },
                    "autotypenumbers": "strict",
                    "coloraxis": {
                      "colorbar": {
                        "outlinewidth": 0,
                        "ticks": ""
                      }
                    },
                    "colorscale": {
                      "diverging": [
                        [
                          0,
                          "#8e0152"
                        ],
                        [
                          0.1,
                          "#c51b7d"
                        ],
                        [
                          0.2,
                          "#de77ae"
                        ],
                        [
                          0.3,
                          "#f1b6da"
                        ],
                        [
                          0.4,
                          "#fde0ef"
                        ],
                        [
                          0.5,
                          "#f7f7f7"
                        ],
                        [
                          0.6,
                          "#e6f5d0"
                        ],
                        [
                          0.7,
                          "#b8e186"
                        ],
                        [
                          0.8,
                          "#7fbc41"
                        ],
                        [
                          0.9,
                          "#4d9221"
                        ],
                        [
                          1,
                          "#276419"
                        ]
                      ],
                      "sequential": [
                        [
                          0,
                          "#0d0887"
                        ],
                        [
                          0.1111111111111111,
                          "#46039f"
                        ],
                        [
                          0.2222222222222222,
                          "#7201a8"
                        ],
                        [
                          0.3333333333333333,
                          "#9c179e"
                        ],
                        [
                          0.4444444444444444,
                          "#bd3786"
                        ],
                        [
                          0.5555555555555556,
                          "#d8576b"
                        ],
                        [
                          0.6666666666666666,
                          "#ed7953"
                        ],
                        [
                          0.7777777777777778,
                          "#fb9f3a"
                        ],
                        [
                          0.8888888888888888,
                          "#fdca26"
                        ],
                        [
                          1,
                          "#f0f921"
                        ]
                      ],
                      "sequentialminus": [
                        [
                          0,
                          "#0d0887"
                        ],
                        [
                          0.1111111111111111,
                          "#46039f"
                        ],
                        [
                          0.2222222222222222,
                          "#7201a8"
                        ],
                        [
                          0.3333333333333333,
                          "#9c179e"
                        ],
                        [
                          0.4444444444444444,
                          "#bd3786"
                        ],
                        [
                          0.5555555555555556,
                          "#d8576b"
                        ],
                        [
                          0.6666666666666666,
                          "#ed7953"
                        ],
                        [
                          0.7777777777777778,
                          "#fb9f3a"
                        ],
                        [
                          0.8888888888888888,
                          "#fdca26"
                        ],
                        [
                          1,
                          "#f0f921"
                        ]
                      ]
                    },
                    "colorway": [
                      "#636efa",
                      "#EF553B",
                      "#00cc96",
                      "#ab63fa",
                      "#FFA15A",
                      "#19d3f3",
                      "#FF6692",
                      "#B6E880",
                      "#FF97FF",
                      "#FECB52"
                    ],
                    "font": {
                      "color": "#2a3f5f"
                    },
                    "geo": {
                      "bgcolor": "white",
                      "lakecolor": "white",
                      "landcolor": "#E5ECF6",
                      "showlakes": true,
                      "showland": true,
                      "subunitcolor": "white"
                    },
                    "hoverlabel": {
                      "align": "left"
                    },
                    "hovermode": "closest",
                    "mapbox": {
                      "style": "light"
                    },
                    "paper_bgcolor": "white",
                    "plot_bgcolor": "#E5ECF6",
                    "polar": {
                      "angularaxis": {
                        "gridcolor": "white",
                        "linecolor": "white",
                        "ticks": ""
                      },
                      "bgcolor": "#E5ECF6",
                      "radialaxis": {
                        "gridcolor": "white",
                        "linecolor": "white",
                        "ticks": ""
                      }
                    },
                    "scene": {
                      "xaxis": {
                        "backgroundcolor": "#E5ECF6",
                        "gridcolor": "white",
                        "gridwidth": 2,
                        "linecolor": "white",
                        "showbackground": true,
                        "ticks": "",
                        "zerolinecolor": "white"
                      },
                      "yaxis": {
                        "backgroundcolor": "#E5ECF6",
                        "gridcolor": "white",
                        "gridwidth": 2,
                        "linecolor": "white",
                        "showbackground": true,
                        "ticks": "",
                        "zerolinecolor": "white"
                      },
                      "zaxis": {
                        "backgroundcolor": "#E5ECF6",
                        "gridcolor": "white",
                        "gridwidth": 2,
                        "linecolor": "white",
                        "showbackground": true,
                        "ticks": "",
                        "zerolinecolor": "white"
                      }
                    },
                    "shapedefaults": {
                      "line": {
                        "color": "#2a3f5f"
                      }
                    },
                    "ternary": {
                      "aaxis": {
                        "gridcolor": "white",
                        "linecolor": "white",
                        "ticks": ""
                      },
                      "baxis": {
                        "gridcolor": "white",
                        "linecolor": "white",
                        "ticks": ""
                      },
                      "bgcolor": "#E5ECF6",
                      "caxis": {
                        "gridcolor": "white",
                        "linecolor": "white",
                        "ticks": ""
                      }
                    },
                    "title": {
                      "x": 0.05
                    },
                    "xaxis": {
                      "automargin": true,
                      "gridcolor": "white",
                      "linecolor": "white",
                      "ticks": "",
                      "title": {
                        "standoff": 15
                      },
                      "zerolinecolor": "white",
                      "zerolinewidth": 2
                    },
                    "yaxis": {
                      "automargin": true,
                      "gridcolor": "white",
                      "linecolor": "white",
                      "ticks": "",
                      "title": {
                        "standoff": 15
                      },
                      "zerolinecolor": "white",
                      "zerolinewidth": 2
                    }
                  }
                }
              }
            }
          },
          "metadata": {},
          "output_type": "display_data"
        }
      ],
      "source": [
        "for i in ['enrolled_university', 'education_level',\t'major_discipline']:\n",
        "    fig=px.sunburst(df,path=[i,'target'],color='target', title=f'Proporsi Target Berdasarkan {i}')\n",
        "    fig.show()"
      ]
    },
    {
      "cell_type": "markdown",
      "metadata": {
        "id": "m0-DbPnMc47v"
      },
      "source": [
        "Dari grafik-grafik di atas, kita bisa menjawab pertanyaan:\n",
        "\n",
        "* Kandidat mana yang paling berminat untuk pindah kerja, kandidat yang sedang kuliah penuh waktu, paruh waktu, atau yang sedang tidak berkuliah?  \n",
        "    * kandidat yang sedang berkuliah adalah yang paling berminat untuk pindah kerja, tapi kandidat paling banyak berasal dari mereka yang sedang tidak berkuliah\n",
        "* Kandidat dengan jenjang pendidikan mana yang paling berminat untuk pindah kerja?\n",
        "    * secara proporsi dan jumlah, kandidat yang lulusan graduate(education_level=graduate) adalah yang paling berminat untuk pindah kerja\n",
        "* Dari jurusan mana kandidat paling banyak berasal? Apakah secara proporsi jurusan tersebut juga memiliki kandidat yang beminat pindah paling tinggi?\n",
        "    * kandidat paling banyak berasal dari jurusan STEM (*science, technology, engineering dan mathematics* ), tetapi secara minat pindah kerja, tidak ada jurusan yang terlalu menonjol. Jurusan-jurusan seperti arts, humanities dan *not available*  memiliki proporsi kelas 1 (minat pindah) yang lebih sedikit.\n"
      ]
    },
    {
      "cell_type": "markdown",
      "metadata": {
        "id": "nkIgBayPc47w"
      },
      "source": [
        "## Berdasarkan pengalaman kerja\n",
        "Selanjutnya, kita akan melakukan analisis terhadap fitur-fitur yang berkaitan dengan pengalaman kerja, seperti `relevent_experience`, `experience` dan `last_new_job`. Dari fitur-fitur ini, kita bisa menjawab pertanyaan berikut:\n",
        "* Kandidat mana yang memiliki minat pindah kerja lebih tinggi, yang pengalaman kerja relevan atau tidak memiliki pengalaman kerja relevan?\n",
        "* Kandidat yang memiliki pengalaman berapa lama yang memiliki minat untuk pindah kerja?\n",
        "* Bagaimana rentang waktu sejak kandidat terakhir pindah kerja mempengaruhi minat kandidat untuk pindah kerja?"
      ]
    },
    {
      "cell_type": "code",
      "execution_count": null,
      "metadata": {
        "id": "_slJ43RVc47x",
        "outputId": "68192665-3e9a-491b-bbfb-451f61bd9399"
      },
      "outputs": [
        {
          "data": {
            "image/png": "[encoded data removed]",
            "text/plain": [
              "<Figure size 720x288 with 1 Axes>"
            ]
          },
          "metadata": {
            "needs_background": "light"
          },
          "output_type": "display_data"
        },
        {
          "data": {
            "image/png": "[encoded data removed]",
            "text/plain": [
              "<Figure size 720x288 with 1 Axes>"
            ]
          },
          "metadata": {
            "needs_background": "light"
          },
          "output_type": "display_data"
        },
        {
          "data": {
            "image/png": "[encoded data removed]",
            "text/plain": [
              "<Figure size 720x288 with 1 Axes>"
            ]
          },
          "metadata": {
            "needs_background": "light"
          },
          "output_type": "display_data"
        }
      ],
      "source": [
        "for i in ['relevent_experience','experience','last_new_job']:\n",
        "    ct=pd.crosstab(df[i],df['target'],normalize='index').sort_index()\n",
        "    ct['total']=ct.sum(axis=1)\n",
        "    plt.figure(figsize=(10,4))\n",
        "    plt.bar(np.arange(df[i].nunique()),ct['total'])\n",
        "    plt.bar(np.arange(df[i].nunique()),ct[1])\n",
        "    plt.xlabel('target')\n",
        "    plt.ylabel(f'Proportion {i}')\n",
        "    plt.legend([0,1])\n",
        "    plt.xticks(np.arange(len(ct.index.tolist())),ct.index.tolist())\n",
        "    plt.title(i)\n",
        "    plt.show()"
      ]
    },
    {
      "cell_type": "code",
      "execution_count": null,
      "metadata": {
        "id": "yO2XLFS5c47x",
        "outputId": "cbdd9e05-c37e-43e4-a3fe-31cccf128eaa"
      },
      "outputs": [
        {
          "data": {
            "application/vnd.plotly.v1+json": {
              "config": {
                "plotlyServerURL": "https://plot.ly"
              },
              "data": [
                {
                  "branchvalues": "total",
                  "customdata": [
                    [
                      0
                    ],
                    [
                      0
                    ],
                    [
                      1
                    ],
                    [
                      1
                    ],
                    [
                      0.2101509748880965
                    ],
                    [
                      0.33999176276771004
                    ]
                  ],
                  "domain": {
                    "x": [
                      0,
                      1
                    ],
                    "y": [
                      0,
                      1
                    ]
                  },
                  "hovertemplate": "labels=%{label}<br>count=%{value}<br>parent=%{parent}<br>id=%{id}<br>target=%{color}<extra></extra>",
                  "ids": [
                    "Has relevent experience/0.0",
                    "No relevent experience/0.0",
                    "Has relevent experience/1.0",
                    "No relevent experience/1.0",
                    "Has relevent experience",
                    "No relevent experience"
                  ],
                  "labels": [
                    "0.0",
                    "0.0",
                    "1.0",
                    "1.0",
                    "Has relevent experience",
                    "No relevent experience"
                  ],
                  "marker": {
                    "coloraxis": "coloraxis",
                    "colors": [
                      0,
                      0,
                      1,
                      1,
                      0.2101509748880965,
                      0.33999176276771004
                    ]
                  },
                  "name": "",
                  "parents": [
                    "Has relevent experience",
                    "No relevent experience",
                    "Has relevent experience",
                    "No relevent experience",
                    "",
                    ""
                  ],
                  "type": "sunburst",
                  "values": [
                    10411,
                    3205,
                    2770,
                    1651,
                    13181,
                    4856
                  ]
                }
              ],
              "layout": {
                "coloraxis": {
                  "colorbar": {
                    "title": {
                      "text": "target"
                    }
                  },
                  "colorscale": [
                    [
                      0,
                      "#0d0887"
                    ],
                    [
                      0.1111111111111111,
                      "#46039f"
                    ],
                    [
                      0.2222222222222222,
                      "#7201a8"
                    ],
                    [
                      0.3333333333333333,
                      "#9c179e"
                    ],
                    [
                      0.4444444444444444,
                      "#bd3786"
                    ],
                    [
                      0.5555555555555556,
                      "#d8576b"
                    ],
                    [
                      0.6666666666666666,
                      "#ed7953"
                    ],
                    [
                      0.7777777777777778,
                      "#fb9f3a"
                    ],
                    [
                      0.8888888888888888,
                      "#fdca26"
                    ],
                    [
                      1,
                      "#f0f921"
                    ]
                  ]
                },
                "legend": {
                  "tracegroupgap": 0
                },
                "template": {
                  "data": {
                    "bar": [
                      {
                        "error_x": {
                          "color": "#2a3f5f"
                        },
                        "error_y": {
                          "color": "#2a3f5f"
                        },
                        "marker": {
                          "line": {
                            "color": "#E5ECF6",
                            "width": 0.5
                          }
                        },
                        "type": "bar"
                      }
                    ],
                    "barpolar": [
                      {
                        "marker": {
                          "line": {
                            "color": "#E5ECF6",
                            "width": 0.5
                          }
                        },
                        "type": "barpolar"
                      }
                    ],
                    "carpet": [
                      {
                        "aaxis": {
                          "endlinecolor": "#2a3f5f",
                          "gridcolor": "white",
                          "linecolor": "white",
                          "minorgridcolor": "white",
                          "startlinecolor": "#2a3f5f"
                        },
                        "baxis": {
                          "endlinecolor": "#2a3f5f",
                          "gridcolor": "white",
                          "linecolor": "white",
                          "minorgridcolor": "white",
                          "startlinecolor": "#2a3f5f"
                        },
                        "type": "carpet"
                      }
                    ],
                    "choropleth": [
                      {
                        "colorbar": {
                          "outlinewidth": 0,
                          "ticks": ""
                        },
                        "type": "choropleth"
                      }
                    ],
                    "contour": [
                      {
                        "colorbar": {
                          "outlinewidth": 0,
                          "ticks": ""
                        },
                        "colorscale": [
                          [
                            0,
                            "#0d0887"
                          ],
                          [
                            0.1111111111111111,
                            "#46039f"
                          ],
                          [
                            0.2222222222222222,
                            "#7201a8"
                          ],
                          [
                            0.3333333333333333,
                            "#9c179e"
                          ],
                          [
                            0.4444444444444444,
                            "#bd3786"
                          ],
                          [
                            0.5555555555555556,
                            "#d8576b"
                          ],
                          [
                            0.6666666666666666,
                            "#ed7953"
                          ],
                          [
                            0.7777777777777778,
                            "#fb9f3a"
                          ],
                          [
                            0.8888888888888888,
                            "#fdca26"
                          ],
                          [
                            1,
                            "#f0f921"
                          ]
                        ],
                        "type": "contour"
                      }
                    ],
                    "contourcarpet": [
                      {
                        "colorbar": {
                          "outlinewidth": 0,
                          "ticks": ""
                        },
                        "type": "contourcarpet"
                      }
                    ],
                    "heatmap": [
                      {
                        "colorbar": {
                          "outlinewidth": 0,
                          "ticks": ""
                        },
                        "colorscale": [
                          [
                            0,
                            "#0d0887"
                          ],
                          [
                            0.1111111111111111,
                            "#46039f"
                          ],
                          [
                            0.2222222222222222,
                            "#7201a8"
                          ],
                          [
                            0.3333333333333333,
                            "#9c179e"
                          ],
                          [
                            0.4444444444444444,
                            "#bd3786"
                          ],
                          [
                            0.5555555555555556,
                            "#d8576b"
                          ],
                          [
                            0.6666666666666666,
                            "#ed7953"
                          ],
                          [
                            0.7777777777777778,
                            "#fb9f3a"
                          ],
                          [
                            0.8888888888888888,
                            "#fdca26"
                          ],
                          [
                            1,
                            "#f0f921"
                          ]
                        ],
                        "type": "heatmap"
                      }
                    ],
                    "heatmapgl": [
                      {
                        "colorbar": {
                          "outlinewidth": 0,
                          "ticks": ""
                        },
                        "colorscale": [
                          [
                            0,
                            "#0d0887"
                          ],
                          [
                            0.1111111111111111,
                            "#46039f"
                          ],
                          [
                            0.2222222222222222,
                            "#7201a8"
                          ],
                          [
                            0.3333333333333333,
                            "#9c179e"
                          ],
                          [
                            0.4444444444444444,
                            "#bd3786"
                          ],
                          [
                            0.5555555555555556,
                            "#d8576b"
                          ],
                          [
                            0.6666666666666666,
                            "#ed7953"
                          ],
                          [
                            0.7777777777777778,
                            "#fb9f3a"
                          ],
                          [
                            0.8888888888888888,
                            "#fdca26"
                          ],
                          [
                            1,
                            "#f0f921"
                          ]
                        ],
                        "type": "heatmapgl"
                      }
                    ],
                    "histogram": [
                      {
                        "marker": {
                          "colorbar": {
                            "outlinewidth": 0,
                            "ticks": ""
                          }
                        },
                        "type": "histogram"
                      }
                    ],
                    "histogram2d": [
                      {
                        "colorbar": {
                          "outlinewidth": 0,
                          "ticks": ""
                        },
                        "colorscale": [
                          [
                            0,
                            "#0d0887"
                          ],
                          [
                            0.1111111111111111,
                            "#46039f"
                          ],
                          [
                            0.2222222222222222,
                            "#7201a8"
                          ],
                          [
                            0.3333333333333333,
                            "#9c179e"
                          ],
                          [
                            0.4444444444444444,
                            "#bd3786"
                          ],
                          [
                            0.5555555555555556,
                            "#d8576b"
                          ],
                          [
                            0.6666666666666666,
                            "#ed7953"
                          ],
                          [
                            0.7777777777777778,
                            "#fb9f3a"
                          ],
                          [
                            0.8888888888888888,
                            "#fdca26"
                          ],
                          [
                            1,
                            "#f0f921"
                          ]
                        ],
                        "type": "histogram2d"
                      }
                    ],
                    "histogram2dcontour": [
                      {
                        "colorbar": {
                          "outlinewidth": 0,
                          "ticks": ""
                        },
                        "colorscale": [
                          [
                            0,
                            "#0d0887"
                          ],
                          [
                            0.1111111111111111,
                            "#46039f"
                          ],
                          [
                            0.2222222222222222,
                            "#7201a8"
                          ],
                          [
                            0.3333333333333333,
                            "#9c179e"
                          ],
                          [
                            0.4444444444444444,
                            "#bd3786"
                          ],
                          [
                            0.5555555555555556,
                            "#d8576b"
                          ],
                          [
                            0.6666666666666666,
                            "#ed7953"
                          ],
                          [
                            0.7777777777777778,
                            "#fb9f3a"
                          ],
                          [
                            0.8888888888888888,
                            "#fdca26"
                          ],
                          [
                            1,
                            "#f0f921"
                          ]
                        ],
                        "type": "histogram2dcontour"
                      }
                    ],
                    "mesh3d": [
                      {
                        "colorbar": {
                          "outlinewidth": 0,
                          "ticks": ""
                        },
                        "type": "mesh3d"
                      }
                    ],
                    "parcoords": [
                      {
                        "line": {
                          "colorbar": {
                            "outlinewidth": 0,
                            "ticks": ""
                          }
                        },
                        "type": "parcoords"
                      }
                    ],
                    "pie": [
                      {
                        "automargin": true,
                        "type": "pie"
                      }
                    ],
                    "scatter": [
                      {
                        "marker": {
                          "colorbar": {
                            "outlinewidth": 0,
                            "ticks": ""
                          }
                        },
                        "type": "scatter"
                      }
                    ],
                    "scatter3d": [
                      {
                        "line": {
                          "colorbar": {
                            "outlinewidth": 0,
                            "ticks": ""
                          }
                        },
                        "marker": {
                          "colorbar": {
                            "outlinewidth": 0,
                            "ticks": ""
                          }
                        },
                        "type": "scatter3d"
                      }
                    ],
                    "scattercarpet": [
                      {
                        "marker": {
                          "colorbar": {
                            "outlinewidth": 0,
                            "ticks": ""
                          }
                        },
                        "type": "scattercarpet"
                      }
                    ],
                    "scattergeo": [
                      {
                        "marker": {
                          "colorbar": {
                            "outlinewidth": 0,
                            "ticks": ""
                          }
                        },
                        "type": "scattergeo"
                      }
                    ],
                    "scattergl": [
                      {
                        "marker": {
                          "colorbar": {
                            "outlinewidth": 0,
                            "ticks": ""
                          }
                        },
                        "type": "scattergl"
                      }
                    ],
                    "scattermapbox": [
                      {
                        "marker": {
                          "colorbar": {
                            "outlinewidth": 0,
                            "ticks": ""
                          }
                        },
                        "type": "scattermapbox"
                      }
                    ],
                    "scatterpolar": [
                      {
                        "marker": {
                          "colorbar": {
                            "outlinewidth": 0,
                            "ticks": ""
                          }
                        },
                        "type": "scatterpolar"
                      }
                    ],
                    "scatterpolargl": [
                      {
                        "marker": {
                          "colorbar": {
                            "outlinewidth": 0,
                            "ticks": ""
                          }
                        },
                        "type": "scatterpolargl"
                      }
                    ],
                    "scatterternary": [
                      {
                        "marker": {
                          "colorbar": {
                            "outlinewidth": 0,
                            "ticks": ""
                          }
                        },
                        "type": "scatterternary"
                      }
                    ],
                    "surface": [
                      {
                        "colorbar": {
                          "outlinewidth": 0,
                          "ticks": ""
                        },
                        "colorscale": [
                          [
                            0,
                            "#0d0887"
                          ],
                          [
                            0.1111111111111111,
                            "#46039f"
                          ],
                          [
                            0.2222222222222222,
                            "#7201a8"
                          ],
                          [
                            0.3333333333333333,
                            "#9c179e"
                          ],
                          [
                            0.4444444444444444,
                            "#bd3786"
                          ],
                          [
                            0.5555555555555556,
                            "#d8576b"
                          ],
                          [
                            0.6666666666666666,
                            "#ed7953"
                          ],
                          [
                            0.7777777777777778,
                            "#fb9f3a"
                          ],
                          [
                            0.8888888888888888,
                            "#fdca26"
                          ],
                          [
                            1,
                            "#f0f921"
                          ]
                        ],
                        "type": "surface"
                      }
                    ],
                    "table": [
                      {
                        "cells": {
                          "fill": {
                            "color": "#EBF0F8"
                          },
                          "line": {
                            "color": "white"
                          }
                        },
                        "header": {
                          "fill": {
                            "color": "#C8D4E3"
                          },
                          "line": {
                            "color": "white"
                          }
                        },
                        "type": "table"
                      }
                    ]
                  },
                  "layout": {
                    "annotationdefaults": {
                      "arrowcolor": "#2a3f5f",
                      "arrowhead": 0,
                      "arrowwidth": 1
                    },
                    "autotypenumbers": "strict",
                    "coloraxis": {
                      "colorbar": {
                        "outlinewidth": 0,
                        "ticks": ""
                      }
                    },
                    "colorscale": {
                      "diverging": [
                        [
                          0,
                          "#8e0152"
                        ],
                        [
                          0.1,
                          "#c51b7d"
                        ],
                        [
                          0.2,
                          "#de77ae"
                        ],
                        [
                          0.3,
                          "#f1b6da"
                        ],
                        [
                          0.4,
                          "#fde0ef"
                        ],
                        [
                          0.5,
                          "#f7f7f7"
                        ],
                        [
                          0.6,
                          "#e6f5d0"
                        ],
                        [
                          0.7,
                          "#b8e186"
                        ],
                        [
                          0.8,
                          "#7fbc41"
                        ],
                        [
                          0.9,
                          "#4d9221"
                        ],
                        [
                          1,
                          "#276419"
                        ]
                      ],
                      "sequential": [
                        [
                          0,
                          "#0d0887"
                        ],
                        [
                          0.1111111111111111,
                          "#46039f"
                        ],
                        [
                          0.2222222222222222,
                          "#7201a8"
                        ],
                        [
                          0.3333333333333333,
                          "#9c179e"
                        ],
                        [
                          0.4444444444444444,
                          "#bd3786"
                        ],
                        [
                          0.5555555555555556,
                          "#d8576b"
                        ],
                        [
                          0.6666666666666666,
                          "#ed7953"
                        ],
                        [
                          0.7777777777777778,
                          "#fb9f3a"
                        ],
                        [
                          0.8888888888888888,
                          "#fdca26"
                        ],
                        [
                          1,
                          "#f0f921"
                        ]
                      ],
                      "sequentialminus": [
                        [
                          0,
                          "#0d0887"
                        ],
                        [
                          0.1111111111111111,
                          "#46039f"
                        ],
                        [
                          0.2222222222222222,
                          "#7201a8"
                        ],
                        [
                          0.3333333333333333,
                          "#9c179e"
                        ],
                        [
                          0.4444444444444444,
                          "#bd3786"
                        ],
                        [
                          0.5555555555555556,
                          "#d8576b"
                        ],
                        [
                          0.6666666666666666,
                          "#ed7953"
                        ],
                        [
                          0.7777777777777778,
                          "#fb9f3a"
                        ],
                        [
                          0.8888888888888888,
                          "#fdca26"
                        ],
                        [
                          1,
                          "#f0f921"
                        ]
                      ]
                    },
                    "colorway": [
                      "#636efa",
                      "#EF553B",
                      "#00cc96",
                      "#ab63fa",
                      "#FFA15A",
                      "#19d3f3",
                      "#FF6692",
                      "#B6E880",
                      "#FF97FF",
                      "#FECB52"
                    ],
                    "font": {
                      "color": "#2a3f5f"
                    },
                    "geo": {
                      "bgcolor": "white",
                      "lakecolor": "white",
                      "landcolor": "#E5ECF6",
                      "showlakes": true,
                      "showland": true,
                      "subunitcolor": "white"
                    },
                    "hoverlabel": {
                      "align": "left"
                    },
                    "hovermode": "closest",
                    "mapbox": {
                      "style": "light"
                    },
                    "paper_bgcolor": "white",
                    "plot_bgcolor": "#E5ECF6",
                    "polar": {
                      "angularaxis": {
                        "gridcolor": "white",
                        "linecolor": "white",
                        "ticks": ""
                      },
                      "bgcolor": "#E5ECF6",
                      "radialaxis": {
                        "gridcolor": "white",
                        "linecolor": "white",
                        "ticks": ""
                      }
                    },
                    "scene": {
                      "xaxis": {
                        "backgroundcolor": "#E5ECF6",
                        "gridcolor": "white",
                        "gridwidth": 2,
                        "linecolor": "white",
                        "showbackground": true,
                        "ticks": "",
                        "zerolinecolor": "white"
                      },
                      "yaxis": {
                        "backgroundcolor": "#E5ECF6",
                        "gridcolor": "white",
                        "gridwidth": 2,
                        "linecolor": "white",
                        "showbackground": true,
                        "ticks": "",
                        "zerolinecolor": "white"
                      },
                      "zaxis": {
                        "backgroundcolor": "#E5ECF6",
                        "gridcolor": "white",
                        "gridwidth": 2,
                        "linecolor": "white",
                        "showbackground": true,
                        "ticks": "",
                        "zerolinecolor": "white"
                      }
                    },
                    "shapedefaults": {
                      "line": {
                        "color": "#2a3f5f"
                      }
                    },
                    "ternary": {
                      "aaxis": {
                        "gridcolor": "white",
                        "linecolor": "white",
                        "ticks": ""
                      },
                      "baxis": {
                        "gridcolor": "white",
                        "linecolor": "white",
                        "ticks": ""
                      },
                      "bgcolor": "#E5ECF6",
                      "caxis": {
                        "gridcolor": "white",
                        "linecolor": "white",
                        "ticks": ""
                      }
                    },
                    "title": {
                      "x": 0.05
                    },
                    "xaxis": {
                      "automargin": true,
                      "gridcolor": "white",
                      "linecolor": "white",
                      "ticks": "",
                      "title": {
                        "standoff": 15
                      },
                      "zerolinecolor": "white",
                      "zerolinewidth": 2
                    },
                    "yaxis": {
                      "automargin": true,
                      "gridcolor": "white",
                      "linecolor": "white",
                      "ticks": "",
                      "title": {
                        "standoff": 15
                      },
                      "zerolinecolor": "white",
                      "zerolinewidth": 2
                    }
                  }
                },
                "title": {
                  "text": "Proporsi Target Berdasarkan relevent_experience"
                }
              }
            }
          },
          "metadata": {},
          "output_type": "display_data"
        },
        {
          "data": {
            "application/vnd.plotly.v1+json": {
              "config": {
                "plotlyServerURL": "https://plot.ly"
              },
              "data": [
                {
                  "branchvalues": "total",
                  "customdata": [
                    [
                      0
                    ],
                    [
                      0
                    ],
                    [
                      0
                    ],
                    [
                      0
                    ],
                    [
                      0
                    ],
                    [
                      0
                    ],
                    [
                      0
                    ],
                    [
                      0
                    ],
                    [
                      0
                    ],
                    [
                      0
                    ],
                    [
                      0
                    ],
                    [
                      0
                    ],
                    [
                      0
                    ],
                    [
                      0
                    ],
                    [
                      0
                    ],
                    [
                      0
                    ],
                    [
                      0
                    ],
                    [
                      0
                    ],
                    [
                      0
                    ],
                    [
                      0
                    ],
                    [
                      0
                    ],
                    [
                      0
                    ],
                    [
                      1
                    ],
                    [
                      1
                    ],
                    [
                      1
                    ],
                    [
                      1
                    ],
                    [
                      1
                    ],
                    [
                      1
                    ],
                    [
                      1
                    ],
                    [
                      1
                    ],
                    [
                      1
                    ],
                    [
                      1
                    ],
                    [
                      1
                    ],
                    [
                      1
                    ],
                    [
                      1
                    ],
                    [
                      1
                    ],
                    [
                      1
                    ],
                    [
                      1
                    ],
                    [
                      1
                    ],
                    [
                      1
                    ],
                    [
                      1
                    ],
                    [
                      1
                    ],
                    [
                      1
                    ],
                    [
                      1
                    ],
                    [
                      0.4225941422594142
                    ],
                    [
                      0.21314952279957583
                    ],
                    [
                      0.2276923076923077
                    ],
                    [
                      0.17894736842105263
                    ],
                    [
                      0.18863049095607234
                    ],
                    [
                      0.17750439367311072
                    ],
                    [
                      0.1664167916041979
                    ],
                    [
                      0.13347022587268995
                    ],
                    [
                      0.1686746987951807
                    ],
                    [
                      0.13970588235294118
                    ],
                    [
                      0.16326530612244897
                    ],
                    [
                      0.3333333333333333
                    ],
                    [
                      0.2323943661971831
                    ],
                    [
                      0.34846029173419774
                    ],
                    [
                      0.3205226748654881
                    ],
                    [
                      0.29094988780852654
                    ],
                    [
                      0.28583916083916083
                    ],
                    [
                      0.29471544715447157
                    ],
                    [
                      0.23896103896103896
                    ],
                    [
                      0.2108626198083067
                    ],
                    [
                      0.45454545454545453
                    ],
                    [
                      0.15270780856423175
                    ]
                  ],
                  "domain": {
                    "x": [
                      0,
                      1
                    ],
                    "y": [
                      0,
                      1
                    ]
                  },
                  "hovertemplate": "labels=%{label}<br>count=%{value}<br>parent=%{parent}<br>id=%{id}<br>target=%{color}<extra></extra>",
                  "ids": [
                    "1/0.0",
                    "10/0.0",
                    "11/0.0",
                    "12/0.0",
                    "13/0.0",
                    "14/0.0",
                    "15/0.0",
                    "16/0.0",
                    "17/0.0",
                    "18/0.0",
                    "19/0.0",
                    "2/0.0",
                    "20/0.0",
                    "3/0.0",
                    "4/0.0",
                    "5/0.0",
                    "6/0.0",
                    "7/0.0",
                    "8/0.0",
                    "9/0.0",
                    "<1/0.0",
                    ">20/0.0",
                    "1/1.0",
                    "10/1.0",
                    "11/1.0",
                    "12/1.0",
                    "13/1.0",
                    "14/1.0",
                    "15/1.0",
                    "16/1.0",
                    "17/1.0",
                    "18/1.0",
                    "19/1.0",
                    "2/1.0",
                    "20/1.0",
                    "3/1.0",
                    "4/1.0",
                    "5/1.0",
                    "6/1.0",
                    "7/1.0",
                    "8/1.0",
                    "9/1.0",
                    "<1/1.0",
                    ">20/1.0",
                    "1",
                    "10",
                    "11",
                    "12",
                    "13",
                    "14",
                    "15",
                    "16",
                    "17",
                    "18",
                    "19",
                    "2",
                    "20",
                    "3",
                    "4",
                    "5",
                    "6",
                    "7",
                    "8",
                    "9",
                    "<1",
                    ">20"
                  ],
                  "labels": [
                    "0.0",
                    "0.0",
                    "0.0",
                    "0.0",
                    "0.0",
                    "0.0",
                    "0.0",
                    "0.0",
                    "0.0",
                    "0.0",
                    "0.0",
                    "0.0",
                    "0.0",
                    "0.0",
                    "0.0",
                    "0.0",
                    "0.0",
                    "0.0",
                    "0.0",
                    "0.0",
                    "0.0",
                    "0.0",
                    "1.0",
                    "1.0",
                    "1.0",
                    "1.0",
                    "1.0",
                    "1.0",
                    "1.0",
                    "1.0",
                    "1.0",
                    "1.0",
                    "1.0",
                    "1.0",
                    "1.0",
                    "1.0",
                    "1.0",
                    "1.0",
                    "1.0",
                    "1.0",
                    "1.0",
                    "1.0",
                    "1.0",
                    "1.0",
                    "1",
                    "10",
                    "11",
                    "12",
                    "13",
                    "14",
                    "15",
                    "16",
                    "17",
                    "18",
                    "19",
                    "2",
                    "20",
                    "3",
                    "4",
                    "5",
                    "6",
                    "7",
                    "8",
                    "9",
                    "<1",
                    ">20"
                  ],
                  "marker": {
                    "coloraxis": "coloraxis",
                    "colors": [
                      0,
                      0,
                      0,
                      0,
                      0,
                      0,
                      0,
                      0,
                      0,
                      0,
                      0,
                      0,
                      0,
                      0,
                      0,
                      0,
                      0,
                      0,
                      0,
                      0,
                      0,
                      0,
                      1,
                      1,
                      1,
                      1,
                      1,
                      1,
                      1,
                      1,
                      1,
                      1,
                      1,
                      1,
                      1,
                      1,
                      1,
                      1,
                      1,
                      1,
                      1,
                      1,
                      1,
                      1,
                      0.4225941422594142,
                      0.21314952279957583,
                      0.2276923076923077,
                      0.17894736842105263,
                      0.18863049095607234,
                      0.17750439367311072,
                      0.1664167916041979,
                      0.13347022587268995,
                      0.1686746987951807,
                      0.13970588235294118,
                      0.16326530612244897,
                      0.3333333333333333,
                      0.2323943661971831,
                      0.34846029173419774,
                      0.3205226748654881,
                      0.29094988780852654,
                      0.28583916083916083,
                      0.29471544715447157,
                      0.23896103896103896,
                      0.2108626198083067,
                      0.45454545454545453,
                      0.15270780856423175
                    ]
                  },
                  "name": "",
                  "parents": [
                    "1",
                    "10",
                    "11",
                    "12",
                    "13",
                    "14",
                    "15",
                    "16",
                    "17",
                    "18",
                    "19",
                    "2",
                    "20",
                    "3",
                    "4",
                    "5",
                    "6",
                    "7",
                    "8",
                    "9",
                    "<1",
                    ">20",
                    "1",
                    "10",
                    "11",
                    "12",
                    "13",
                    "14",
                    "15",
                    "16",
                    "17",
                    "18",
                    "19",
                    "2",
                    "20",
                    "3",
                    "4",
                    "5",
                    "6",
                    "7",
                    "8",
                    "9",
                    "<1",
                    ">20",
                    "",
                    "",
                    "",
                    "",
                    "",
                    "",
                    "",
                    "",
                    "",
                    "",
                    "",
                    "",
                    "",
                    "",
                    "",
                    "",
                    "",
                    "",
                    "",
                    "",
                    "",
                    ""
                  ],
                  "type": "sunburst",
                  "values": [
                    276,
                    742,
                    502,
                    390,
                    314,
                    468,
                    556,
                    422,
                    276,
                    234,
                    246,
                    670,
                    109,
                    804,
                    884,
                    948,
                    817,
                    694,
                    586,
                    741,
                    246,
                    2691,
                    202,
                    201,
                    148,
                    85,
                    73,
                    101,
                    111,
                    65,
                    56,
                    38,
                    48,
                    335,
                    33,
                    430,
                    417,
                    389,
                    327,
                    290,
                    184,
                    198,
                    205,
                    485,
                    478,
                    943,
                    650,
                    475,
                    387,
                    569,
                    667,
                    487,
                    332,
                    272,
                    294,
                    1005,
                    142,
                    1234,
                    1301,
                    1337,
                    1144,
                    984,
                    770,
                    939,
                    451,
                    3176
                  ]
                }
              ],
              "layout": {
                "coloraxis": {
                  "colorbar": {
                    "title": {
                      "text": "target"
                    }
                  },
                  "colorscale": [
                    [
                      0,
                      "#0d0887"
                    ],
                    [
                      0.1111111111111111,
                      "#46039f"
                    ],
                    [
                      0.2222222222222222,
                      "#7201a8"
                    ],
                    [
                      0.3333333333333333,
                      "#9c179e"
                    ],
                    [
                      0.4444444444444444,
                      "#bd3786"
                    ],
                    [
                      0.5555555555555556,
                      "#d8576b"
                    ],
                    [
                      0.6666666666666666,
                      "#ed7953"
                    ],
                    [
                      0.7777777777777778,
                      "#fb9f3a"
                    ],
                    [
                      0.8888888888888888,
                      "#fdca26"
                    ],
                    [
                      1,
                      "#f0f921"
                    ]
                  ]
                },
                "legend": {
                  "tracegroupgap": 0
                },
                "template": {
                  "data": {
                    "bar": [
                      {
                        "error_x": {
                          "color": "#2a3f5f"
                        },
                        "error_y": {
                          "color": "#2a3f5f"
                        },
                        "marker": {
                          "line": {
                            "color": "#E5ECF6",
                            "width": 0.5
                          }
                        },
                        "type": "bar"
                      }
                    ],
                    "barpolar": [
                      {
                        "marker": {
                          "line": {
                            "color": "#E5ECF6",
                            "width": 0.5
                          }
                        },
                        "type": "barpolar"
                      }
                    ],
                    "carpet": [
                      {
                        "aaxis": {
                          "endlinecolor": "#2a3f5f",
                          "gridcolor": "white",
                          "linecolor": "white",
                          "minorgridcolor": "white",
                          "startlinecolor": "#2a3f5f"
                        },
                        "baxis": {
                          "endlinecolor": "#2a3f5f",
                          "gridcolor": "white",
                          "linecolor": "white",
                          "minorgridcolor": "white",
                          "startlinecolor": "#2a3f5f"
                        },
                        "type": "carpet"
                      }
                    ],
                    "choropleth": [
                      {
                        "colorbar": {
                          "outlinewidth": 0,
                          "ticks": ""
                        },
                        "type": "choropleth"
                      }
                    ],
                    "contour": [
                      {
                        "colorbar": {
                          "outlinewidth": 0,
                          "ticks": ""
                        },
                        "colorscale": [
                          [
                            0,
                            "#0d0887"
                          ],
                          [
                            0.1111111111111111,
                            "#46039f"
                          ],
                          [
                            0.2222222222222222,
                            "#7201a8"
                          ],
                          [
                            0.3333333333333333,
                            "#9c179e"
                          ],
                          [
                            0.4444444444444444,
                            "#bd3786"
                          ],
                          [
                            0.5555555555555556,
                            "#d8576b"
                          ],
                          [
                            0.6666666666666666,
                            "#ed7953"
                          ],
                          [
                            0.7777777777777778,
                            "#fb9f3a"
                          ],
                          [
                            0.8888888888888888,
                            "#fdca26"
                          ],
                          [
                            1,
                            "#f0f921"
                          ]
                        ],
                        "type": "contour"
                      }
                    ],
                    "contourcarpet": [
                      {
                        "colorbar": {
                          "outlinewidth": 0,
                          "ticks": ""
                        },
                        "type": "contourcarpet"
                      }
                    ],
                    "heatmap": [
                      {
                        "colorbar": {
                          "outlinewidth": 0,
                          "ticks": ""
                        },
                        "colorscale": [
                          [
                            0,
                            "#0d0887"
                          ],
                          [
                            0.1111111111111111,
                            "#46039f"
                          ],
                          [
                            0.2222222222222222,
                            "#7201a8"
                          ],
                          [
                            0.3333333333333333,
                            "#9c179e"
                          ],
                          [
                            0.4444444444444444,
                            "#bd3786"
                          ],
                          [
                            0.5555555555555556,
                            "#d8576b"
                          ],
                          [
                            0.6666666666666666,
                            "#ed7953"
                          ],
                          [
                            0.7777777777777778,
                            "#fb9f3a"
                          ],
                          [
                            0.8888888888888888,
                            "#fdca26"
                          ],
                          [
                            1,
                            "#f0f921"
                          ]
                        ],
                        "type": "heatmap"
                      }
                    ],
                    "heatmapgl": [
                      {
                        "colorbar": {
                          "outlinewidth": 0,
                          "ticks": ""
                        },
                        "colorscale": [
                          [
                            0,
                            "#0d0887"
                          ],
                          [
                            0.1111111111111111,
                            "#46039f"
                          ],
                          [
                            0.2222222222222222,
                            "#7201a8"
                          ],
                          [
                            0.3333333333333333,
                            "#9c179e"
                          ],
                          [
                            0.4444444444444444,
                            "#bd3786"
                          ],
                          [
                            0.5555555555555556,
                            "#d8576b"
                          ],
                          [
                            0.6666666666666666,
                            "#ed7953"
                          ],
                          [
                            0.7777777777777778,
                            "#fb9f3a"
                          ],
                          [
                            0.8888888888888888,
                            "#fdca26"
                          ],
                          [
                            1,
                            "#f0f921"
                          ]
                        ],
                        "type": "heatmapgl"
                      }
                    ],
                    "histogram": [
                      {
                        "marker": {
                          "colorbar": {
                            "outlinewidth": 0,
                            "ticks": ""
                          }
                        },
                        "type": "histogram"
                      }
                    ],
                    "histogram2d": [
                      {
                        "colorbar": {
                          "outlinewidth": 0,
                          "ticks": ""
                        },
                        "colorscale": [
                          [
                            0,
                            "#0d0887"
                          ],
                          [
                            0.1111111111111111,
                            "#46039f"
                          ],
                          [
                            0.2222222222222222,
                            "#7201a8"
                          ],
                          [
                            0.3333333333333333,
                            "#9c179e"
                          ],
                          [
                            0.4444444444444444,
                            "#bd3786"
                          ],
                          [
                            0.5555555555555556,
                            "#d8576b"
                          ],
                          [
                            0.6666666666666666,
                            "#ed7953"
                          ],
                          [
                            0.7777777777777778,
                            "#fb9f3a"
                          ],
                          [
                            0.8888888888888888,
                            "#fdca26"
                          ],
                          [
                            1,
                            "#f0f921"
                          ]
                        ],
                        "type": "histogram2d"
                      }
                    ],
                    "histogram2dcontour": [
                      {
                        "colorbar": {
                          "outlinewidth": 0,
                          "ticks": ""
                        },
                        "colorscale": [
                          [
                            0,
                            "#0d0887"
                          ],
                          [
                            0.1111111111111111,
                            "#46039f"
                          ],
                          [
                            0.2222222222222222,
                            "#7201a8"
                          ],
                          [
                            0.3333333333333333,
                            "#9c179e"
                          ],
                          [
                            0.4444444444444444,
                            "#bd3786"
                          ],
                          [
                            0.5555555555555556,
                            "#d8576b"
                          ],
                          [
                            0.6666666666666666,
                            "#ed7953"
                          ],
                          [
                            0.7777777777777778,
                            "#fb9f3a"
                          ],
                          [
                            0.8888888888888888,
                            "#fdca26"
                          ],
                          [
                            1,
                            "#f0f921"
                          ]
                        ],
                        "type": "histogram2dcontour"
                      }
                    ],
                    "mesh3d": [
                      {
                        "colorbar": {
                          "outlinewidth": 0,
                          "ticks": ""
                        },
                        "type": "mesh3d"
                      }
                    ],
                    "parcoords": [
                      {
                        "line": {
                          "colorbar": {
                            "outlinewidth": 0,
                            "ticks": ""
                          }
                        },
                        "type": "parcoords"
                      }
                    ],
                    "pie": [
                      {
                        "automargin": true,
                        "type": "pie"
                      }
                    ],
                    "scatter": [
                      {
                        "marker": {
                          "colorbar": {
                            "outlinewidth": 0,
                            "ticks": ""
                          }
                        },
                        "type": "scatter"
                      }
                    ],
                    "scatter3d": [
                      {
                        "line": {
                          "colorbar": {
                            "outlinewidth": 0,
                            "ticks": ""
                          }
                        },
                        "marker": {
                          "colorbar": {
                            "outlinewidth": 0,
                            "ticks": ""
                          }
                        },
                        "type": "scatter3d"
                      }
                    ],
                    "scattercarpet": [
                      {
                        "marker": {
                          "colorbar": {
                            "outlinewidth": 0,
                            "ticks": ""
                          }
                        },
                        "type": "scattercarpet"
                      }
                    ],
                    "scattergeo": [
                      {
                        "marker": {
                          "colorbar": {
                            "outlinewidth": 0,
                            "ticks": ""
                          }
                        },
                        "type": "scattergeo"
                      }
                    ],
                    "scattergl": [
                      {
                        "marker": {
                          "colorbar": {
                            "outlinewidth": 0,
                            "ticks": ""
                          }
                        },
                        "type": "scattergl"
                      }
                    ],
                    "scattermapbox": [
                      {
                        "marker": {
                          "colorbar": {
                            "outlinewidth": 0,
                            "ticks": ""
                          }
                        },
                        "type": "scattermapbox"
                      }
                    ],
                    "scatterpolar": [
                      {
                        "marker": {
                          "colorbar": {
                            "outlinewidth": 0,
                            "ticks": ""
                          }
                        },
                        "type": "scatterpolar"
                      }
                    ],
                    "scatterpolargl": [
                      {
                        "marker": {
                          "colorbar": {
                            "outlinewidth": 0,
                            "ticks": ""
                          }
                        },
                        "type": "scatterpolargl"
                      }
                    ],
                    "scatterternary": [
                      {
                        "marker": {
                          "colorbar": {
                            "outlinewidth": 0,
                            "ticks": ""
                          }
                        },
                        "type": "scatterternary"
                      }
                    ],
                    "surface": [
                      {
                        "colorbar": {
                          "outlinewidth": 0,
                          "ticks": ""
                        },
                        "colorscale": [
                          [
                            0,
                            "#0d0887"
                          ],
                          [
                            0.1111111111111111,
                            "#46039f"
                          ],
                          [
                            0.2222222222222222,
                            "#7201a8"
                          ],
                          [
                            0.3333333333333333,
                            "#9c179e"
                          ],
                          [
                            0.4444444444444444,
                            "#bd3786"
                          ],
                          [
                            0.5555555555555556,
                            "#d8576b"
                          ],
                          [
                            0.6666666666666666,
                            "#ed7953"
                          ],
                          [
                            0.7777777777777778,
                            "#fb9f3a"
                          ],
                          [
                            0.8888888888888888,
                            "#fdca26"
                          ],
                          [
                            1,
                            "#f0f921"
                          ]
                        ],
                        "type": "surface"
                      }
                    ],
                    "table": [
                      {
                        "cells": {
                          "fill": {
                            "color": "#EBF0F8"
                          },
                          "line": {
                            "color": "white"
                          }
                        },
                        "header": {
                          "fill": {
                            "color": "#C8D4E3"
                          },
                          "line": {
                            "color": "white"
                          }
                        },
                        "type": "table"
                      }
                    ]
                  },
                  "layout": {
                    "annotationdefaults": {
                      "arrowcolor": "#2a3f5f",
                      "arrowhead": 0,
                      "arrowwidth": 1
                    },
                    "autotypenumbers": "strict",
                    "coloraxis": {
                      "colorbar": {
                        "outlinewidth": 0,
                        "ticks": ""
                      }
                    },
                    "colorscale": {
                      "diverging": [
                        [
                          0,
                          "#8e0152"
                        ],
                        [
                          0.1,
                          "#c51b7d"
                        ],
                        [
                          0.2,
                          "#de77ae"
                        ],
                        [
                          0.3,
                          "#f1b6da"
                        ],
                        [
                          0.4,
                          "#fde0ef"
                        ],
                        [
                          0.5,
                          "#f7f7f7"
                        ],
                        [
                          0.6,
                          "#e6f5d0"
                        ],
                        [
                          0.7,
                          "#b8e186"
                        ],
                        [
                          0.8,
                          "#7fbc41"
                        ],
                        [
                          0.9,
                          "#4d9221"
                        ],
                        [
                          1,
                          "#276419"
                        ]
                      ],
                      "sequential": [
                        [
                          0,
                          "#0d0887"
                        ],
                        [
                          0.1111111111111111,
                          "#46039f"
                        ],
                        [
                          0.2222222222222222,
                          "#7201a8"
                        ],
                        [
                          0.3333333333333333,
                          "#9c179e"
                        ],
                        [
                          0.4444444444444444,
                          "#bd3786"
                        ],
                        [
                          0.5555555555555556,
                          "#d8576b"
                        ],
                        [
                          0.6666666666666666,
                          "#ed7953"
                        ],
                        [
                          0.7777777777777778,
                          "#fb9f3a"
                        ],
                        [
                          0.8888888888888888,
                          "#fdca26"
                        ],
                        [
                          1,
                          "#f0f921"
                        ]
                      ],
                      "sequentialminus": [
                        [
                          0,
                          "#0d0887"
                        ],
                        [
                          0.1111111111111111,
                          "#46039f"
                        ],
                        [
                          0.2222222222222222,
                          "#7201a8"
                        ],
                        [
                          0.3333333333333333,
                          "#9c179e"
                        ],
                        [
                          0.4444444444444444,
                          "#bd3786"
                        ],
                        [
                          0.5555555555555556,
                          "#d8576b"
                        ],
                        [
                          0.6666666666666666,
                          "#ed7953"
                        ],
                        [
                          0.7777777777777778,
                          "#fb9f3a"
                        ],
                        [
                          0.8888888888888888,
                          "#fdca26"
                        ],
                        [
                          1,
                          "#f0f921"
                        ]
                      ]
                    },
                    "colorway": [
                      "#636efa",
                      "#EF553B",
                      "#00cc96",
                      "#ab63fa",
                      "#FFA15A",
                      "#19d3f3",
                      "#FF6692",
                      "#B6E880",
                      "#FF97FF",
                      "#FECB52"
                    ],
                    "font": {
                      "color": "#2a3f5f"
                    },
                    "geo": {
                      "bgcolor": "white",
                      "lakecolor": "white",
                      "landcolor": "#E5ECF6",
                      "showlakes": true,
                      "showland": true,
                      "subunitcolor": "white"
                    },
                    "hoverlabel": {
                      "align": "left"
                    },
                    "hovermode": "closest",
                    "mapbox": {
                      "style": "light"
                    },
                    "paper_bgcolor": "white",
                    "plot_bgcolor": "#E5ECF6",
                    "polar": {
                      "angularaxis": {
                        "gridcolor": "white",
                        "linecolor": "white",
                        "ticks": ""
                      },
                      "bgcolor": "#E5ECF6",
                      "radialaxis": {
                        "gridcolor": "white",
                        "linecolor": "white",
                        "ticks": ""
                      }
                    },
                    "scene": {
                      "xaxis": {
                        "backgroundcolor": "#E5ECF6",
                        "gridcolor": "white",
                        "gridwidth": 2,
                        "linecolor": "white",
                        "showbackground": true,
                        "ticks": "",
                        "zerolinecolor": "white"
                      },
                      "yaxis": {
                        "backgroundcolor": "#E5ECF6",
                        "gridcolor": "white",
                        "gridwidth": 2,
                        "linecolor": "white",
                        "showbackground": true,
                        "ticks": "",
                        "zerolinecolor": "white"
                      },
                      "zaxis": {
                        "backgroundcolor": "#E5ECF6",
                        "gridcolor": "white",
                        "gridwidth": 2,
                        "linecolor": "white",
                        "showbackground": true,
                        "ticks": "",
                        "zerolinecolor": "white"
                      }
                    },
                    "shapedefaults": {
                      "line": {
                        "color": "#2a3f5f"
                      }
                    },
                    "ternary": {
                      "aaxis": {
                        "gridcolor": "white",
                        "linecolor": "white",
                        "ticks": ""
                      },
                      "baxis": {
                        "gridcolor": "white",
                        "linecolor": "white",
                        "ticks": ""
                      },
                      "bgcolor": "#E5ECF6",
                      "caxis": {
                        "gridcolor": "white",
                        "linecolor": "white",
                        "ticks": ""
                      }
                    },
                    "title": {
                      "x": 0.05
                    },
                    "xaxis": {
                      "automargin": true,
                      "gridcolor": "white",
                      "linecolor": "white",
                      "ticks": "",
                      "title": {
                        "standoff": 15
                      },
                      "zerolinecolor": "white",
                      "zerolinewidth": 2
                    },
                    "yaxis": {
                      "automargin": true,
                      "gridcolor": "white",
                      "linecolor": "white",
                      "ticks": "",
                      "title": {
                        "standoff": 15
                      },
                      "zerolinecolor": "white",
                      "zerolinewidth": 2
                    }
                  }
                },
                "title": {
                  "text": "Proporsi Target Berdasarkan experience"
                }
              }
            }
          },
          "metadata": {},
          "output_type": "display_data"
        },
        {
          "data": {
            "application/vnd.plotly.v1+json": {
              "config": {
                "plotlyServerURL": "https://plot.ly"
              },
              "data": [
                {
                  "branchvalues": "total",
                  "customdata": [
                    [
                      0
                    ],
                    [
                      0
                    ],
                    [
                      0
                    ],
                    [
                      0
                    ],
                    [
                      0
                    ],
                    [
                      0
                    ],
                    [
                      1
                    ],
                    [
                      1
                    ],
                    [
                      1
                    ],
                    [
                      1
                    ],
                    [
                      1
                    ],
                    [
                      1
                    ],
                    [
                      0.26133299088223966
                    ],
                    [
                      0.23983020870180402
                    ],
                    [
                      0.22525252525252526
                    ],
                    [
                      0.21825396825396826
                    ],
                    [
                      0.17997504678727386
                    ],
                    [
                      0.3100495718792249
                    ]
                  ],
                  "domain": {
                    "x": [
                      0,
                      1
                    ],
                    "y": [
                      0,
                      1
                    ]
                  },
                  "hovertemplate": "labels=%{label}<br>count=%{value}<br>parent=%{parent}<br>id=%{id}<br>target=%{color}<extra></extra>",
                  "ids": [
                    "1/0.0",
                    "2/0.0",
                    "3/0.0",
                    "4/0.0",
                    ">4/0.0",
                    "never/0.0",
                    "1/1.0",
                    "2/1.0",
                    "3/1.0",
                    "4/1.0",
                    ">4/1.0",
                    "never/1.0",
                    "1",
                    "2",
                    "3",
                    "4",
                    ">4",
                    "never"
                  ],
                  "labels": [
                    "0.0",
                    "0.0",
                    "0.0",
                    "0.0",
                    "0.0",
                    "0.0",
                    "1.0",
                    "1.0",
                    "1.0",
                    "1.0",
                    "1.0",
                    "1.0",
                    "1",
                    "2",
                    "3",
                    "4",
                    ">4",
                    "never"
                  ],
                  "marker": {
                    "coloraxis": "coloraxis",
                    "colors": [
                      0,
                      0,
                      0,
                      0,
                      0,
                      0,
                      1,
                      1,
                      1,
                      1,
                      1,
                      1,
                      0.26133299088223966,
                      0.23983020870180402,
                      0.22525252525252526,
                      0.21825396825396826,
                      0.17997504678727386,
                      0.3100495718792249
                    ]
                  },
                  "name": "",
                  "parents": [
                    "1",
                    "2",
                    "3",
                    "4",
                    ">4",
                    "never",
                    "1",
                    "2",
                    "3",
                    "4",
                    ">4",
                    "never",
                    "",
                    "",
                    "",
                    "",
                    "",
                    ""
                  ],
                  "type": "sunburst",
                  "values": [
                    5752,
                    2149,
                    767,
                    788,
                    2629,
                    1531,
                    2035,
                    678,
                    223,
                    220,
                    577,
                    688,
                    7787,
                    2827,
                    990,
                    1008,
                    3206,
                    2219
                  ]
                }
              ],
              "layout": {
                "coloraxis": {
                  "colorbar": {
                    "title": {
                      "text": "target"
                    }
                  },
                  "colorscale": [
                    [
                      0,
                      "#0d0887"
                    ],
                    [
                      0.1111111111111111,
                      "#46039f"
                    ],
                    [
                      0.2222222222222222,
                      "#7201a8"
                    ],
                    [
                      0.3333333333333333,
                      "#9c179e"
                    ],
                    [
                      0.4444444444444444,
                      "#bd3786"
                    ],
                    [
                      0.5555555555555556,
                      "#d8576b"
                    ],
                    [
                      0.6666666666666666,
                      "#ed7953"
                    ],
                    [
                      0.7777777777777778,
                      "#fb9f3a"
                    ],
                    [
                      0.8888888888888888,
                      "#fdca26"
                    ],
                    [
                      1,
                      "#f0f921"
                    ]
                  ]
                },
                "legend": {
                  "tracegroupgap": 0
                },
                "template": {
                  "data": {
                    "bar": [
                      {
                        "error_x": {
                          "color": "#2a3f5f"
                        },
                        "error_y": {
                          "color": "#2a3f5f"
                        },
                        "marker": {
                          "line": {
                            "color": "#E5ECF6",
                            "width": 0.5
                          }
                        },
                        "type": "bar"
                      }
                    ],
                    "barpolar": [
                      {
                        "marker": {
                          "line": {
                            "color": "#E5ECF6",
                            "width": 0.5
                          }
                        },
                        "type": "barpolar"
                      }
                    ],
                    "carpet": [
                      {
                        "aaxis": {
                          "endlinecolor": "#2a3f5f",
                          "gridcolor": "white",
                          "linecolor": "white",
                          "minorgridcolor": "white",
                          "startlinecolor": "#2a3f5f"
                        },
                        "baxis": {
                          "endlinecolor": "#2a3f5f",
                          "gridcolor": "white",
                          "linecolor": "white",
                          "minorgridcolor": "white",
                          "startlinecolor": "#2a3f5f"
                        },
                        "type": "carpet"
                      }
                    ],
                    "choropleth": [
                      {
                        "colorbar": {
                          "outlinewidth": 0,
                          "ticks": ""
                        },
                        "type": "choropleth"
                      }
                    ],
                    "contour": [
                      {
                        "colorbar": {
                          "outlinewidth": 0,
                          "ticks": ""
                        },
                        "colorscale": [
                          [
                            0,
                            "#0d0887"
                          ],
                          [
                            0.1111111111111111,
                            "#46039f"
                          ],
                          [
                            0.2222222222222222,
                            "#7201a8"
                          ],
                          [
                            0.3333333333333333,
                            "#9c179e"
                          ],
                          [
                            0.4444444444444444,
                            "#bd3786"
                          ],
                          [
                            0.5555555555555556,
                            "#d8576b"
                          ],
                          [
                            0.6666666666666666,
                            "#ed7953"
                          ],
                          [
                            0.7777777777777778,
                            "#fb9f3a"
                          ],
                          [
                            0.8888888888888888,
                            "#fdca26"
                          ],
                          [
                            1,
                            "#f0f921"
                          ]
                        ],
                        "type": "contour"
                      }
                    ],
                    "contourcarpet": [
                      {
                        "colorbar": {
                          "outlinewidth": 0,
                          "ticks": ""
                        },
                        "type": "contourcarpet"
                      }
                    ],
                    "heatmap": [
                      {
                        "colorbar": {
                          "outlinewidth": 0,
                          "ticks": ""
                        },
                        "colorscale": [
                          [
                            0,
                            "#0d0887"
                          ],
                          [
                            0.1111111111111111,
                            "#46039f"
                          ],
                          [
                            0.2222222222222222,
                            "#7201a8"
                          ],
                          [
                            0.3333333333333333,
                            "#9c179e"
                          ],
                          [
                            0.4444444444444444,
                            "#bd3786"
                          ],
                          [
                            0.5555555555555556,
                            "#d8576b"
                          ],
                          [
                            0.6666666666666666,
                            "#ed7953"
                          ],
                          [
                            0.7777777777777778,
                            "#fb9f3a"
                          ],
                          [
                            0.8888888888888888,
                            "#fdca26"
                          ],
                          [
                            1,
                            "#f0f921"
                          ]
                        ],
                        "type": "heatmap"
                      }
                    ],
                    "heatmapgl": [
                      {
                        "colorbar": {
                          "outlinewidth": 0,
                          "ticks": ""
                        },
                        "colorscale": [
                          [
                            0,
                            "#0d0887"
                          ],
                          [
                            0.1111111111111111,
                            "#46039f"
                          ],
                          [
                            0.2222222222222222,
                            "#7201a8"
                          ],
                          [
                            0.3333333333333333,
                            "#9c179e"
                          ],
                          [
                            0.4444444444444444,
                            "#bd3786"
                          ],
                          [
                            0.5555555555555556,
                            "#d8576b"
                          ],
                          [
                            0.6666666666666666,
                            "#ed7953"
                          ],
                          [
                            0.7777777777777778,
                            "#fb9f3a"
                          ],
                          [
                            0.8888888888888888,
                            "#fdca26"
                          ],
                          [
                            1,
                            "#f0f921"
                          ]
                        ],
                        "type": "heatmapgl"
                      }
                    ],
                    "histogram": [
                      {
                        "marker": {
                          "colorbar": {
                            "outlinewidth": 0,
                            "ticks": ""
                          }
                        },
                        "type": "histogram"
                      }
                    ],
                    "histogram2d": [
                      {
                        "colorbar": {
                          "outlinewidth": 0,
                          "ticks": ""
                        },
                        "colorscale": [
                          [
                            0,
                            "#0d0887"
                          ],
                          [
                            0.1111111111111111,
                            "#46039f"
                          ],
                          [
                            0.2222222222222222,
                            "#7201a8"
                          ],
                          [
                            0.3333333333333333,
                            "#9c179e"
                          ],
                          [
                            0.4444444444444444,
                            "#bd3786"
                          ],
                          [
                            0.5555555555555556,
                            "#d8576b"
                          ],
                          [
                            0.6666666666666666,
                            "#ed7953"
                          ],
                          [
                            0.7777777777777778,
                            "#fb9f3a"
                          ],
                          [
                            0.8888888888888888,
                            "#fdca26"
                          ],
                          [
                            1,
                            "#f0f921"
                          ]
                        ],
                        "type": "histogram2d"
                      }
                    ],
                    "histogram2dcontour": [
                      {
                        "colorbar": {
                          "outlinewidth": 0,
                          "ticks": ""
                        },
                        "colorscale": [
                          [
                            0,
                            "#0d0887"
                          ],
                          [
                            0.1111111111111111,
                            "#46039f"
                          ],
                          [
                            0.2222222222222222,
                            "#7201a8"
                          ],
                          [
                            0.3333333333333333,
                            "#9c179e"
                          ],
                          [
                            0.4444444444444444,
                            "#bd3786"
                          ],
                          [
                            0.5555555555555556,
                            "#d8576b"
                          ],
                          [
                            0.6666666666666666,
                            "#ed7953"
                          ],
                          [
                            0.7777777777777778,
                            "#fb9f3a"
                          ],
                          [
                            0.8888888888888888,
                            "#fdca26"
                          ],
                          [
                            1,
                            "#f0f921"
                          ]
                        ],
                        "type": "histogram2dcontour"
                      }
                    ],
                    "mesh3d": [
                      {
                        "colorbar": {
                          "outlinewidth": 0,
                          "ticks": ""
                        },
                        "type": "mesh3d"
                      }
                    ],
                    "parcoords": [
                      {
                        "line": {
                          "colorbar": {
                            "outlinewidth": 0,
                            "ticks": ""
                          }
                        },
                        "type": "parcoords"
                      }
                    ],
                    "pie": [
                      {
                        "automargin": true,
                        "type": "pie"
                      }
                    ],
                    "scatter": [
                      {
                        "marker": {
                          "colorbar": {
                            "outlinewidth": 0,
                            "ticks": ""
                          }
                        },
                        "type": "scatter"
                      }
                    ],
                    "scatter3d": [
                      {
                        "line": {
                          "colorbar": {
                            "outlinewidth": 0,
                            "ticks": ""
                          }
                        },
                        "marker": {
                          "colorbar": {
                            "outlinewidth": 0,
                            "ticks": ""
                          }
                        },
                        "type": "scatter3d"
                      }
                    ],
                    "scattercarpet": [
                      {
                        "marker": {
                          "colorbar": {
                            "outlinewidth": 0,
                            "ticks": ""
                          }
                        },
                        "type": "scattercarpet"
                      }
                    ],
                    "scattergeo": [
                      {
                        "marker": {
                          "colorbar": {
                            "outlinewidth": 0,
                            "ticks": ""
                          }
                        },
                        "type": "scattergeo"
                      }
                    ],
                    "scattergl": [
                      {
                        "marker": {
                          "colorbar": {
                            "outlinewidth": 0,
                            "ticks": ""
                          }
                        },
                        "type": "scattergl"
                      }
                    ],
                    "scattermapbox": [
                      {
                        "marker": {
                          "colorbar": {
                            "outlinewidth": 0,
                            "ticks": ""
                          }
                        },
                        "type": "scattermapbox"
                      }
                    ],
                    "scatterpolar": [
                      {
                        "marker": {
                          "colorbar": {
                            "outlinewidth": 0,
                            "ticks": ""
                          }
                        },
                        "type": "scatterpolar"
                      }
                    ],
                    "scatterpolargl": [
                      {
                        "marker": {
                          "colorbar": {
                            "outlinewidth": 0,
                            "ticks": ""
                          }
                        },
                        "type": "scatterpolargl"
                      }
                    ],
                    "scatterternary": [
                      {
                        "marker": {
                          "colorbar": {
                            "outlinewidth": 0,
                            "ticks": ""
                          }
                        },
                        "type": "scatterternary"
                      }
                    ],
                    "surface": [
                      {
                        "colorbar": {
                          "outlinewidth": 0,
                          "ticks": ""
                        },
                        "colorscale": [
                          [
                            0,
                            "#0d0887"
                          ],
                          [
                            0.1111111111111111,
                            "#46039f"
                          ],
                          [
                            0.2222222222222222,
                            "#7201a8"
                          ],
                          [
                            0.3333333333333333,
                            "#9c179e"
                          ],
                          [
                            0.4444444444444444,
                            "#bd3786"
                          ],
                          [
                            0.5555555555555556,
                            "#d8576b"
                          ],
                          [
                            0.6666666666666666,
                            "#ed7953"
                          ],
                          [
                            0.7777777777777778,
                            "#fb9f3a"
                          ],
                          [
                            0.8888888888888888,
                            "#fdca26"
                          ],
                          [
                            1,
                            "#f0f921"
                          ]
                        ],
                        "type": "surface"
                      }
                    ],
                    "table": [
                      {
                        "cells": {
                          "fill": {
                            "color": "#EBF0F8"
                          },
                          "line": {
                            "color": "white"
                          }
                        },
                        "header": {
                          "fill": {
                            "color": "#C8D4E3"
                          },
                          "line": {
                            "color": "white"
                          }
                        },
                        "type": "table"
                      }
                    ]
                  },
                  "layout": {
                    "annotationdefaults": {
                      "arrowcolor": "#2a3f5f",
                      "arrowhead": 0,
                      "arrowwidth": 1
                    },
                    "autotypenumbers": "strict",
                    "coloraxis": {
                      "colorbar": {
                        "outlinewidth": 0,
                        "ticks": ""
                      }
                    },
                    "colorscale": {
                      "diverging": [
                        [
                          0,
                          "#8e0152"
                        ],
                        [
                          0.1,
                          "#c51b7d"
                        ],
                        [
                          0.2,
                          "#de77ae"
                        ],
                        [
                          0.3,
                          "#f1b6da"
                        ],
                        [
                          0.4,
                          "#fde0ef"
                        ],
                        [
                          0.5,
                          "#f7f7f7"
                        ],
                        [
                          0.6,
                          "#e6f5d0"
                        ],
                        [
                          0.7,
                          "#b8e186"
                        ],
                        [
                          0.8,
                          "#7fbc41"
                        ],
                        [
                          0.9,
                          "#4d9221"
                        ],
                        [
                          1,
                          "#276419"
                        ]
                      ],
                      "sequential": [
                        [
                          0,
                          "#0d0887"
                        ],
                        [
                          0.1111111111111111,
                          "#46039f"
                        ],
                        [
                          0.2222222222222222,
                          "#7201a8"
                        ],
                        [
                          0.3333333333333333,
                          "#9c179e"
                        ],
                        [
                          0.4444444444444444,
                          "#bd3786"
                        ],
                        [
                          0.5555555555555556,
                          "#d8576b"
                        ],
                        [
                          0.6666666666666666,
                          "#ed7953"
                        ],
                        [
                          0.7777777777777778,
                          "#fb9f3a"
                        ],
                        [
                          0.8888888888888888,
                          "#fdca26"
                        ],
                        [
                          1,
                          "#f0f921"
                        ]
                      ],
                      "sequentialminus": [
                        [
                          0,
                          "#0d0887"
                        ],
                        [
                          0.1111111111111111,
                          "#46039f"
                        ],
                        [
                          0.2222222222222222,
                          "#7201a8"
                        ],
                        [
                          0.3333333333333333,
                          "#9c179e"
                        ],
                        [
                          0.4444444444444444,
                          "#bd3786"
                        ],
                        [
                          0.5555555555555556,
                          "#d8576b"
                        ],
                        [
                          0.6666666666666666,
                          "#ed7953"
                        ],
                        [
                          0.7777777777777778,
                          "#fb9f3a"
                        ],
                        [
                          0.8888888888888888,
                          "#fdca26"
                        ],
                        [
                          1,
                          "#f0f921"
                        ]
                      ]
                    },
                    "colorway": [
                      "#636efa",
                      "#EF553B",
                      "#00cc96",
                      "#ab63fa",
                      "#FFA15A",
                      "#19d3f3",
                      "#FF6692",
                      "#B6E880",
                      "#FF97FF",
                      "#FECB52"
                    ],
                    "font": {
                      "color": "#2a3f5f"
                    },
                    "geo": {
                      "bgcolor": "white",
                      "lakecolor": "white",
                      "landcolor": "#E5ECF6",
                      "showlakes": true,
                      "showland": true,
                      "subunitcolor": "white"
                    },
                    "hoverlabel": {
                      "align": "left"
                    },
                    "hovermode": "closest",
                    "mapbox": {
                      "style": "light"
                    },
                    "paper_bgcolor": "white",
                    "plot_bgcolor": "#E5ECF6",
                    "polar": {
                      "angularaxis": {
                        "gridcolor": "white",
                        "linecolor": "white",
                        "ticks": ""
                      },
                      "bgcolor": "#E5ECF6",
                      "radialaxis": {
                        "gridcolor": "white",
                        "linecolor": "white",
                        "ticks": ""
                      }
                    },
                    "scene": {
                      "xaxis": {
                        "backgroundcolor": "#E5ECF6",
                        "gridcolor": "white",
                        "gridwidth": 2,
                        "linecolor": "white",
                        "showbackground": true,
                        "ticks": "",
                        "zerolinecolor": "white"
                      },
                      "yaxis": {
                        "backgroundcolor": "#E5ECF6",
                        "gridcolor": "white",
                        "gridwidth": 2,
                        "linecolor": "white",
                        "showbackground": true,
                        "ticks": "",
                        "zerolinecolor": "white"
                      },
                      "zaxis": {
                        "backgroundcolor": "#E5ECF6",
                        "gridcolor": "white",
                        "gridwidth": 2,
                        "linecolor": "white",
                        "showbackground": true,
                        "ticks": "",
                        "zerolinecolor": "white"
                      }
                    },
                    "shapedefaults": {
                      "line": {
                        "color": "#2a3f5f"
                      }
                    },
                    "ternary": {
                      "aaxis": {
                        "gridcolor": "white",
                        "linecolor": "white",
                        "ticks": ""
                      },
                      "baxis": {
                        "gridcolor": "white",
                        "linecolor": "white",
                        "ticks": ""
                      },
                      "bgcolor": "#E5ECF6",
                      "caxis": {
                        "gridcolor": "white",
                        "linecolor": "white",
                        "ticks": ""
                      }
                    },
                    "title": {
                      "x": 0.05
                    },
                    "xaxis": {
                      "automargin": true,
                      "gridcolor": "white",
                      "linecolor": "white",
                      "ticks": "",
                      "title": {
                        "standoff": 15
                      },
                      "zerolinecolor": "white",
                      "zerolinewidth": 2
                    },
                    "yaxis": {
                      "automargin": true,
                      "gridcolor": "white",
                      "linecolor": "white",
                      "ticks": "",
                      "title": {
                        "standoff": 15
                      },
                      "zerolinecolor": "white",
                      "zerolinewidth": 2
                    }
                  }
                },
                "title": {
                  "text": "Proporsi Target Berdasarkan last_new_job"
                }
              }
            }
          },
          "metadata": {},
          "output_type": "display_data"
        }
      ],
      "source": [
        "for i in ['relevent_experience','experience','last_new_job']:\n",
        "    fig=px.sunburst(df,path=[i,'target'],color='target', title=f'Proporsi Target Berdasarkan {i}')\n",
        "\n",
        "    fig.show()"
      ]
    },
    {
      "cell_type": "markdown",
      "metadata": {
        "id": "eoDme62ac47z"
      },
      "source": [
        "Dari grafik-grafik di atas, kita bisa menjawab pertanyaan:\n",
        "* Kandidat mana yang memiliki minat pindah kerja lebih tinggi, yang pengalaman kerja relevan atau tidak memiliki pengalaman kerja relevan?\n",
        "    * kandidat tanpa pengalaman yang relevan justru lebih ingin pindah\n",
        "* Kandidat yang memiliki pengalaman berapa lama yang memiliki minat untuk pindah kerja?\n",
        "    * kandidat dengan pengalaman kerja >20 tahun memiliki jumlah terbanyak, tapi kandidat-kandidat dengan pengalaman kerja yang kurang dari 10 tahun (3-7 tahun) yg lebih berminat pindah kerja secara proporsi.\n",
        "* Bagaimana rentang waktu sejak kandidat terakhir pindah kerja mempengaruhi minat kandidat untuk pindah kerja?\n",
        "    * kandidat yang baru pindah kerja (1 tahun) adalah yang paling banyak secara jumlah. Secara proporsi, grup ini dan grup yang belum pernah pindah tempat kerja (never) adalah yang paling berminat untuk pindah kerja. Kandidat yang telah bekerja >4 tahun di tempat dia sekarang bekerja memiliki minat pindah kerja paling rendah.\n",
        "\n",
        "Dari analisis di atas, kita bisa melihat bahwa sepertinya kandidat yang sudah berpengalaman dan bekerja di satu tempat dengan waktu relatif lama, sudah nyaman dengan pekerjaannya sekarang dan tidak terlalu berminat untuk pindah.\n",
        "\n",
        "Untuk `relevent_experience`, dari grafik, kandidat tanpa pengalaman relevan justru lebih minat untuk pindah kerja, kemungkinan besar ini adalah orang-orang yang ingin berpindah karir. Sekarang, mari kita cek secara statistik, apakah proporsi kandidat yang ingin pindah kerja memang secara signifikan lebih rendah pada kandidat dengan pengalaman kerja yang relevan dibanding kandidat dengan pengalaman kerja yang tidak relevan."
      ]
    },
    {
      "cell_type": "code",
      "execution_count": null,
      "metadata": {
        "id": "ufgk3eJDc470",
        "outputId": "182e9830-20ac-45f0-c7c4-70ba6dcc1871"
      },
      "outputs": [
        {
          "name": "stdout",
          "output_type": "stream",
          "text": [
            "Tolak Ho\n"
          ]
        }
      ],
      "source": [
        "from statsmodels.stats.proportion import proportions_ztest\n",
        "df_ct=pd.crosstab(df['relevent_experience'],df['target'])\n",
        "\n",
        "stats, pval=proportions_ztest(df_ct[1],df_ct.sum(axis=1),alternative='smaller')\n",
        "if pval<=0.05:\n",
        "    print('Tolak Ho')\n",
        "else:\n",
        "    print('Gagal menolak Ho')\n"
      ]
    },
    {
      "cell_type": "markdown",
      "metadata": {
        "id": "st6_1jusc471"
      },
      "source": [
        "Dari hasil uji statistik, kita bisa melihat bahwa memang proporsi kandidat yang ingin pindah kerja memang secara signifikan **lebih rendah** pada kandidat dengan pengalaman kerja yang relevan dibanding kandidat dengan pengalaman kerja yang tidak relevan.\n",
        "\n"
      ]
    },
    {
      "cell_type": "markdown",
      "metadata": {
        "id": "2pv10hudc471"
      },
      "source": [
        "## Berdasarkan perusahaan asal Kandidat\n",
        "Sekarang, mari kita menganalisa minat kandidat untuk pindah kerja berdasarkan karakteristik perusahaan asal kandidat, yaitu berdasarkan fitur `company_size` dan `company_type`.  \n",
        "Kita akan mencoba mencari tahu *dari perusahaan seperti apa kandidat yang berminat untuk pindah kerja berasal*, terutama dibandingkan dengan kandidat yang tidak ingin pindah kerja?\n",
        "\n"
      ]
    },
    {
      "cell_type": "code",
      "execution_count": null,
      "metadata": {
        "id": "y3fRKI0Tc472",
        "outputId": "5bd044f4-d82c-4a1e-f8e5-76fa86e89fbf"
      },
      "outputs": [
        {
          "data": {
            "image/png": "[encoded data removed]",
            "text/plain": [
              "<Figure size 864x288 with 1 Axes>"
            ]
          },
          "metadata": {
            "needs_background": "light"
          },
          "output_type": "display_data"
        },
        {
          "data": {
            "image/png": "[encoded data removed]",
            "text/plain": [
              "<Figure size 864x288 with 1 Axes>"
            ]
          },
          "metadata": {
            "needs_background": "light"
          },
          "output_type": "display_data"
        }
      ],
      "source": [
        "\n",
        "for i in ['company_size', 'company_type']:\n",
        "    ct=pd.crosstab(df[i],df['target'],normalize='index').sort_index()\n",
        "    ct['total']=ct.sum(axis=1)\n",
        "    plt.figure(figsize=(12,4))\n",
        "    plt.bar(np.arange(df[i].nunique()),ct['total'])\n",
        "    plt.bar(np.arange(df[i].nunique()),ct[1])\n",
        "    plt.xlabel('target')\n",
        "    plt.ylabel(f'Proportion {i}')\n",
        "    plt.legend([0,1])\n",
        "    plt.xticks(np.arange(len(ct.index.tolist())),ct.index.tolist())\n",
        "    plt.title(i)\n",
        "    plt.show()"
      ]
    },
    {
      "cell_type": "code",
      "execution_count": null,
      "metadata": {
        "id": "nugvDcjCc472",
        "outputId": "d5cb48ed-3ea4-4435-85f0-69166cfd59ce"
      },
      "outputs": [
        {
          "data": {
            "application/vnd.plotly.v1+json": {
              "config": {
                "plotlyServerURL": "https://plot.ly"
              },
              "data": [
                {
                  "branchvalues": "total",
                  "customdata": [
                    [
                      0
                    ],
                    [
                      0
                    ],
                    [
                      0
                    ],
                    [
                      0
                    ],
                    [
                      0
                    ],
                    [
                      0
                    ],
                    [
                      0
                    ],
                    [
                      0
                    ],
                    [
                      0
                    ],
                    [
                      1
                    ],
                    [
                      1
                    ],
                    [
                      1
                    ],
                    [
                      1
                    ],
                    [
                      1
                    ],
                    [
                      1
                    ],
                    [
                      1
                    ],
                    [
                      1
                    ],
                    [
                      1
                    ],
                    [
                      0.22827586206896552
                    ],
                    [
                      0.17408613825551936
                    ],
                    [
                      0.14763014763014762
                    ],
                    [
                      0.28830369357045144
                    ],
                    [
                      0.236385639370714
                    ],
                    [
                      0.17001180637544275
                    ],
                    [
                      0.17896678966789667
                    ],
                    [
                      0.16839584996009577
                    ],
                    [
                      0.47292598112270245
                    ]
                  ],
                  "domain": {
                    "x": [
                      0,
                      1
                    ],
                    "y": [
                      0,
                      1
                    ]
                  },
                  "hovertemplate": "labels=%{label}<br>count=%{value}<br>parent=%{parent}<br>id=%{id}<br>target=%{color}<extra></extra>",
                  "ids": [
                    "10-49/0.0",
                    "100-500/0.0",
                    "1000-4999/0.0",
                    "10000+/0.0",
                    "50-99/0.0",
                    "500-999/0.0",
                    "5000-9999/0.0",
                    "<10/0.0",
                    "not available/0.0",
                    "10-49/1.0",
                    "100-500/1.0",
                    "1000-4999/1.0",
                    "10000+/1.0",
                    "50-99/1.0",
                    "500-999/1.0",
                    "5000-9999/1.0",
                    "<10/1.0",
                    "not available/1.0",
                    "10-49",
                    "100-500",
                    "1000-4999",
                    "10000+",
                    "50-99",
                    "500-999",
                    "5000-9999",
                    "<10",
                    "not available"
                  ],
                  "labels": [
                    "0.0",
                    "0.0",
                    "0.0",
                    "0.0",
                    "0.0",
                    "0.0",
                    "0.0",
                    "0.0",
                    "0.0",
                    "1.0",
                    "1.0",
                    "1.0",
                    "1.0",
                    "1.0",
                    "1.0",
                    "1.0",
                    "1.0",
                    "1.0",
                    "10-49",
                    "100-500",
                    "1000-4999",
                    "10000+",
                    "50-99",
                    "500-999",
                    "5000-9999",
                    "<10",
                    "not available"
                  ],
                  "marker": {
                    "coloraxis": "coloraxis",
                    "colors": [
                      0,
                      0,
                      0,
                      0,
                      0,
                      0,
                      0,
                      0,
                      0,
                      1,
                      1,
                      1,
                      1,
                      1,
                      1,
                      1,
                      1,
                      1,
                      0.22827586206896552,
                      0.17408613825551936,
                      0.14763014763014762,
                      0.28830369357045144,
                      0.236385639370714,
                      0.17001180637544275,
                      0.17896678966789667,
                      0.16839584996009577,
                      0.47292598112270245
                    ]
                  },
                  "name": "",
                  "parents": [
                    "10-49",
                    "100-500",
                    "1000-4999",
                    "10000+",
                    "50-99",
                    "500-999",
                    "5000-9999",
                    "<10",
                    "not available",
                    "10-49",
                    "100-500",
                    "1000-4999",
                    "10000+",
                    "50-99",
                    "500-999",
                    "5000-9999",
                    "<10",
                    "not available",
                    "",
                    "",
                    "",
                    "",
                    "",
                    "",
                    "",
                    "",
                    ""
                  ],
                  "type": "sunburst",
                  "values": [
                    1119,
                    2282,
                    1097,
                    2081,
                    3786,
                    703,
                    445,
                    1042,
                    1061,
                    331,
                    481,
                    190,
                    843,
                    1172,
                    144,
                    97,
                    211,
                    952,
                    1450,
                    2763,
                    1287,
                    2924,
                    4958,
                    847,
                    542,
                    1253,
                    2013
                  ]
                }
              ],
              "layout": {
                "coloraxis": {
                  "colorbar": {
                    "title": {
                      "text": "target"
                    }
                  },
                  "colorscale": [
                    [
                      0,
                      "#0d0887"
                    ],
                    [
                      0.1111111111111111,
                      "#46039f"
                    ],
                    [
                      0.2222222222222222,
                      "#7201a8"
                    ],
                    [
                      0.3333333333333333,
                      "#9c179e"
                    ],
                    [
                      0.4444444444444444,
                      "#bd3786"
                    ],
                    [
                      0.5555555555555556,
                      "#d8576b"
                    ],
                    [
                      0.6666666666666666,
                      "#ed7953"
                    ],
                    [
                      0.7777777777777778,
                      "#fb9f3a"
                    ],
                    [
                      0.8888888888888888,
                      "#fdca26"
                    ],
                    [
                      1,
                      "#f0f921"
                    ]
                  ]
                },
                "legend": {
                  "tracegroupgap": 0
                },
                "margin": {
                  "t": 60
                },
                "template": {
                  "data": {
                    "bar": [
                      {
                        "error_x": {
                          "color": "#2a3f5f"
                        },
                        "error_y": {
                          "color": "#2a3f5f"
                        },
                        "marker": {
                          "line": {
                            "color": "#E5ECF6",
                            "width": 0.5
                          }
                        },
                        "type": "bar"
                      }
                    ],
                    "barpolar": [
                      {
                        "marker": {
                          "line": {
                            "color": "#E5ECF6",
                            "width": 0.5
                          }
                        },
                        "type": "barpolar"
                      }
                    ],
                    "carpet": [
                      {
                        "aaxis": {
                          "endlinecolor": "#2a3f5f",
                          "gridcolor": "white",
                          "linecolor": "white",
                          "minorgridcolor": "white",
                          "startlinecolor": "#2a3f5f"
                        },
                        "baxis": {
                          "endlinecolor": "#2a3f5f",
                          "gridcolor": "white",
                          "linecolor": "white",
                          "minorgridcolor": "white",
                          "startlinecolor": "#2a3f5f"
                        },
                        "type": "carpet"
                      }
                    ],
                    "choropleth": [
                      {
                        "colorbar": {
                          "outlinewidth": 0,
                          "ticks": ""
                        },
                        "type": "choropleth"
                      }
                    ],
                    "contour": [
                      {
                        "colorbar": {
                          "outlinewidth": 0,
                          "ticks": ""
                        },
                        "colorscale": [
                          [
                            0,
                            "#0d0887"
                          ],
                          [
                            0.1111111111111111,
                            "#46039f"
                          ],
                          [
                            0.2222222222222222,
                            "#7201a8"
                          ],
                          [
                            0.3333333333333333,
                            "#9c179e"
                          ],
                          [
                            0.4444444444444444,
                            "#bd3786"
                          ],
                          [
                            0.5555555555555556,
                            "#d8576b"
                          ],
                          [
                            0.6666666666666666,
                            "#ed7953"
                          ],
                          [
                            0.7777777777777778,
                            "#fb9f3a"
                          ],
                          [
                            0.8888888888888888,
                            "#fdca26"
                          ],
                          [
                            1,
                            "#f0f921"
                          ]
                        ],
                        "type": "contour"
                      }
                    ],
                    "contourcarpet": [
                      {
                        "colorbar": {
                          "outlinewidth": 0,
                          "ticks": ""
                        },
                        "type": "contourcarpet"
                      }
                    ],
                    "heatmap": [
                      {
                        "colorbar": {
                          "outlinewidth": 0,
                          "ticks": ""
                        },
                        "colorscale": [
                          [
                            0,
                            "#0d0887"
                          ],
                          [
                            0.1111111111111111,
                            "#46039f"
                          ],
                          [
                            0.2222222222222222,
                            "#7201a8"
                          ],
                          [
                            0.3333333333333333,
                            "#9c179e"
                          ],
                          [
                            0.4444444444444444,
                            "#bd3786"
                          ],
                          [
                            0.5555555555555556,
                            "#d8576b"
                          ],
                          [
                            0.6666666666666666,
                            "#ed7953"
                          ],
                          [
                            0.7777777777777778,
                            "#fb9f3a"
                          ],
                          [
                            0.8888888888888888,
                            "#fdca26"
                          ],
                          [
                            1,
                            "#f0f921"
                          ]
                        ],
                        "type": "heatmap"
                      }
                    ],
                    "heatmapgl": [
                      {
                        "colorbar": {
                          "outlinewidth": 0,
                          "ticks": ""
                        },
                        "colorscale": [
                          [
                            0,
                            "#0d0887"
                          ],
                          [
                            0.1111111111111111,
                            "#46039f"
                          ],
                          [
                            0.2222222222222222,
                            "#7201a8"
                          ],
                          [
                            0.3333333333333333,
                            "#9c179e"
                          ],
                          [
                            0.4444444444444444,
                            "#bd3786"
                          ],
                          [
                            0.5555555555555556,
                            "#d8576b"
                          ],
                          [
                            0.6666666666666666,
                            "#ed7953"
                          ],
                          [
                            0.7777777777777778,
                            "#fb9f3a"
                          ],
                          [
                            0.8888888888888888,
                            "#fdca26"
                          ],
                          [
                            1,
                            "#f0f921"
                          ]
                        ],
                        "type": "heatmapgl"
                      }
                    ],
                    "histogram": [
                      {
                        "marker": {
                          "colorbar": {
                            "outlinewidth": 0,
                            "ticks": ""
                          }
                        },
                        "type": "histogram"
                      }
                    ],
                    "histogram2d": [
                      {
                        "colorbar": {
                          "outlinewidth": 0,
                          "ticks": ""
                        },
                        "colorscale": [
                          [
                            0,
                            "#0d0887"
                          ],
                          [
                            0.1111111111111111,
                            "#46039f"
                          ],
                          [
                            0.2222222222222222,
                            "#7201a8"
                          ],
                          [
                            0.3333333333333333,
                            "#9c179e"
                          ],
                          [
                            0.4444444444444444,
                            "#bd3786"
                          ],
                          [
                            0.5555555555555556,
                            "#d8576b"
                          ],
                          [
                            0.6666666666666666,
                            "#ed7953"
                          ],
                          [
                            0.7777777777777778,
                            "#fb9f3a"
                          ],
                          [
                            0.8888888888888888,
                            "#fdca26"
                          ],
                          [
                            1,
                            "#f0f921"
                          ]
                        ],
                        "type": "histogram2d"
                      }
                    ],
                    "histogram2dcontour": [
                      {
                        "colorbar": {
                          "outlinewidth": 0,
                          "ticks": ""
                        },
                        "colorscale": [
                          [
                            0,
                            "#0d0887"
                          ],
                          [
                            0.1111111111111111,
                            "#46039f"
                          ],
                          [
                            0.2222222222222222,
                            "#7201a8"
                          ],
                          [
                            0.3333333333333333,
                            "#9c179e"
                          ],
                          [
                            0.4444444444444444,
                            "#bd3786"
                          ],
                          [
                            0.5555555555555556,
                            "#d8576b"
                          ],
                          [
                            0.6666666666666666,
                            "#ed7953"
                          ],
                          [
                            0.7777777777777778,
                            "#fb9f3a"
                          ],
                          [
                            0.8888888888888888,
                            "#fdca26"
                          ],
                          [
                            1,
                            "#f0f921"
                          ]
                        ],
                        "type": "histogram2dcontour"
                      }
                    ],
                    "mesh3d": [
                      {
                        "colorbar": {
                          "outlinewidth": 0,
                          "ticks": ""
                        },
                        "type": "mesh3d"
                      }
                    ],
                    "parcoords": [
                      {
                        "line": {
                          "colorbar": {
                            "outlinewidth": 0,
                            "ticks": ""
                          }
                        },
                        "type": "parcoords"
                      }
                    ],
                    "pie": [
                      {
                        "automargin": true,
                        "type": "pie"
                      }
                    ],
                    "scatter": [
                      {
                        "marker": {
                          "colorbar": {
                            "outlinewidth": 0,
                            "ticks": ""
                          }
                        },
                        "type": "scatter"
                      }
                    ],
                    "scatter3d": [
                      {
                        "line": {
                          "colorbar": {
                            "outlinewidth": 0,
                            "ticks": ""
                          }
                        },
                        "marker": {
                          "colorbar": {
                            "outlinewidth": 0,
                            "ticks": ""
                          }
                        },
                        "type": "scatter3d"
                      }
                    ],
                    "scattercarpet": [
                      {
                        "marker": {
                          "colorbar": {
                            "outlinewidth": 0,
                            "ticks": ""
                          }
                        },
                        "type": "scattercarpet"
                      }
                    ],
                    "scattergeo": [
                      {
                        "marker": {
                          "colorbar": {
                            "outlinewidth": 0,
                            "ticks": ""
                          }
                        },
                        "type": "scattergeo"
                      }
                    ],
                    "scattergl": [
                      {
                        "marker": {
                          "colorbar": {
                            "outlinewidth": 0,
                            "ticks": ""
                          }
                        },
                        "type": "scattergl"
                      }
                    ],
                    "scattermapbox": [
                      {
                        "marker": {
                          "colorbar": {
                            "outlinewidth": 0,
                            "ticks": ""
                          }
                        },
                        "type": "scattermapbox"
                      }
                    ],
                    "scatterpolar": [
                      {
                        "marker": {
                          "colorbar": {
                            "outlinewidth": 0,
                            "ticks": ""
                          }
                        },
                        "type": "scatterpolar"
                      }
                    ],
                    "scatterpolargl": [
                      {
                        "marker": {
                          "colorbar": {
                            "outlinewidth": 0,
                            "ticks": ""
                          }
                        },
                        "type": "scatterpolargl"
                      }
                    ],
                    "scatterternary": [
                      {
                        "marker": {
                          "colorbar": {
                            "outlinewidth": 0,
                            "ticks": ""
                          }
                        },
                        "type": "scatterternary"
                      }
                    ],
                    "surface": [
                      {
                        "colorbar": {
                          "outlinewidth": 0,
                          "ticks": ""
                        },
                        "colorscale": [
                          [
                            0,
                            "#0d0887"
                          ],
                          [
                            0.1111111111111111,
                            "#46039f"
                          ],
                          [
                            0.2222222222222222,
                            "#7201a8"
                          ],
                          [
                            0.3333333333333333,
                            "#9c179e"
                          ],
                          [
                            0.4444444444444444,
                            "#bd3786"
                          ],
                          [
                            0.5555555555555556,
                            "#d8576b"
                          ],
                          [
                            0.6666666666666666,
                            "#ed7953"
                          ],
                          [
                            0.7777777777777778,
                            "#fb9f3a"
                          ],
                          [
                            0.8888888888888888,
                            "#fdca26"
                          ],
                          [
                            1,
                            "#f0f921"
                          ]
                        ],
                        "type": "surface"
                      }
                    ],
                    "table": [
                      {
                        "cells": {
                          "fill": {
                            "color": "#EBF0F8"
                          },
                          "line": {
                            "color": "white"
                          }
                        },
                        "header": {
                          "fill": {
                            "color": "#C8D4E3"
                          },
                          "line": {
                            "color": "white"
                          }
                        },
                        "type": "table"
                      }
                    ]
                  },
                  "layout": {
                    "annotationdefaults": {
                      "arrowcolor": "#2a3f5f",
                      "arrowhead": 0,
                      "arrowwidth": 1
                    },
                    "autotypenumbers": "strict",
                    "coloraxis": {
                      "colorbar": {
                        "outlinewidth": 0,
                        "ticks": ""
                      }
                    },
                    "colorscale": {
                      "diverging": [
                        [
                          0,
                          "#8e0152"
                        ],
                        [
                          0.1,
                          "#c51b7d"
                        ],
                        [
                          0.2,
                          "#de77ae"
                        ],
                        [
                          0.3,
                          "#f1b6da"
                        ],
                        [
                          0.4,
                          "#fde0ef"
                        ],
                        [
                          0.5,
                          "#f7f7f7"
                        ],
                        [
                          0.6,
                          "#e6f5d0"
                        ],
                        [
                          0.7,
                          "#b8e186"
                        ],
                        [
                          0.8,
                          "#7fbc41"
                        ],
                        [
                          0.9,
                          "#4d9221"
                        ],
                        [
                          1,
                          "#276419"
                        ]
                      ],
                      "sequential": [
                        [
                          0,
                          "#0d0887"
                        ],
                        [
                          0.1111111111111111,
                          "#46039f"
                        ],
                        [
                          0.2222222222222222,
                          "#7201a8"
                        ],
                        [
                          0.3333333333333333,
                          "#9c179e"
                        ],
                        [
                          0.4444444444444444,
                          "#bd3786"
                        ],
                        [
                          0.5555555555555556,
                          "#d8576b"
                        ],
                        [
                          0.6666666666666666,
                          "#ed7953"
                        ],
                        [
                          0.7777777777777778,
                          "#fb9f3a"
                        ],
                        [
                          0.8888888888888888,
                          "#fdca26"
                        ],
                        [
                          1,
                          "#f0f921"
                        ]
                      ],
                      "sequentialminus": [
                        [
                          0,
                          "#0d0887"
                        ],
                        [
                          0.1111111111111111,
                          "#46039f"
                        ],
                        [
                          0.2222222222222222,
                          "#7201a8"
                        ],
                        [
                          0.3333333333333333,
                          "#9c179e"
                        ],
                        [
                          0.4444444444444444,
                          "#bd3786"
                        ],
                        [
                          0.5555555555555556,
                          "#d8576b"
                        ],
                        [
                          0.6666666666666666,
                          "#ed7953"
                        ],
                        [
                          0.7777777777777778,
                          "#fb9f3a"
                        ],
                        [
                          0.8888888888888888,
                          "#fdca26"
                        ],
                        [
                          1,
                          "#f0f921"
                        ]
                      ]
                    },
                    "colorway": [
                      "#636efa",
                      "#EF553B",
                      "#00cc96",
                      "#ab63fa",
                      "#FFA15A",
                      "#19d3f3",
                      "#FF6692",
                      "#B6E880",
                      "#FF97FF",
                      "#FECB52"
                    ],
                    "font": {
                      "color": "#2a3f5f"
                    },
                    "geo": {
                      "bgcolor": "white",
                      "lakecolor": "white",
                      "landcolor": "#E5ECF6",
                      "showlakes": true,
                      "showland": true,
                      "subunitcolor": "white"
                    },
                    "hoverlabel": {
                      "align": "left"
                    },
                    "hovermode": "closest",
                    "mapbox": {
                      "style": "light"
                    },
                    "paper_bgcolor": "white",
                    "plot_bgcolor": "#E5ECF6",
                    "polar": {
                      "angularaxis": {
                        "gridcolor": "white",
                        "linecolor": "white",
                        "ticks": ""
                      },
                      "bgcolor": "#E5ECF6",
                      "radialaxis": {
                        "gridcolor": "white",
                        "linecolor": "white",
                        "ticks": ""
                      }
                    },
                    "scene": {
                      "xaxis": {
                        "backgroundcolor": "#E5ECF6",
                        "gridcolor": "white",
                        "gridwidth": 2,
                        "linecolor": "white",
                        "showbackground": true,
                        "ticks": "",
                        "zerolinecolor": "white"
                      },
                      "yaxis": {
                        "backgroundcolor": "#E5ECF6",
                        "gridcolor": "white",
                        "gridwidth": 2,
                        "linecolor": "white",
                        "showbackground": true,
                        "ticks": "",
                        "zerolinecolor": "white"
                      },
                      "zaxis": {
                        "backgroundcolor": "#E5ECF6",
                        "gridcolor": "white",
                        "gridwidth": 2,
                        "linecolor": "white",
                        "showbackground": true,
                        "ticks": "",
                        "zerolinecolor": "white"
                      }
                    },
                    "shapedefaults": {
                      "line": {
                        "color": "#2a3f5f"
                      }
                    },
                    "ternary": {
                      "aaxis": {
                        "gridcolor": "white",
                        "linecolor": "white",
                        "ticks": ""
                      },
                      "baxis": {
                        "gridcolor": "white",
                        "linecolor": "white",
                        "ticks": ""
                      },
                      "bgcolor": "#E5ECF6",
                      "caxis": {
                        "gridcolor": "white",
                        "linecolor": "white",
                        "ticks": ""
                      }
                    },
                    "title": {
                      "x": 0.05
                    },
                    "xaxis": {
                      "automargin": true,
                      "gridcolor": "white",
                      "linecolor": "white",
                      "ticks": "",
                      "title": {
                        "standoff": 15
                      },
                      "zerolinecolor": "white",
                      "zerolinewidth": 2
                    },
                    "yaxis": {
                      "automargin": true,
                      "gridcolor": "white",
                      "linecolor": "white",
                      "ticks": "",
                      "title": {
                        "standoff": 15
                      },
                      "zerolinecolor": "white",
                      "zerolinewidth": 2
                    }
                  }
                }
              }
            }
          },
          "metadata": {},
          "output_type": "display_data"
        },
        {
          "data": {
            "application/vnd.plotly.v1+json": {
              "config": {
                "plotlyServerURL": "https://plot.ly"
              },
              "data": [
                {
                  "branchvalues": "total",
                  "customdata": [
                    [
                      0
                    ],
                    [
                      0
                    ],
                    [
                      0
                    ],
                    [
                      0
                    ],
                    [
                      0
                    ],
                    [
                      0
                    ],
                    [
                      0
                    ],
                    [
                      1
                    ],
                    [
                      1
                    ],
                    [
                      1
                    ],
                    [
                      1
                    ],
                    [
                      1
                    ],
                    [
                      1
                    ],
                    [
                      1
                    ],
                    [
                      0.2206405693950178
                    ],
                    [
                      0.1413934426229508
                    ],
                    [
                      0.176
                    ],
                    [
                      0.23684210526315788
                    ],
                    [
                      0.2138157894736842
                    ],
                    [
                      0.224111401754116
                    ],
                    [
                      0.4739240506329114
                    ]
                  ],
                  "domain": {
                    "x": [
                      0,
                      1
                    ],
                    "y": [
                      0,
                      1
                    ]
                  },
                  "hovertemplate": "labels=%{label}<br>count=%{value}<br>parent=%{parent}<br>id=%{id}<br>target=%{color}<extra></extra>",
                  "ids": [
                    "Early Stage Startup/0.0",
                    "Funded Startup/0.0",
                    "NGO/0.0",
                    "Other/0.0",
                    "Public Sector/0.0",
                    "Pvt Ltd/0.0",
                    "not available/0.0",
                    "Early Stage Startup/1.0",
                    "Funded Startup/1.0",
                    "NGO/1.0",
                    "Other/1.0",
                    "Public Sector/1.0",
                    "Pvt Ltd/1.0",
                    "not available/1.0",
                    "Early Stage Startup",
                    "Funded Startup",
                    "NGO",
                    "Other",
                    "Public Sector",
                    "Pvt Ltd",
                    "not available"
                  ],
                  "labels": [
                    "0.0",
                    "0.0",
                    "0.0",
                    "0.0",
                    "0.0",
                    "0.0",
                    "0.0",
                    "1.0",
                    "1.0",
                    "1.0",
                    "1.0",
                    "1.0",
                    "1.0",
                    "1.0",
                    "Early Stage Startup",
                    "Funded Startup",
                    "NGO",
                    "Other",
                    "Public Sector",
                    "Pvt Ltd",
                    "not available"
                  ],
                  "marker": {
                    "coloraxis": "coloraxis",
                    "colors": [
                      0,
                      0,
                      0,
                      0,
                      0,
                      0,
                      0,
                      1,
                      1,
                      1,
                      1,
                      1,
                      1,
                      1,
                      0.2206405693950178,
                      0.1413934426229508,
                      0.176,
                      0.23684210526315788,
                      0.2138157894736842,
                      0.224111401754116,
                      0.4739240506329114
                    ]
                  },
                  "name": "",
                  "parents": [
                    "Early Stage Startup",
                    "Funded Startup",
                    "NGO",
                    "Other",
                    "Public Sector",
                    "Pvt Ltd",
                    "not available",
                    "Early Stage Startup",
                    "Funded Startup",
                    "NGO",
                    "Other",
                    "Public Sector",
                    "Pvt Ltd",
                    "not available",
                    "",
                    "",
                    "",
                    "",
                    "",
                    "",
                    ""
                  ],
                  "type": "sunburst",
                  "values": [
                    438,
                    838,
                    412,
                    87,
                    717,
                    10085,
                    1039,
                    124,
                    138,
                    88,
                    27,
                    195,
                    2913,
                    936,
                    562,
                    976,
                    500,
                    114,
                    912,
                    12998,
                    1975
                  ]
                }
              ],
              "layout": {
                "coloraxis": {
                  "colorbar": {
                    "title": {
                      "text": "target"
                    }
                  },
                  "colorscale": [
                    [
                      0,
                      "#0d0887"
                    ],
                    [
                      0.1111111111111111,
                      "#46039f"
                    ],
                    [
                      0.2222222222222222,
                      "#7201a8"
                    ],
                    [
                      0.3333333333333333,
                      "#9c179e"
                    ],
                    [
                      0.4444444444444444,
                      "#bd3786"
                    ],
                    [
                      0.5555555555555556,
                      "#d8576b"
                    ],
                    [
                      0.6666666666666666,
                      "#ed7953"
                    ],
                    [
                      0.7777777777777778,
                      "#fb9f3a"
                    ],
                    [
                      0.8888888888888888,
                      "#fdca26"
                    ],
                    [
                      1,
                      "#f0f921"
                    ]
                  ]
                },
                "legend": {
                  "tracegroupgap": 0
                },
                "margin": {
                  "t": 60
                },
                "template": {
                  "data": {
                    "bar": [
                      {
                        "error_x": {
                          "color": "#2a3f5f"
                        },
                        "error_y": {
                          "color": "#2a3f5f"
                        },
                        "marker": {
                          "line": {
                            "color": "#E5ECF6",
                            "width": 0.5
                          }
                        },
                        "type": "bar"
                      }
                    ],
                    "barpolar": [
                      {
                        "marker": {
                          "line": {
                            "color": "#E5ECF6",
                            "width": 0.5
                          }
                        },
                        "type": "barpolar"
                      }
                    ],
                    "carpet": [
                      {
                        "aaxis": {
                          "endlinecolor": "#2a3f5f",
                          "gridcolor": "white",
                          "linecolor": "white",
                          "minorgridcolor": "white",
                          "startlinecolor": "#2a3f5f"
                        },
                        "baxis": {
                          "endlinecolor": "#2a3f5f",
                          "gridcolor": "white",
                          "linecolor": "white",
                          "minorgridcolor": "white",
                          "startlinecolor": "#2a3f5f"
                        },
                        "type": "carpet"
                      }
                    ],
                    "choropleth": [
                      {
                        "colorbar": {
                          "outlinewidth": 0,
                          "ticks": ""
                        },
                        "type": "choropleth"
                      }
                    ],
                    "contour": [
                      {
                        "colorbar": {
                          "outlinewidth": 0,
                          "ticks": ""
                        },
                        "colorscale": [
                          [
                            0,
                            "#0d0887"
                          ],
                          [
                            0.1111111111111111,
                            "#46039f"
                          ],
                          [
                            0.2222222222222222,
                            "#7201a8"
                          ],
                          [
                            0.3333333333333333,
                            "#9c179e"
                          ],
                          [
                            0.4444444444444444,
                            "#bd3786"
                          ],
                          [
                            0.5555555555555556,
                            "#d8576b"
                          ],
                          [
                            0.6666666666666666,
                            "#ed7953"
                          ],
                          [
                            0.7777777777777778,
                            "#fb9f3a"
                          ],
                          [
                            0.8888888888888888,
                            "#fdca26"
                          ],
                          [
                            1,
                            "#f0f921"
                          ]
                        ],
                        "type": "contour"
                      }
                    ],
                    "contourcarpet": [
                      {
                        "colorbar": {
                          "outlinewidth": 0,
                          "ticks": ""
                        },
                        "type": "contourcarpet"
                      }
                    ],
                    "heatmap": [
                      {
                        "colorbar": {
                          "outlinewidth": 0,
                          "ticks": ""
                        },
                        "colorscale": [
                          [
                            0,
                            "#0d0887"
                          ],
                          [
                            0.1111111111111111,
                            "#46039f"
                          ],
                          [
                            0.2222222222222222,
                            "#7201a8"
                          ],
                          [
                            0.3333333333333333,
                            "#9c179e"
                          ],
                          [
                            0.4444444444444444,
                            "#bd3786"
                          ],
                          [
                            0.5555555555555556,
                            "#d8576b"
                          ],
                          [
                            0.6666666666666666,
                            "#ed7953"
                          ],
                          [
                            0.7777777777777778,
                            "#fb9f3a"
                          ],
                          [
                            0.8888888888888888,
                            "#fdca26"
                          ],
                          [
                            1,
                            "#f0f921"
                          ]
                        ],
                        "type": "heatmap"
                      }
                    ],
                    "heatmapgl": [
                      {
                        "colorbar": {
                          "outlinewidth": 0,
                          "ticks": ""
                        },
                        "colorscale": [
                          [
                            0,
                            "#0d0887"
                          ],
                          [
                            0.1111111111111111,
                            "#46039f"
                          ],
                          [
                            0.2222222222222222,
                            "#7201a8"
                          ],
                          [
                            0.3333333333333333,
                            "#9c179e"
                          ],
                          [
                            0.4444444444444444,
                            "#bd3786"
                          ],
                          [
                            0.5555555555555556,
                            "#d8576b"
                          ],
                          [
                            0.6666666666666666,
                            "#ed7953"
                          ],
                          [
                            0.7777777777777778,
                            "#fb9f3a"
                          ],
                          [
                            0.8888888888888888,
                            "#fdca26"
                          ],
                          [
                            1,
                            "#f0f921"
                          ]
                        ],
                        "type": "heatmapgl"
                      }
                    ],
                    "histogram": [
                      {
                        "marker": {
                          "colorbar": {
                            "outlinewidth": 0,
                            "ticks": ""
                          }
                        },
                        "type": "histogram"
                      }
                    ],
                    "histogram2d": [
                      {
                        "colorbar": {
                          "outlinewidth": 0,
                          "ticks": ""
                        },
                        "colorscale": [
                          [
                            0,
                            "#0d0887"
                          ],
                          [
                            0.1111111111111111,
                            "#46039f"
                          ],
                          [
                            0.2222222222222222,
                            "#7201a8"
                          ],
                          [
                            0.3333333333333333,
                            "#9c179e"
                          ],
                          [
                            0.4444444444444444,
                            "#bd3786"
                          ],
                          [
                            0.5555555555555556,
                            "#d8576b"
                          ],
                          [
                            0.6666666666666666,
                            "#ed7953"
                          ],
                          [
                            0.7777777777777778,
                            "#fb9f3a"
                          ],
                          [
                            0.8888888888888888,
                            "#fdca26"
                          ],
                          [
                            1,
                            "#f0f921"
                          ]
                        ],
                        "type": "histogram2d"
                      }
                    ],
                    "histogram2dcontour": [
                      {
                        "colorbar": {
                          "outlinewidth": 0,
                          "ticks": ""
                        },
                        "colorscale": [
                          [
                            0,
                            "#0d0887"
                          ],
                          [
                            0.1111111111111111,
                            "#46039f"
                          ],
                          [
                            0.2222222222222222,
                            "#7201a8"
                          ],
                          [
                            0.3333333333333333,
                            "#9c179e"
                          ],
                          [
                            0.4444444444444444,
                            "#bd3786"
                          ],
                          [
                            0.5555555555555556,
                            "#d8576b"
                          ],
                          [
                            0.6666666666666666,
                            "#ed7953"
                          ],
                          [
                            0.7777777777777778,
                            "#fb9f3a"
                          ],
                          [
                            0.8888888888888888,
                            "#fdca26"
                          ],
                          [
                            1,
                            "#f0f921"
                          ]
                        ],
                        "type": "histogram2dcontour"
                      }
                    ],
                    "mesh3d": [
                      {
                        "colorbar": {
                          "outlinewidth": 0,
                          "ticks": ""
                        },
                        "type": "mesh3d"
                      }
                    ],
                    "parcoords": [
                      {
                        "line": {
                          "colorbar": {
                            "outlinewidth": 0,
                            "ticks": ""
                          }
                        },
                        "type": "parcoords"
                      }
                    ],
                    "pie": [
                      {
                        "automargin": true,
                        "type": "pie"
                      }
                    ],
                    "scatter": [
                      {
                        "marker": {
                          "colorbar": {
                            "outlinewidth": 0,
                            "ticks": ""
                          }
                        },
                        "type": "scatter"
                      }
                    ],
                    "scatter3d": [
                      {
                        "line": {
                          "colorbar": {
                            "outlinewidth": 0,
                            "ticks": ""
                          }
                        },
                        "marker": {
                          "colorbar": {
                            "outlinewidth": 0,
                            "ticks": ""
                          }
                        },
                        "type": "scatter3d"
                      }
                    ],
                    "scattercarpet": [
                      {
                        "marker": {
                          "colorbar": {
                            "outlinewidth": 0,
                            "ticks": ""
                          }
                        },
                        "type": "scattercarpet"
                      }
                    ],
                    "scattergeo": [
                      {
                        "marker": {
                          "colorbar": {
                            "outlinewidth": 0,
                            "ticks": ""
                          }
                        },
                        "type": "scattergeo"
                      }
                    ],
                    "scattergl": [
                      {
                        "marker": {
                          "colorbar": {
                            "outlinewidth": 0,
                            "ticks": ""
                          }
                        },
                        "type": "scattergl"
                      }
                    ],
                    "scattermapbox": [
                      {
                        "marker": {
                          "colorbar": {
                            "outlinewidth": 0,
                            "ticks": ""
                          }
                        },
                        "type": "scattermapbox"
                      }
                    ],
                    "scatterpolar": [
                      {
                        "marker": {
                          "colorbar": {
                            "outlinewidth": 0,
                            "ticks": ""
                          }
                        },
                        "type": "scatterpolar"
                      }
                    ],
                    "scatterpolargl": [
                      {
                        "marker": {
                          "colorbar": {
                            "outlinewidth": 0,
                            "ticks": ""
                          }
                        },
                        "type": "scatterpolargl"
                      }
                    ],
                    "scatterternary": [
                      {
                        "marker": {
                          "colorbar": {
                            "outlinewidth": 0,
                            "ticks": ""
                          }
                        },
                        "type": "scatterternary"
                      }
                    ],
                    "surface": [
                      {
                        "colorbar": {
                          "outlinewidth": 0,
                          "ticks": ""
                        },
                        "colorscale": [
                          [
                            0,
                            "#0d0887"
                          ],
                          [
                            0.1111111111111111,
                            "#46039f"
                          ],
                          [
                            0.2222222222222222,
                            "#7201a8"
                          ],
                          [
                            0.3333333333333333,
                            "#9c179e"
                          ],
                          [
                            0.4444444444444444,
                            "#bd3786"
                          ],
                          [
                            0.5555555555555556,
                            "#d8576b"
                          ],
                          [
                            0.6666666666666666,
                            "#ed7953"
                          ],
                          [
                            0.7777777777777778,
                            "#fb9f3a"
                          ],
                          [
                            0.8888888888888888,
                            "#fdca26"
                          ],
                          [
                            1,
                            "#f0f921"
                          ]
                        ],
                        "type": "surface"
                      }
                    ],
                    "table": [
                      {
                        "cells": {
                          "fill": {
                            "color": "#EBF0F8"
                          },
                          "line": {
                            "color": "white"
                          }
                        },
                        "header": {
                          "fill": {
                            "color": "#C8D4E3"
                          },
                          "line": {
                            "color": "white"
                          }
                        },
                        "type": "table"
                      }
                    ]
                  },
                  "layout": {
                    "annotationdefaults": {
                      "arrowcolor": "#2a3f5f",
                      "arrowhead": 0,
                      "arrowwidth": 1
                    },
                    "autotypenumbers": "strict",
                    "coloraxis": {
                      "colorbar": {
                        "outlinewidth": 0,
                        "ticks": ""
                      }
                    },
                    "colorscale": {
                      "diverging": [
                        [
                          0,
                          "#8e0152"
                        ],
                        [
                          0.1,
                          "#c51b7d"
                        ],
                        [
                          0.2,
                          "#de77ae"
                        ],
                        [
                          0.3,
                          "#f1b6da"
                        ],
                        [
                          0.4,
                          "#fde0ef"
                        ],
                        [
                          0.5,
                          "#f7f7f7"
                        ],
                        [
                          0.6,
                          "#e6f5d0"
                        ],
                        [
                          0.7,
                          "#b8e186"
                        ],
                        [
                          0.8,
                          "#7fbc41"
                        ],
                        [
                          0.9,
                          "#4d9221"
                        ],
                        [
                          1,
                          "#276419"
                        ]
                      ],
                      "sequential": [
                        [
                          0,
                          "#0d0887"
                        ],
                        [
                          0.1111111111111111,
                          "#46039f"
                        ],
                        [
                          0.2222222222222222,
                          "#7201a8"
                        ],
                        [
                          0.3333333333333333,
                          "#9c179e"
                        ],
                        [
                          0.4444444444444444,
                          "#bd3786"
                        ],
                        [
                          0.5555555555555556,
                          "#d8576b"
                        ],
                        [
                          0.6666666666666666,
                          "#ed7953"
                        ],
                        [
                          0.7777777777777778,
                          "#fb9f3a"
                        ],
                        [
                          0.8888888888888888,
                          "#fdca26"
                        ],
                        [
                          1,
                          "#f0f921"
                        ]
                      ],
                      "sequentialminus": [
                        [
                          0,
                          "#0d0887"
                        ],
                        [
                          0.1111111111111111,
                          "#46039f"
                        ],
                        [
                          0.2222222222222222,
                          "#7201a8"
                        ],
                        [
                          0.3333333333333333,
                          "#9c179e"
                        ],
                        [
                          0.4444444444444444,
                          "#bd3786"
                        ],
                        [
                          0.5555555555555556,
                          "#d8576b"
                        ],
                        [
                          0.6666666666666666,
                          "#ed7953"
                        ],
                        [
                          0.7777777777777778,
                          "#fb9f3a"
                        ],
                        [
                          0.8888888888888888,
                          "#fdca26"
                        ],
                        [
                          1,
                          "#f0f921"
                        ]
                      ]
                    },
                    "colorway": [
                      "#636efa",
                      "#EF553B",
                      "#00cc96",
                      "#ab63fa",
                      "#FFA15A",
                      "#19d3f3",
                      "#FF6692",
                      "#B6E880",
                      "#FF97FF",
                      "#FECB52"
                    ],
                    "font": {
                      "color": "#2a3f5f"
                    },
                    "geo": {
                      "bgcolor": "white",
                      "lakecolor": "white",
                      "landcolor": "#E5ECF6",
                      "showlakes": true,
                      "showland": true,
                      "subunitcolor": "white"
                    },
                    "hoverlabel": {
                      "align": "left"
                    },
                    "hovermode": "closest",
                    "mapbox": {
                      "style": "light"
                    },
                    "paper_bgcolor": "white",
                    "plot_bgcolor": "#E5ECF6",
                    "polar": {
                      "angularaxis": {
                        "gridcolor": "white",
                        "linecolor": "white",
                        "ticks": ""
                      },
                      "bgcolor": "#E5ECF6",
                      "radialaxis": {
                        "gridcolor": "white",
                        "linecolor": "white",
                        "ticks": ""
                      }
                    },
                    "scene": {
                      "xaxis": {
                        "backgroundcolor": "#E5ECF6",
                        "gridcolor": "white",
                        "gridwidth": 2,
                        "linecolor": "white",
                        "showbackground": true,
                        "ticks": "",
                        "zerolinecolor": "white"
                      },
                      "yaxis": {
                        "backgroundcolor": "#E5ECF6",
                        "gridcolor": "white",
                        "gridwidth": 2,
                        "linecolor": "white",
                        "showbackground": true,
                        "ticks": "",
                        "zerolinecolor": "white"
                      },
                      "zaxis": {
                        "backgroundcolor": "#E5ECF6",
                        "gridcolor": "white",
                        "gridwidth": 2,
                        "linecolor": "white",
                        "showbackground": true,
                        "ticks": "",
                        "zerolinecolor": "white"
                      }
                    },
                    "shapedefaults": {
                      "line": {
                        "color": "#2a3f5f"
                      }
                    },
                    "ternary": {
                      "aaxis": {
                        "gridcolor": "white",
                        "linecolor": "white",
                        "ticks": ""
                      },
                      "baxis": {
                        "gridcolor": "white",
                        "linecolor": "white",
                        "ticks": ""
                      },
                      "bgcolor": "#E5ECF6",
                      "caxis": {
                        "gridcolor": "white",
                        "linecolor": "white",
                        "ticks": ""
                      }
                    },
                    "title": {
                      "x": 0.05
                    },
                    "xaxis": {
                      "automargin": true,
                      "gridcolor": "white",
                      "linecolor": "white",
                      "ticks": "",
                      "title": {
                        "standoff": 15
                      },
                      "zerolinecolor": "white",
                      "zerolinewidth": 2
                    },
                    "yaxis": {
                      "automargin": true,
                      "gridcolor": "white",
                      "linecolor": "white",
                      "ticks": "",
                      "title": {
                        "standoff": 15
                      },
                      "zerolinecolor": "white",
                      "zerolinewidth": 2
                    }
                  }
                }
              }
            }
          },
          "metadata": {},
          "output_type": "display_data"
        }
      ],
      "source": [
        "for i in ['company_size', 'company_type']:\n",
        "    fig=px.sunburst(df,path=[i,'target'],color='target', title=f'Proporsi Target Berdasarkan {i}')\n",
        "    fig.show()"
      ]
    },
    {
      "cell_type": "markdown",
      "metadata": {
        "id": "RvzSPLVEc473"
      },
      "source": [
        "Kandidat dengan data 'company_size' dan 'company_type' not available secara proporsi paling berminat untuk pindah kerja. Kalau diingat, mereka merupakan kandidat yang sedang berkuliah full time, sehingga kemungkinan besar memang sedang tidak bekerja dan sedang mencari pekerjaan. Hasil ini sejalan dengan analisis sebelumnya yang menunjukkan bahwa kandidak yang sedang berkuliah adalah yang paling berminat pindah kerja.  \n",
        "\n",
        "Secara jumlah, kebanyakan kandidat berasal dari perusahaan dengan company_type(PVt Ltd), dan company_size kecil (50-500), diikuti oleh perusahaan berukuran besar (10.000+)"
      ]
    },
    {
      "cell_type": "markdown",
      "metadata": {
        "id": "67R6Z_fxc473"
      },
      "source": [
        "## Berdasarkan Gender\n",
        "Terakhir, mari kita analisis minat kandidat untuk pindah kerja berdasarkan gender. Apakah ada gender berpengaruh terhadap minat kandidat untuk pindah kerja?  \n",
        "\n",
        "Sebagai catatan, dalam melakukan analisa terkait gender, kita perlu berhati-hati agar kebijakan yang dihasilkan tidak diskriminatif."
      ]
    },
    {
      "cell_type": "code",
      "execution_count": null,
      "metadata": {
        "id": "TYN64Toec474",
        "outputId": "83ca9025-3e2f-4d88-b36c-5ee4113126ef"
      },
      "outputs": [
        {
          "data": {
            "image/png": "[encoded data removed]",
            "text/plain": [
              "<Figure size 864x288 with 1 Axes>"
            ]
          },
          "metadata": {
            "needs_background": "light"
          },
          "output_type": "display_data"
        }
      ],
      "source": [
        "ct=pd.crosstab(df['gender'],df['target'],normalize='index').sort_index()\n",
        "ct['total']=ct.sum(axis=1)\n",
        "plt.figure(figsize=(12,4))\n",
        "plt.bar(np.arange(df['gender'].nunique()),ct['total'])\n",
        "plt.bar(np.arange(df['gender'].nunique()),ct[1])\n",
        "plt.xlabel('target')\n",
        "plt.ylabel(f'Proportion gender')\n",
        "plt.legend([0,1])\n",
        "plt.xticks(np.arange(len(ct.index.tolist())),ct.index.tolist())\n",
        "plt.title('gender')\n",
        "plt.show()"
      ]
    },
    {
      "cell_type": "code",
      "execution_count": null,
      "metadata": {
        "id": "vw9GMaK-c475",
        "outputId": "a1a5d269-5f9f-4387-a52a-cceeb2a6de77"
      },
      "outputs": [
        {
          "data": {
            "application/vnd.plotly.v1+json": {
              "config": {
                "plotlyServerURL": "https://plot.ly"
              },
              "data": [
                {
                  "branchvalues": "total",
                  "customdata": [
                    [
                      0
                    ],
                    [
                      0
                    ],
                    [
                      0
                    ],
                    [
                      1
                    ],
                    [
                      1
                    ],
                    [
                      1
                    ],
                    [
                      0.2591059602649007
                    ],
                    [
                      0.22707013840018767
                    ],
                    [
                      0.298019801980198
                    ]
                  ],
                  "domain": {
                    "x": [
                      0,
                      1
                    ],
                    "y": [
                      0,
                      1
                    ]
                  },
                  "hovertemplate": "labels=%{label}<br>count=%{value}<br>parent=%{parent}<br>id=%{id}<br>target=%{color}<extra></extra>",
                  "ids": [
                    "Female/0.0",
                    "Male/0.0",
                    "Other/0.0",
                    "Female/1.0",
                    "Male/1.0",
                    "Other/1.0",
                    "Female",
                    "Male",
                    "Other"
                  ],
                  "labels": [
                    "0.0",
                    "0.0",
                    "0.0",
                    "1.0",
                    "1.0",
                    "1.0",
                    "Female",
                    "Male",
                    "Other"
                  ],
                  "marker": {
                    "coloraxis": "coloraxis",
                    "colors": [
                      0,
                      0,
                      0,
                      1,
                      1,
                      1,
                      0.2591059602649007,
                      0.22707013840018767,
                      0.298019801980198
                    ]
                  },
                  "name": "",
                  "parents": [
                    "Female",
                    "Male",
                    "Other",
                    "Female",
                    "Male",
                    "Other",
                    "",
                    "",
                    ""
                  ],
                  "type": "sunburst",
                  "values": [
                    895,
                    9885,
                    2836,
                    313,
                    2904,
                    1204,
                    1208,
                    12789,
                    4040
                  ]
                }
              ],
              "layout": {
                "coloraxis": {
                  "colorbar": {
                    "title": {
                      "text": "target"
                    }
                  },
                  "colorscale": [
                    [
                      0,
                      "#0d0887"
                    ],
                    [
                      0.1111111111111111,
                      "#46039f"
                    ],
                    [
                      0.2222222222222222,
                      "#7201a8"
                    ],
                    [
                      0.3333333333333333,
                      "#9c179e"
                    ],
                    [
                      0.4444444444444444,
                      "#bd3786"
                    ],
                    [
                      0.5555555555555556,
                      "#d8576b"
                    ],
                    [
                      0.6666666666666666,
                      "#ed7953"
                    ],
                    [
                      0.7777777777777778,
                      "#fb9f3a"
                    ],
                    [
                      0.8888888888888888,
                      "#fdca26"
                    ],
                    [
                      1,
                      "#f0f921"
                    ]
                  ]
                },
                "legend": {
                  "tracegroupgap": 0
                },
                "margin": {
                  "t": 60
                },
                "template": {
                  "data": {
                    "bar": [
                      {
                        "error_x": {
                          "color": "#2a3f5f"
                        },
                        "error_y": {
                          "color": "#2a3f5f"
                        },
                        "marker": {
                          "line": {
                            "color": "#E5ECF6",
                            "width": 0.5
                          }
                        },
                        "type": "bar"
                      }
                    ],
                    "barpolar": [
                      {
                        "marker": {
                          "line": {
                            "color": "#E5ECF6",
                            "width": 0.5
                          }
                        },
                        "type": "barpolar"
                      }
                    ],
                    "carpet": [
                      {
                        "aaxis": {
                          "endlinecolor": "#2a3f5f",
                          "gridcolor": "white",
                          "linecolor": "white",
                          "minorgridcolor": "white",
                          "startlinecolor": "#2a3f5f"
                        },
                        "baxis": {
                          "endlinecolor": "#2a3f5f",
                          "gridcolor": "white",
                          "linecolor": "white",
                          "minorgridcolor": "white",
                          "startlinecolor": "#2a3f5f"
                        },
                        "type": "carpet"
                      }
                    ],
                    "choropleth": [
                      {
                        "colorbar": {
                          "outlinewidth": 0,
                          "ticks": ""
                        },
                        "type": "choropleth"
                      }
                    ],
                    "contour": [
                      {
                        "colorbar": {
                          "outlinewidth": 0,
                          "ticks": ""
                        },
                        "colorscale": [
                          [
                            0,
                            "#0d0887"
                          ],
                          [
                            0.1111111111111111,
                            "#46039f"
                          ],
                          [
                            0.2222222222222222,
                            "#7201a8"
                          ],
                          [
                            0.3333333333333333,
                            "#9c179e"
                          ],
                          [
                            0.4444444444444444,
                            "#bd3786"
                          ],
                          [
                            0.5555555555555556,
                            "#d8576b"
                          ],
                          [
                            0.6666666666666666,
                            "#ed7953"
                          ],
                          [
                            0.7777777777777778,
                            "#fb9f3a"
                          ],
                          [
                            0.8888888888888888,
                            "#fdca26"
                          ],
                          [
                            1,
                            "#f0f921"
                          ]
                        ],
                        "type": "contour"
                      }
                    ],
                    "contourcarpet": [
                      {
                        "colorbar": {
                          "outlinewidth": 0,
                          "ticks": ""
                        },
                        "type": "contourcarpet"
                      }
                    ],
                    "heatmap": [
                      {
                        "colorbar": {
                          "outlinewidth": 0,
                          "ticks": ""
                        },
                        "colorscale": [
                          [
                            0,
                            "#0d0887"
                          ],
                          [
                            0.1111111111111111,
                            "#46039f"
                          ],
                          [
                            0.2222222222222222,
                            "#7201a8"
                          ],
                          [
                            0.3333333333333333,
                            "#9c179e"
                          ],
                          [
                            0.4444444444444444,
                            "#bd3786"
                          ],
                          [
                            0.5555555555555556,
                            "#d8576b"
                          ],
                          [
                            0.6666666666666666,
                            "#ed7953"
                          ],
                          [
                            0.7777777777777778,
                            "#fb9f3a"
                          ],
                          [
                            0.8888888888888888,
                            "#fdca26"
                          ],
                          [
                            1,
                            "#f0f921"
                          ]
                        ],
                        "type": "heatmap"
                      }
                    ],
                    "heatmapgl": [
                      {
                        "colorbar": {
                          "outlinewidth": 0,
                          "ticks": ""
                        },
                        "colorscale": [
                          [
                            0,
                            "#0d0887"
                          ],
                          [
                            0.1111111111111111,
                            "#46039f"
                          ],
                          [
                            0.2222222222222222,
                            "#7201a8"
                          ],
                          [
                            0.3333333333333333,
                            "#9c179e"
                          ],
                          [
                            0.4444444444444444,
                            "#bd3786"
                          ],
                          [
                            0.5555555555555556,
                            "#d8576b"
                          ],
                          [
                            0.6666666666666666,
                            "#ed7953"
                          ],
                          [
                            0.7777777777777778,
                            "#fb9f3a"
                          ],
                          [
                            0.8888888888888888,
                            "#fdca26"
                          ],
                          [
                            1,
                            "#f0f921"
                          ]
                        ],
                        "type": "heatmapgl"
                      }
                    ],
                    "histogram": [
                      {
                        "marker": {
                          "colorbar": {
                            "outlinewidth": 0,
                            "ticks": ""
                          }
                        },
                        "type": "histogram"
                      }
                    ],
                    "histogram2d": [
                      {
                        "colorbar": {
                          "outlinewidth": 0,
                          "ticks": ""
                        },
                        "colorscale": [
                          [
                            0,
                            "#0d0887"
                          ],
                          [
                            0.1111111111111111,
                            "#46039f"
                          ],
                          [
                            0.2222222222222222,
                            "#7201a8"
                          ],
                          [
                            0.3333333333333333,
                            "#9c179e"
                          ],
                          [
                            0.4444444444444444,
                            "#bd3786"
                          ],
                          [
                            0.5555555555555556,
                            "#d8576b"
                          ],
                          [
                            0.6666666666666666,
                            "#ed7953"
                          ],
                          [
                            0.7777777777777778,
                            "#fb9f3a"
                          ],
                          [
                            0.8888888888888888,
                            "#fdca26"
                          ],
                          [
                            1,
                            "#f0f921"
                          ]
                        ],
                        "type": "histogram2d"
                      }
                    ],
                    "histogram2dcontour": [
                      {
                        "colorbar": {
                          "outlinewidth": 0,
                          "ticks": ""
                        },
                        "colorscale": [
                          [
                            0,
                            "#0d0887"
                          ],
                          [
                            0.1111111111111111,
                            "#46039f"
                          ],
                          [
                            0.2222222222222222,
                            "#7201a8"
                          ],
                          [
                            0.3333333333333333,
                            "#9c179e"
                          ],
                          [
                            0.4444444444444444,
                            "#bd3786"
                          ],
                          [
                            0.5555555555555556,
                            "#d8576b"
                          ],
                          [
                            0.6666666666666666,
                            "#ed7953"
                          ],
                          [
                            0.7777777777777778,
                            "#fb9f3a"
                          ],
                          [
                            0.8888888888888888,
                            "#fdca26"
                          ],
                          [
                            1,
                            "#f0f921"
                          ]
                        ],
                        "type": "histogram2dcontour"
                      }
                    ],
                    "mesh3d": [
                      {
                        "colorbar": {
                          "outlinewidth": 0,
                          "ticks": ""
                        },
                        "type": "mesh3d"
                      }
                    ],
                    "parcoords": [
                      {
                        "line": {
                          "colorbar": {
                            "outlinewidth": 0,
                            "ticks": ""
                          }
                        },
                        "type": "parcoords"
                      }
                    ],
                    "pie": [
                      {
                        "automargin": true,
                        "type": "pie"
                      }
                    ],
                    "scatter": [
                      {
                        "marker": {
                          "colorbar": {
                            "outlinewidth": 0,
                            "ticks": ""
                          }
                        },
                        "type": "scatter"
                      }
                    ],
                    "scatter3d": [
                      {
                        "line": {
                          "colorbar": {
                            "outlinewidth": 0,
                            "ticks": ""
                          }
                        },
                        "marker": {
                          "colorbar": {
                            "outlinewidth": 0,
                            "ticks": ""
                          }
                        },
                        "type": "scatter3d"
                      }
                    ],
                    "scattercarpet": [
                      {
                        "marker": {
                          "colorbar": {
                            "outlinewidth": 0,
                            "ticks": ""
                          }
                        },
                        "type": "scattercarpet"
                      }
                    ],
                    "scattergeo": [
                      {
                        "marker": {
                          "colorbar": {
                            "outlinewidth": 0,
                            "ticks": ""
                          }
                        },
                        "type": "scattergeo"
                      }
                    ],
                    "scattergl": [
                      {
                        "marker": {
                          "colorbar": {
                            "outlinewidth": 0,
                            "ticks": ""
                          }
                        },
                        "type": "scattergl"
                      }
                    ],
                    "scattermapbox": [
                      {
                        "marker": {
                          "colorbar": {
                            "outlinewidth": 0,
                            "ticks": ""
                          }
                        },
                        "type": "scattermapbox"
                      }
                    ],
                    "scatterpolar": [
                      {
                        "marker": {
                          "colorbar": {
                            "outlinewidth": 0,
                            "ticks": ""
                          }
                        },
                        "type": "scatterpolar"
                      }
                    ],
                    "scatterpolargl": [
                      {
                        "marker": {
                          "colorbar": {
                            "outlinewidth": 0,
                            "ticks": ""
                          }
                        },
                        "type": "scatterpolargl"
                      }
                    ],
                    "scatterternary": [
                      {
                        "marker": {
                          "colorbar": {
                            "outlinewidth": 0,
                            "ticks": ""
                          }
                        },
                        "type": "scatterternary"
                      }
                    ],
                    "surface": [
                      {
                        "colorbar": {
                          "outlinewidth": 0,
                          "ticks": ""
                        },
                        "colorscale": [
                          [
                            0,
                            "#0d0887"
                          ],
                          [
                            0.1111111111111111,
                            "#46039f"
                          ],
                          [
                            0.2222222222222222,
                            "#7201a8"
                          ],
                          [
                            0.3333333333333333,
                            "#9c179e"
                          ],
                          [
                            0.4444444444444444,
                            "#bd3786"
                          ],
                          [
                            0.5555555555555556,
                            "#d8576b"
                          ],
                          [
                            0.6666666666666666,
                            "#ed7953"
                          ],
                          [
                            0.7777777777777778,
                            "#fb9f3a"
                          ],
                          [
                            0.8888888888888888,
                            "#fdca26"
                          ],
                          [
                            1,
                            "#f0f921"
                          ]
                        ],
                        "type": "surface"
                      }
                    ],
                    "table": [
                      {
                        "cells": {
                          "fill": {
                            "color": "#EBF0F8"
                          },
                          "line": {
                            "color": "white"
                          }
                        },
                        "header": {
                          "fill": {
                            "color": "#C8D4E3"
                          },
                          "line": {
                            "color": "white"
                          }
                        },
                        "type": "table"
                      }
                    ]
                  },
                  "layout": {
                    "annotationdefaults": {
                      "arrowcolor": "#2a3f5f",
                      "arrowhead": 0,
                      "arrowwidth": 1
                    },
                    "autotypenumbers": "strict",
                    "coloraxis": {
                      "colorbar": {
                        "outlinewidth": 0,
                        "ticks": ""
                      }
                    },
                    "colorscale": {
                      "diverging": [
                        [
                          0,
                          "#8e0152"
                        ],
                        [
                          0.1,
                          "#c51b7d"
                        ],
                        [
                          0.2,
                          "#de77ae"
                        ],
                        [
                          0.3,
                          "#f1b6da"
                        ],
                        [
                          0.4,
                          "#fde0ef"
                        ],
                        [
                          0.5,
                          "#f7f7f7"
                        ],
                        [
                          0.6,
                          "#e6f5d0"
                        ],
                        [
                          0.7,
                          "#b8e186"
                        ],
                        [
                          0.8,
                          "#7fbc41"
                        ],
                        [
                          0.9,
                          "#4d9221"
                        ],
                        [
                          1,
                          "#276419"
                        ]
                      ],
                      "sequential": [
                        [
                          0,
                          "#0d0887"
                        ],
                        [
                          0.1111111111111111,
                          "#46039f"
                        ],
                        [
                          0.2222222222222222,
                          "#7201a8"
                        ],
                        [
                          0.3333333333333333,
                          "#9c179e"
                        ],
                        [
                          0.4444444444444444,
                          "#bd3786"
                        ],
                        [
                          0.5555555555555556,
                          "#d8576b"
                        ],
                        [
                          0.6666666666666666,
                          "#ed7953"
                        ],
                        [
                          0.7777777777777778,
                          "#fb9f3a"
                        ],
                        [
                          0.8888888888888888,
                          "#fdca26"
                        ],
                        [
                          1,
                          "#f0f921"
                        ]
                      ],
                      "sequentialminus": [
                        [
                          0,
                          "#0d0887"
                        ],
                        [
                          0.1111111111111111,
                          "#46039f"
                        ],
                        [
                          0.2222222222222222,
                          "#7201a8"
                        ],
                        [
                          0.3333333333333333,
                          "#9c179e"
                        ],
                        [
                          0.4444444444444444,
                          "#bd3786"
                        ],
                        [
                          0.5555555555555556,
                          "#d8576b"
                        ],
                        [
                          0.6666666666666666,
                          "#ed7953"
                        ],
                        [
                          0.7777777777777778,
                          "#fb9f3a"
                        ],
                        [
                          0.8888888888888888,
                          "#fdca26"
                        ],
                        [
                          1,
                          "#f0f921"
                        ]
                      ]
                    },
                    "colorway": [
                      "#636efa",
                      "#EF553B",
                      "#00cc96",
                      "#ab63fa",
                      "#FFA15A",
                      "#19d3f3",
                      "#FF6692",
                      "#B6E880",
                      "#FF97FF",
                      "#FECB52"
                    ],
                    "font": {
                      "color": "#2a3f5f"
                    },
                    "geo": {
                      "bgcolor": "white",
                      "lakecolor": "white",
                      "landcolor": "#E5ECF6",
                      "showlakes": true,
                      "showland": true,
                      "subunitcolor": "white"
                    },
                    "hoverlabel": {
                      "align": "left"
                    },
                    "hovermode": "closest",
                    "mapbox": {
                      "style": "light"
                    },
                    "paper_bgcolor": "white",
                    "plot_bgcolor": "#E5ECF6",
                    "polar": {
                      "angularaxis": {
                        "gridcolor": "white",
                        "linecolor": "white",
                        "ticks": ""
                      },
                      "bgcolor": "#E5ECF6",
                      "radialaxis": {
                        "gridcolor": "white",
                        "linecolor": "white",
                        "ticks": ""
                      }
                    },
                    "scene": {
                      "xaxis": {
                        "backgroundcolor": "#E5ECF6",
                        "gridcolor": "white",
                        "gridwidth": 2,
                        "linecolor": "white",
                        "showbackground": true,
                        "ticks": "",
                        "zerolinecolor": "white"
                      },
                      "yaxis": {
                        "backgroundcolor": "#E5ECF6",
                        "gridcolor": "white",
                        "gridwidth": 2,
                        "linecolor": "white",
                        "showbackground": true,
                        "ticks": "",
                        "zerolinecolor": "white"
                      },
                      "zaxis": {
                        "backgroundcolor": "#E5ECF6",
                        "gridcolor": "white",
                        "gridwidth": 2,
                        "linecolor": "white",
                        "showbackground": true,
                        "ticks": "",
                        "zerolinecolor": "white"
                      }
                    },
                    "shapedefaults": {
                      "line": {
                        "color": "#2a3f5f"
                      }
                    },
                    "ternary": {
                      "aaxis": {
                        "gridcolor": "white",
                        "linecolor": "white",
                        "ticks": ""
                      },
                      "baxis": {
                        "gridcolor": "white",
                        "linecolor": "white",
                        "ticks": ""
                      },
                      "bgcolor": "#E5ECF6",
                      "caxis": {
                        "gridcolor": "white",
                        "linecolor": "white",
                        "ticks": ""
                      }
                    },
                    "title": {
                      "x": 0.05
                    },
                    "xaxis": {
                      "automargin": true,
                      "gridcolor": "white",
                      "linecolor": "white",
                      "ticks": "",
                      "title": {
                        "standoff": 15
                      },
                      "zerolinecolor": "white",
                      "zerolinewidth": 2
                    },
                    "yaxis": {
                      "automargin": true,
                      "gridcolor": "white",
                      "linecolor": "white",
                      "ticks": "",
                      "title": {
                        "standoff": 15
                      },
                      "zerolinecolor": "white",
                      "zerolinewidth": 2
                    }
                  }
                }
              }
            }
          },
          "metadata": {},
          "output_type": "display_data"
        }
      ],
      "source": [
        "fig=px.sunburst(df,path=['gender','target'],color='target',, title=f'Proporsi Target Berdasarkan gender')\n",
        "fig.show()"
      ]
    },
    {
      "cell_type": "code",
      "execution_count": null,
      "metadata": {
        "id": "vLs6IQWHc476",
        "outputId": "b4d5146e-f59e-44d5-f16e-18dddd85e9c8"
      },
      "outputs": [
        {
          "name": "stdout",
          "output_type": "stream",
          "text": [
            "Tolak Ho\n"
          ]
        }
      ],
      "source": [
        "df_ct= pd.crosstab(df['gender'],df['target'])\n",
        "score, pval, dof,exp=chi2_contingency(df_ct)\n",
        "if pval<=0.05:\n",
        "    print('Tolak Ho')\n",
        "else:\n",
        "    print('Gagal menolak Ho')"
      ]
    },
    {
      "cell_type": "markdown",
      "metadata": {
        "id": "Y21S6cvRc476"
      },
      "source": [
        "Dari grafik, kita bisa melihat bahwa mayoritas dari kandidat memiliki gender *male*, tetapi secara proporsi, gender *male* justru memiliki minat pindah kerja paling rendah, dibanding gender *female* dan *other*. Hasil uji dengan *chi square* juga mengkonfirmasi bahwa gender memiliki pengaruh terhadap minat kandidat untuk pindah kerja."
      ]
    },
    {
      "cell_type": "markdown",
      "metadata": {
        "id": "gEKlP0CLc477"
      },
      "source": [
        "# Kesimpulan dan Rekomendasi\n",
        "\n",
        "Dari analisis yang telah dilakukan, kita bisa membuat kesilpulan berikut tetang kandidat yang ingin direkrut:\n",
        "* Dari 19,158 data yang kita miliki, hanya 4421 data berasal dari kandidat yang berminat untuk pindah kerja.\n",
        "* Kandidat paling banyak berasal dari city_103 dan city_21\n",
        "* Kebanyakan kandidat sedang tidak berkuliah, merupakan lulusan jurusan STEM dengan tingkat pendidikan *graduate*\n",
        "* berdasarkan pengalaman bekerja, kebanyakan kandidat memiliki pengalaman kerja yang berhubungan dengan data dan pengalaman kerja lebih dari 20 tahun.\n",
        "* Mayoritas kandidat berasal dari perusahaan swasta (Pvt Ltd) dan perushaan kecil (50-500 karyawan)\n",
        "* Kebanyakan kandidat memiliki gender *male*\n",
        "\n",
        "\n",
        "Karakteristik kandidat yang ingin pindah pekerjaan, terutama dibandingkan peserta yang tidak ingin pindah bekerja, adalah sebagai berikut:\n",
        "\n",
        "* Mayoritas berasal dari city_21, secara keseluruhan, berasal dari kota dengan CDI lebih rendah dibanding yang berminat pindah.\n",
        "* Biasanya sedang berkuliah full time dan memiliki tingkat pendidikan *graduate*\n",
        "* baru lulus atau baru pindah tempat kerja (~1 tahun) dengan total pengalaman kerja sedang (3-6 tahun) dan pengalaman  yang kurang relevan dengan data science.\n",
        "* Gender *female* atau *other*"
      ]
    },
    {
      "cell_type": "markdown",
      "metadata": {
        "id": "G_RiImXGc478"
      },
      "source": [
        "**Rekomendasi**\n",
        "1. Perekrutan bisa dilakukan lebih aktif di kota-kota dengan CDI yg lebih rendah (0.7, dibanding 0.9). City_21 bisa menjadi salah satu kota yang diutamakan dalam perekrutan.\n",
        "    * Akan lebih baik apabila kita bisa menambahkan data kandidat dari kota selain city_103 dan city_21 untuk memastikan bahwa kesimpulan di atas valid\n",
        "2. Utamakan kandidat yang baru/akan lulus, dengan tingkat pendidikan *graduate*, dari jurusan apa saja.\n",
        "3. Cari kandidat yang belum lama pindah kerja\n",
        "    * Akan lebih baik kita melakukan analisis lebih mendalam pada kelompok ini, kenapa mereka ingin pindah kerja lagi, karena tentunya kita ingin karyawan yang nantinya akan bekerja cukup lama di perusahaan kita.\n",
        "4. Fokus pada kandidat yang sedang ada di fase awal-menengah pada karirnya (3-6 tahun pengalaman kerja)\n",
        "5. Beri kesempatan pada kandidat yang tidak punya pengalaman yang relevan.\n",
        "6. Jangan jadikan gender sebagai syarat perekrutan.\n",
        "\n",
        "Dengan mempersempit *pool* perekrutan kandidat, diharapkan analisis ini bisa membantu perusahaan untuk mengurangi ongkos dan waktu training, meningkatkan kualitas dan membantu dalam mengelompokkan kandidat dalam training."
      ]
    },
    {
      "cell_type": "code",
      "execution_count": null,
      "metadata": {
        "id": "h5wIM28Kc478"
      },
      "outputs": [],
      "source": []
    }
  ],
  "metadata": {
    "interpreter": {
      "hash": "80958af0b2c7e30a8333934f9c7842f006b76b43d0e26bb185679ef48b27f628"
    },
    "kernelspec": {
      "display_name": "Python 3.8.3 ('base')",
      "language": "python",
      "name": "python3"
    },
    "language_info": {
      "codemirror_mode": {
        "name": "ipython",
        "version": 3
      },
      "file_extension": ".py",
      "mimetype": "text/x-python",
      "name": "python",
      "nbconvert_exporter": "python",
      "pygments_lexer": "ipython3",
      "version": "3.8.3"
    },
    "orig_nbformat": 4,
    "colab": {
      "provenance": [],
      "toc_visible": true,
      "include_colab_link": true
    }
  },
  "nbformat": 4,
  "nbformat_minor": 0
}